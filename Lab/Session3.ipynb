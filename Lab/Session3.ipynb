{
 "cells": [
  {
   "cell_type": "markdown",
   "metadata": {},
   "source": [
    "## Shortcuts:\n",
    "* Shift + Enter\n",
    "* a, b, dd, [x, c & v]\n",
    "* Tab-completion\n",
    "* Question mark (?)\n",
    "* package.module.function"
   ]
  },
  {
   "cell_type": "code",
   "execution_count": 63,
   "metadata": {
    "collapsed": false
   },
   "outputs": [
    {
     "name": "stdout",
     "output_type": "stream",
     "text": [
      "Populating the interactive namespace from numpy and matplotlib\n"
     ]
    }
   ],
   "source": [
    "import numpy as np\n",
    "import pandas as pd\n",
    "import matplotlib.pyplot as plt\n",
    "%pylab inline\n",
    "import statsmodels.formula.api as smf\n",
    "from mpl_toolkits.mplot3d import Axes3D  # for 3D plot\n",
    "\n",
    "path = 'C:\\\\Users\\\\fomyt\\\\Documents\\\\ADS_Fall2016\\\\Notebook'"
   ]
  },
  {
   "cell_type": "markdown",
   "metadata": {},
   "source": [
    "# Example 1, basics\n",
    "\n",
    "## Data drawn from $ y = 3x_1 - x_2 - 11 + \\epsilon$ , where $\\space \\epsilon \\sim \\mathscr{N}(0,3^2)$"
   ]
  },
  {
   "cell_type": "code",
   "execution_count": 64,
   "metadata": {
    "collapsed": false
   },
   "outputs": [
    {
     "data": {
      "text/html": [
       "<div>\n",
       "<table border=\"1\" class=\"dataframe\">\n",
       "  <thead>\n",
       "    <tr style=\"text-align: right;\">\n",
       "      <th></th>\n",
       "      <th>x1</th>\n",
       "      <th>x2</th>\n",
       "      <th>y</th>\n",
       "    </tr>\n",
       "  </thead>\n",
       "  <tbody>\n",
       "    <tr>\n",
       "      <th>0</th>\n",
       "      <td>1.964692</td>\n",
       "      <td>-2.138607</td>\n",
       "      <td>-5.605927</td>\n",
       "    </tr>\n",
       "    <tr>\n",
       "      <th>1</th>\n",
       "      <td>-2.731485</td>\n",
       "      <td>0.513148</td>\n",
       "      <td>-18.856722</td>\n",
       "    </tr>\n",
       "    <tr>\n",
       "      <th>2</th>\n",
       "      <td>2.194690</td>\n",
       "      <td>-0.768935</td>\n",
       "      <td>-6.063095</td>\n",
       "    </tr>\n",
       "    <tr>\n",
       "      <th>3</th>\n",
       "      <td>4.807642</td>\n",
       "      <td>1.848297</td>\n",
       "      <td>-3.608380</td>\n",
       "    </tr>\n",
       "    <tr>\n",
       "      <th>4</th>\n",
       "      <td>-0.190681</td>\n",
       "      <td>-1.078825</td>\n",
       "      <td>-11.665918</td>\n",
       "    </tr>\n",
       "  </tbody>\n",
       "</table>\n",
       "</div>"
      ],
      "text/plain": [
       "         x1        x2          y\n",
       "0  1.964692 -2.138607  -5.605927\n",
       "1 -2.731485  0.513148 -18.856722\n",
       "2  2.194690 -0.768935  -6.063095\n",
       "3  4.807642  1.848297  -3.608380\n",
       "4 -0.190681 -1.078825 -11.665918"
      ]
     },
     "execution_count": 64,
     "metadata": {},
     "output_type": "execute_result"
    }
   ],
   "source": [
    "data1 = pd.read_csv(path + '\\\\Example1.csv')\n",
    "data1.head()"
   ]
  },
  {
   "cell_type": "code",
   "execution_count": 117,
   "metadata": {
    "collapsed": false
   },
   "outputs": [
    {
     "name": "stdout",
     "output_type": "stream",
     "text": [
      "R2 = 0.776112\n",
      "Intercept   -10.104985\n",
      "x1            2.676798\n",
      "x2           -0.706135\n",
      "dtype: float64\n"
     ]
    }
   ],
   "source": [
    "#Q1. Use statsmodels to regress y over x1 and x2, provide the r-squared and coefficients\n",
    "\n",
    "lm1 = smf.ols(formula = 'y ~ x1 + x2', data = data1).fit()\n",
    "print('R2 = %f'%lm1.rsquared)\n",
    "print(lm1.params)"
   ]
  },
  {
   "cell_type": "code",
   "execution_count": 66,
   "metadata": {
    "collapsed": true
   },
   "outputs": [],
   "source": [
    "#Q2. Create a new column x0 for intercept, set the values to 1\n",
    "\n",
    "data1['x0'] = 1"
   ]
  },
  {
   "cell_type": "markdown",
   "metadata": {},
   "source": [
    "#### $$\\hat{w}=\\left(X^T X\\right )^{-1}X^T Y. \\hspace{5ex} $$"
   ]
  },
  {
   "cell_type": "code",
   "execution_count": 67,
   "metadata": {
    "collapsed": false
   },
   "outputs": [
    {
     "name": "stdout",
     "output_type": "stream",
     "text": [
      "[[-10.10498527]\n",
      " [  2.67679769]\n",
      " [ -0.70613511]]\n"
     ]
    }
   ],
   "source": [
    "#Q3. Create X and Y in matrix form then use matrix computation formula to calculate the coefficients\n",
    "\n",
    "X = np.matrix(data1.loc[:,['x0','x1','x2']])\n",
    "Y = np.mat(data1.y).T\n",
    "w = (X.T * X).I * X.T * Y\n",
    "print(w)"
   ]
  },
  {
   "cell_type": "code",
   "execution_count": 68,
   "metadata": {
    "collapsed": false
   },
   "outputs": [
    {
     "data": {
      "text/html": [
       "<div>\n",
       "<table border=\"1\" class=\"dataframe\">\n",
       "  <thead>\n",
       "    <tr style=\"text-align: right;\">\n",
       "      <th></th>\n",
       "      <th>MatrixComputation</th>\n",
       "      <th>Regression</th>\n",
       "      <th>TrueValue</th>\n",
       "    </tr>\n",
       "  </thead>\n",
       "  <tbody>\n",
       "    <tr>\n",
       "      <th>Intercept</th>\n",
       "      <td>[-10.1049852733]</td>\n",
       "      <td>-10.104985</td>\n",
       "      <td>-11</td>\n",
       "    </tr>\n",
       "    <tr>\n",
       "      <th>x1</th>\n",
       "      <td>[2.67679768576]</td>\n",
       "      <td>2.676798</td>\n",
       "      <td>3</td>\n",
       "    </tr>\n",
       "    <tr>\n",
       "      <th>x2</th>\n",
       "      <td>[-0.706135109154]</td>\n",
       "      <td>-0.706135</td>\n",
       "      <td>-1</td>\n",
       "    </tr>\n",
       "  </tbody>\n",
       "</table>\n",
       "</div>"
      ],
      "text/plain": [
       "           MatrixComputation  Regression  TrueValue\n",
       "Intercept   [-10.1049852733]  -10.104985        -11\n",
       "x1           [2.67679768576]    2.676798          3\n",
       "x2         [-0.706135109154]   -0.706135         -1"
      ]
     },
     "execution_count": 68,
     "metadata": {},
     "output_type": "execute_result"
    }
   ],
   "source": [
    "#Q4. Compare the coefficients obtained through different methods\n",
    "\n",
    "trueCoef = [-11, 3, -1]\n",
    "pd.DataFrame({'MatrixComputation':w.tolist(), 'Regression':lm1.params, 'TrueValue':trueCoef})\n",
    "# First create a dict object, claiming the labels and respective data, then convert it to a data frame"
   ]
  },
  {
   "cell_type": "code",
   "execution_count": 69,
   "metadata": {
    "collapsed": false
   },
   "outputs": [
    {
     "data": {
      "text/html": [
       "<div>\n",
       "<table border=\"1\" class=\"dataframe\">\n",
       "  <thead>\n",
       "    <tr style=\"text-align: right;\">\n",
       "      <th></th>\n",
       "      <th>x1</th>\n",
       "      <th>x2</th>\n",
       "      <th>y</th>\n",
       "      <th>x0</th>\n",
       "    </tr>\n",
       "  </thead>\n",
       "  <tbody>\n",
       "    <tr>\n",
       "      <th>count</th>\n",
       "      <td>20.000000</td>\n",
       "      <td>20.000000</td>\n",
       "      <td>20.000000</td>\n",
       "      <td>20.0</td>\n",
       "    </tr>\n",
       "    <tr>\n",
       "      <th>mean</th>\n",
       "      <td>0.027218</td>\n",
       "      <td>-0.075481</td>\n",
       "      <td>-9.978829</td>\n",
       "      <td>1.0</td>\n",
       "    </tr>\n",
       "    <tr>\n",
       "      <th>std</th>\n",
       "      <td>2.397628</td>\n",
       "      <td>2.247203</td>\n",
       "      <td>7.251472</td>\n",
       "      <td>0.0</td>\n",
       "    </tr>\n",
       "    <tr>\n",
       "      <th>min</th>\n",
       "      <td>-4.078951</td>\n",
       "      <td>-4.403221</td>\n",
       "      <td>-24.968052</td>\n",
       "      <td>1.0</td>\n",
       "    </tr>\n",
       "    <tr>\n",
       "      <th>25%</th>\n",
       "      <td>-1.428640</td>\n",
       "      <td>-1.797155</td>\n",
       "      <td>-14.739759</td>\n",
       "      <td>1.0</td>\n",
       "    </tr>\n",
       "    <tr>\n",
       "      <th>50%</th>\n",
       "      <td>-0.652825</td>\n",
       "      <td>-0.022391</td>\n",
       "      <td>-9.617834</td>\n",
       "      <td>1.0</td>\n",
       "    </tr>\n",
       "    <tr>\n",
       "      <th>75%</th>\n",
       "      <td>2.022191</td>\n",
       "      <td>1.444395</td>\n",
       "      <td>-6.344681</td>\n",
       "      <td>1.0</td>\n",
       "    </tr>\n",
       "    <tr>\n",
       "      <th>max</th>\n",
       "      <td>4.807642</td>\n",
       "      <td>3.933892</td>\n",
       "      <td>7.571092</td>\n",
       "      <td>1.0</td>\n",
       "    </tr>\n",
       "  </tbody>\n",
       "</table>\n",
       "</div>"
      ],
      "text/plain": [
       "              x1         x2          y    x0\n",
       "count  20.000000  20.000000  20.000000  20.0\n",
       "mean    0.027218  -0.075481  -9.978829   1.0\n",
       "std     2.397628   2.247203   7.251472   0.0\n",
       "min    -4.078951  -4.403221 -24.968052   1.0\n",
       "25%    -1.428640  -1.797155 -14.739759   1.0\n",
       "50%    -0.652825  -0.022391  -9.617834   1.0\n",
       "75%     2.022191   1.444395  -6.344681   1.0\n",
       "max     4.807642   3.933892   7.571092   1.0"
      ]
     },
     "execution_count": 69,
     "metadata": {},
     "output_type": "execute_result"
    }
   ],
   "source": [
    "#Q5. Find the range (max/min) of the variables x1 and x2, then plot the observations and the prediction plane in a 3D plot\n",
    "data1.describe()"
   ]
  },
  {
   "cell_type": "code",
   "execution_count": 70,
   "metadata": {
    "collapsed": false
   },
   "outputs": [
    {
     "data": {
      "image/png": "[encoded data removed]",
      "text/plain": [
       "<matplotlib.figure.Figure at 0xc7dea58>"
      ]
     },
     "metadata": {},
     "output_type": "display_data"
    }
   ],
   "source": [
    "fig = plt.figure(figsize = (12,10))  # Create a plot with customized figure size (width, height)\n",
    "ax = fig.gca(projection='3d')  # Extract the axis for further operations\n",
    "ax.scatter(data1.x1, data1.x2, data1.y, s = 100,  c = 'r')\n",
    "# Scatter plot, \"c\" stands for color, and \"s\" determines the marker size\n",
    "\n",
    "# Generate coordinates for hyperplane\n",
    "xx, yy = np.meshgrid(range(-5,5), range(-5,5))\n",
    "zz = lm1.params[0] + lm1.params[1] * xx + lm1.params[2] * yy\n",
    "\n",
    "# alpha (between 0 and 1) controls the transparency with 0 being totally transparent\n",
    "ax.plot_surface(xx, yy, zz, color='b', alpha = 0.4)\n",
    "# Set labels and fontsize\n",
    "ax.set_xlabel('$x_1$', fontsize = 20)\n",
    "ax.set_ylabel('$x_2$', fontsize = 20)\n",
    "ax.set_zlabel('$y$', fontsize = 20)\n",
    "\n",
    "ax.view_init(azim = 60)   # Controls the viewing angle"
   ]
  },
  {
   "cell_type": "markdown",
   "metadata": {},
   "source": [
    "# Example 2, car price"
   ]
  },
  {
   "cell_type": "markdown",
   "metadata": {},
   "source": [
    "**VARIABLE DESCRIPTIONS:**\n",
    "* Price: suggested retail price of the used 2005 GM car in excellent condition. The condition of a car can greatly affect price. All cars in this data set were less than one year old when priced and considered to be in excellent condition. \n",
    "* Mileage: number of miles the car has been driven\n",
    "* Make: manufacturer of the car such as Saturn, Pontiac, and Chevrolet\n",
    "* Model: specific models for each car manufacturer such as Ion, Vibe, Cavalier\n",
    "* Cylinder: number of cylinders in the engine\t\n",
    "* Liter: a more specific measure of engine size\t\n",
    "* Doors: number of doors\t\n",
    "* Cruise: indicator variable representing whether the car has cruise control (1 = cruise)\n",
    "* Sound: indicator variable representing whether the car has upgraded speakers (1 = upgraded)\n",
    "* Leather: indicator variable representing whether the car has leather seats (1 = leather)"
   ]
  },
  {
   "cell_type": "code",
   "execution_count": 108,
   "metadata": {
    "collapsed": false
   },
   "outputs": [
    {
     "data": {
      "text/html": [
       "<div>\n",
       "<table border=\"1\" class=\"dataframe\">\n",
       "  <thead>\n",
       "    <tr style=\"text-align: right;\">\n",
       "      <th></th>\n",
       "      <th>Price</th>\n",
       "      <th>Mileage</th>\n",
       "      <th>Make</th>\n",
       "      <th>Model</th>\n",
       "      <th>Trim</th>\n",
       "      <th>Type</th>\n",
       "      <th>Cylinder</th>\n",
       "      <th>Liter</th>\n",
       "      <th>Doors</th>\n",
       "      <th>Cruise</th>\n",
       "      <th>Sound</th>\n",
       "      <th>Leather</th>\n",
       "    </tr>\n",
       "  </thead>\n",
       "  <tbody>\n",
       "    <tr>\n",
       "      <th>0</th>\n",
       "      <td>17314.103129</td>\n",
       "      <td>8221</td>\n",
       "      <td>Buick</td>\n",
       "      <td>Century</td>\n",
       "      <td>Sedan 4D</td>\n",
       "      <td>Sedan</td>\n",
       "      <td>6</td>\n",
       "      <td>3.1</td>\n",
       "      <td>4</td>\n",
       "      <td>1</td>\n",
       "      <td>1</td>\n",
       "      <td>1</td>\n",
       "    </tr>\n",
       "    <tr>\n",
       "      <th>1</th>\n",
       "      <td>17542.036083</td>\n",
       "      <td>9135</td>\n",
       "      <td>Buick</td>\n",
       "      <td>Century</td>\n",
       "      <td>Sedan 4D</td>\n",
       "      <td>Sedan</td>\n",
       "      <td>6</td>\n",
       "      <td>3.1</td>\n",
       "      <td>4</td>\n",
       "      <td>1</td>\n",
       "      <td>1</td>\n",
       "      <td>0</td>\n",
       "    </tr>\n",
       "    <tr>\n",
       "      <th>2</th>\n",
       "      <td>16218.847862</td>\n",
       "      <td>13196</td>\n",
       "      <td>Buick</td>\n",
       "      <td>Century</td>\n",
       "      <td>Sedan 4D</td>\n",
       "      <td>Sedan</td>\n",
       "      <td>6</td>\n",
       "      <td>3.1</td>\n",
       "      <td>4</td>\n",
       "      <td>1</td>\n",
       "      <td>1</td>\n",
       "      <td>0</td>\n",
       "    </tr>\n",
       "    <tr>\n",
       "      <th>3</th>\n",
       "      <td>16336.913140</td>\n",
       "      <td>16342</td>\n",
       "      <td>Buick</td>\n",
       "      <td>Century</td>\n",
       "      <td>Sedan 4D</td>\n",
       "      <td>Sedan</td>\n",
       "      <td>6</td>\n",
       "      <td>3.1</td>\n",
       "      <td>4</td>\n",
       "      <td>1</td>\n",
       "      <td>0</td>\n",
       "      <td>0</td>\n",
       "    </tr>\n",
       "    <tr>\n",
       "      <th>4</th>\n",
       "      <td>16339.170324</td>\n",
       "      <td>19832</td>\n",
       "      <td>Buick</td>\n",
       "      <td>Century</td>\n",
       "      <td>Sedan 4D</td>\n",
       "      <td>Sedan</td>\n",
       "      <td>6</td>\n",
       "      <td>3.1</td>\n",
       "      <td>4</td>\n",
       "      <td>1</td>\n",
       "      <td>0</td>\n",
       "      <td>1</td>\n",
       "    </tr>\n",
       "  </tbody>\n",
       "</table>\n",
       "</div>"
      ],
      "text/plain": [
       "          Price  Mileage   Make    Model      Trim   Type  Cylinder  Liter  \\\n",
       "0  17314.103129     8221  Buick  Century  Sedan 4D  Sedan         6    3.1   \n",
       "1  17542.036083     9135  Buick  Century  Sedan 4D  Sedan         6    3.1   \n",
       "2  16218.847862    13196  Buick  Century  Sedan 4D  Sedan         6    3.1   \n",
       "3  16336.913140    16342  Buick  Century  Sedan 4D  Sedan         6    3.1   \n",
       "4  16339.170324    19832  Buick  Century  Sedan 4D  Sedan         6    3.1   \n",
       "\n",
       "   Doors  Cruise  Sound  Leather  \n",
       "0      4       1      1        1  \n",
       "1      4       1      1        0  \n",
       "2      4       1      1        0  \n",
       "3      4       1      0        0  \n",
       "4      4       1      0        1  "
      ]
     },
     "execution_count": 108,
     "metadata": {},
     "output_type": "execute_result"
    }
   ],
   "source": [
    "data2 = pd.read_excel(path + '\\\\Car.xls')\n",
    "data2.head()"
   ]
  },
  {
   "cell_type": "code",
   "execution_count": 109,
   "metadata": {
    "collapsed": true
   },
   "outputs": [],
   "source": [
    "#Q1. Check the correlation matrix, see if there's multicolinearity"
   ]
  },
  {
   "cell_type": "code",
   "execution_count": 110,
   "metadata": {
    "collapsed": false
   },
   "outputs": [
    {
     "data": {
      "text/html": [
       "<div>\n",
       "<table border=\"1\" class=\"dataframe\">\n",
       "  <thead>\n",
       "    <tr style=\"text-align: right;\">\n",
       "      <th></th>\n",
       "      <th>Price</th>\n",
       "      <th>Mileage</th>\n",
       "      <th>Cylinder</th>\n",
       "      <th>Liter</th>\n",
       "      <th>Doors</th>\n",
       "      <th>Cruise</th>\n",
       "      <th>Sound</th>\n",
       "      <th>Leather</th>\n",
       "    </tr>\n",
       "  </thead>\n",
       "  <tbody>\n",
       "    <tr>\n",
       "      <th>Price</th>\n",
       "      <td>1.000000</td>\n",
       "      <td>-0.143051</td>\n",
       "      <td>0.569086</td>\n",
       "      <td>0.558146</td>\n",
       "      <td>-0.138750</td>\n",
       "      <td>0.430851</td>\n",
       "      <td>-0.124348</td>\n",
       "      <td>0.157197</td>\n",
       "    </tr>\n",
       "    <tr>\n",
       "      <th>Mileage</th>\n",
       "      <td>-0.143051</td>\n",
       "      <td>1.000000</td>\n",
       "      <td>-0.029461</td>\n",
       "      <td>-0.018641</td>\n",
       "      <td>-0.016944</td>\n",
       "      <td>0.025037</td>\n",
       "      <td>-0.026146</td>\n",
       "      <td>0.001005</td>\n",
       "    </tr>\n",
       "    <tr>\n",
       "      <th>Cylinder</th>\n",
       "      <td>0.569086</td>\n",
       "      <td>-0.029461</td>\n",
       "      <td>1.000000</td>\n",
       "      <td>0.957897</td>\n",
       "      <td>0.002206</td>\n",
       "      <td>0.354285</td>\n",
       "      <td>-0.089704</td>\n",
       "      <td>0.075520</td>\n",
       "    </tr>\n",
       "    <tr>\n",
       "      <th>Liter</th>\n",
       "      <td>0.558146</td>\n",
       "      <td>-0.018641</td>\n",
       "      <td>0.957897</td>\n",
       "      <td>1.000000</td>\n",
       "      <td>-0.079259</td>\n",
       "      <td>0.377509</td>\n",
       "      <td>-0.065527</td>\n",
       "      <td>0.087332</td>\n",
       "    </tr>\n",
       "    <tr>\n",
       "      <th>Doors</th>\n",
       "      <td>-0.138750</td>\n",
       "      <td>-0.016944</td>\n",
       "      <td>0.002206</td>\n",
       "      <td>-0.079259</td>\n",
       "      <td>1.000000</td>\n",
       "      <td>-0.047674</td>\n",
       "      <td>-0.062530</td>\n",
       "      <td>-0.061969</td>\n",
       "    </tr>\n",
       "    <tr>\n",
       "      <th>Cruise</th>\n",
       "      <td>0.430851</td>\n",
       "      <td>0.025037</td>\n",
       "      <td>0.354285</td>\n",
       "      <td>0.377509</td>\n",
       "      <td>-0.047674</td>\n",
       "      <td>1.000000</td>\n",
       "      <td>-0.091730</td>\n",
       "      <td>-0.070573</td>\n",
       "    </tr>\n",
       "    <tr>\n",
       "      <th>Sound</th>\n",
       "      <td>-0.124348</td>\n",
       "      <td>-0.026146</td>\n",
       "      <td>-0.089704</td>\n",
       "      <td>-0.065527</td>\n",
       "      <td>-0.062530</td>\n",
       "      <td>-0.091730</td>\n",
       "      <td>1.000000</td>\n",
       "      <td>0.165444</td>\n",
       "    </tr>\n",
       "    <tr>\n",
       "      <th>Leather</th>\n",
       "      <td>0.157197</td>\n",
       "      <td>0.001005</td>\n",
       "      <td>0.075520</td>\n",
       "      <td>0.087332</td>\n",
       "      <td>-0.061969</td>\n",
       "      <td>-0.070573</td>\n",
       "      <td>0.165444</td>\n",
       "      <td>1.000000</td>\n",
       "    </tr>\n",
       "  </tbody>\n",
       "</table>\n",
       "</div>"
      ],
      "text/plain": [
       "             Price   Mileage  Cylinder     Liter     Doors    Cruise  \\\n",
       "Price     1.000000 -0.143051  0.569086  0.558146 -0.138750  0.430851   \n",
       "Mileage  -0.143051  1.000000 -0.029461 -0.018641 -0.016944  0.025037   \n",
       "Cylinder  0.569086 -0.029461  1.000000  0.957897  0.002206  0.354285   \n",
       "Liter     0.558146 -0.018641  0.957897  1.000000 -0.079259  0.377509   \n",
       "Doors    -0.138750 -0.016944  0.002206 -0.079259  1.000000 -0.047674   \n",
       "Cruise    0.430851  0.025037  0.354285  0.377509 -0.047674  1.000000   \n",
       "Sound    -0.124348 -0.026146 -0.089704 -0.065527 -0.062530 -0.091730   \n",
       "Leather   0.157197  0.001005  0.075520  0.087332 -0.061969 -0.070573   \n",
       "\n",
       "             Sound   Leather  \n",
       "Price    -0.124348  0.157197  \n",
       "Mileage  -0.026146  0.001005  \n",
       "Cylinder -0.089704  0.075520  \n",
       "Liter    -0.065527  0.087332  \n",
       "Doors    -0.062530 -0.061969  \n",
       "Cruise   -0.091730 -0.070573  \n",
       "Sound     1.000000  0.165444  \n",
       "Leather   0.165444  1.000000  "
      ]
     },
     "execution_count": 110,
     "metadata": {},
     "output_type": "execute_result"
    }
   ],
   "source": [
    "data2.corr()"
   ]
  },
  {
   "cell_type": "markdown",
   "metadata": {},
   "source": [
    "**Cylinder** and **Liter**: 0.96"
   ]
  },
  {
   "cell_type": "code",
   "execution_count": 111,
   "metadata": {
    "collapsed": true
   },
   "outputs": [],
   "source": [
    "#Q2. Ignore \"Make, Model, and Cylinder\", simply regress the Price over the others, see how well this model is"
   ]
  },
  {
   "cell_type": "code",
   "execution_count": 112,
   "metadata": {
    "collapsed": false
   },
   "outputs": [
    {
     "data": {
      "text/plain": [
       "u'Liter + Doors + Cruise + Sound + Leather'"
      ]
     },
     "execution_count": 112,
     "metadata": {},
     "output_type": "execute_result"
    }
   ],
   "source": [
    "# Small trick of writing the formula, no need to write them all manually\n",
    "' + '.join(data2.columns[7:])"
   ]
  },
  {
   "cell_type": "code",
   "execution_count": 113,
   "metadata": {
    "collapsed": false
   },
   "outputs": [
    {
     "name": "stdout",
     "output_type": "stream",
     "text": [
      "                            OLS Regression Results                            \n",
      "==============================================================================\n",
      "Dep. Variable:                  Price   R-squared:                       0.425\n",
      "Model:                            OLS   Adj. R-squared:                  0.420\n",
      "Method:                 Least Squares   F-statistic:                     98.11\n",
      "Date:                Wed, 14 Sep 2016   Prob (F-statistic):           2.77e-92\n",
      "Time:                        18:34:38   Log-Likelihood:                -8313.8\n",
      "No. Observations:                 804   AIC:                         1.664e+04\n",
      "Df Residuals:                     797   BIC:                         1.667e+04\n",
      "Df Model:                           6                                         \n",
      "Covariance Type:            nonrobust                                         \n",
      "==============================================================================\n",
      "                 coef    std err          t      P>|t|      [95.0% Conf. Int.]\n",
      "------------------------------------------------------------------------------\n",
      "Intercept    1.15e+04   1702.513      6.754      0.000      8156.325  1.48e+04\n",
      "Mileage       -0.1765      0.032     -5.441      0.000        -0.240    -0.113\n",
      "Liter       3808.4973    262.421     14.513      0.000      3293.380  4323.614\n",
      "Doors      -1068.0836    314.560     -3.395      0.001     -1685.548  -450.619\n",
      "Cruise      6186.1926    669.921      9.234      0.000      4871.175  7501.210\n",
      "Sound      -2247.6794    580.506     -3.872      0.000     -3387.181 -1108.178\n",
      "Leather     3338.6698    608.755      5.484      0.000      2143.718  4533.622\n",
      "==============================================================================\n",
      "Omnibus:                      205.918   Durbin-Watson:                   0.298\n",
      "Prob(Omnibus):                  0.000   Jarque-Bera (JB):              516.499\n",
      "Skew:                           1.327   Prob(JB):                    6.98e-113\n",
      "Kurtosis:                       5.894   Cond. No.                     1.41e+05\n",
      "==============================================================================\n",
      "\n",
      "Warnings:\n",
      "[1] Standard Errors assume that the covariance matrix of the errors is correctly specified.\n",
      "[2] The condition number is large, 1.41e+05. This might indicate that there are\n",
      "strong multicollinearity or other numerical problems.\n"
     ]
    }
   ],
   "source": [
    "lm2 = smf.ols(formula = 'Price ~ Mileage + ' + ' + '.join(data2.columns[7:]), data = data2).fit()\n",
    "print(lm2.summary())"
   ]
  },
  {
   "cell_type": "code",
   "execution_count": 114,
   "metadata": {
    "collapsed": false
   },
   "outputs": [
    {
     "name": "stdout",
     "output_type": "stream",
     "text": [
      "                            OLS Regression Results                            \n",
      "==============================================================================\n",
      "Dep. Variable:                  Price   R-squared:                       0.446\n",
      "Model:                            OLS   Adj. R-squared:                  0.441\n",
      "Method:                 Least Squares   F-statistic:                     91.64\n",
      "Date:                Wed, 14 Sep 2016   Prob (F-statistic):           8.80e-98\n",
      "Time:                        18:34:38   Log-Likelihood:                -8298.5\n",
      "No. Observations:                 804   AIC:                         1.661e+04\n",
      "Df Residuals:                     796   BIC:                         1.665e+04\n",
      "Df Model:                           7                                         \n",
      "Covariance Type:            nonrobust                                         \n",
      "==============================================================================\n",
      "                 coef    std err          t      P>|t|      [95.0% Conf. Int.]\n",
      "------------------------------------------------------------------------------\n",
      "Intercept   6758.7551   1876.967      3.601      0.000      3074.365  1.04e+04\n",
      "Mileage       -0.1697      0.032     -5.326      0.000        -0.232    -0.107\n",
      "Cylinder    3792.3789    683.180      5.551      0.000      2451.332  5133.426\n",
      "Liter       -787.2207    867.062     -0.908      0.364     -2489.218   914.777\n",
      "Doors      -1542.7458    320.456     -4.814      0.000     -2171.784  -913.708\n",
      "Cruise      6288.9971    657.992      9.558      0.000      4997.392  7580.602\n",
      "Sound      -1993.7953    571.776     -3.487      0.001     -3116.162  -871.429\n",
      "Leather     3349.3616    597.681      5.604      0.000      2176.144  4522.579\n",
      "==============================================================================\n",
      "Omnibus:                      135.077   Durbin-Watson:                   0.310\n",
      "Prob(Omnibus):                  0.000   Jarque-Bera (JB):              226.476\n",
      "Skew:                           1.054   Prob(JB):                     6.63e-50\n",
      "Kurtosis:                       4.523   Cond. No.                     1.61e+05\n",
      "==============================================================================\n",
      "\n",
      "Warnings:\n",
      "[1] Standard Errors assume that the covariance matrix of the errors is correctly specified.\n",
      "[2] The condition number is large, 1.61e+05. This might indicate that there are\n",
      "strong multicollinearity or other numerical problems.\n"
     ]
    }
   ],
   "source": [
    "# For comparison purpose only, we try to include the Cylinder column and see if the result will be significantly improved\n",
    "lm2 = smf.ols(formula = 'Price ~ Mileage + ' + ' + '.join(data2.columns[6:]), data = data2).fit()\n",
    "print(lm2.summary())"
   ]
  },
  {
   "cell_type": "code",
   "execution_count": 115,
   "metadata": {
    "collapsed": false
   },
   "outputs": [
    {
     "data": {
      "text/plain": [
       "array([u'Buick', u'Cadillac', u'Chevrolet', u'Pontiac', u'SAAB', u'Saturn'], dtype=object)"
      ]
     },
     "execution_count": 115,
     "metadata": {},
     "output_type": "execute_result"
    }
   ],
   "source": [
    "#Q3. Common sense tells us that the brand of the car should play an important roles here\n",
    "# Now let's take \"Make\" into consideration, see how important it can be\n",
    "data2.Make.unique()"
   ]
  },
  {
   "cell_type": "code",
   "execution_count": 116,
   "metadata": {
    "collapsed": false
   },
   "outputs": [
    {
     "name": "stdout",
     "output_type": "stream",
     "text": [
      "                            OLS Regression Results                            \n",
      "==============================================================================\n",
      "Dep. Variable:                  Price   R-squared:                       0.879\n",
      "Model:                            OLS   Adj. R-squared:                  0.877\n",
      "Method:                 Least Squares   F-statistic:                     523.0\n",
      "Date:                Wed, 14 Sep 2016   Prob (F-statistic):               0.00\n",
      "Time:                        18:34:38   Log-Likelihood:                -7687.1\n",
      "No. Observations:                 804   AIC:                         1.540e+04\n",
      "Df Residuals:                     792   BIC:                         1.545e+04\n",
      "Df Model:                          11                                         \n",
      "Covariance Type:            nonrobust                                         \n",
      "=====================================================================================\n",
      "                        coef    std err          t      P>|t|      [95.0% Conf. Int.]\n",
      "-------------------------------------------------------------------------------------\n",
      "Intercept          1.532e+04   1055.424     14.518      0.000      1.33e+04  1.74e+04\n",
      "Make[T.Cadillac]    1.61e+04    581.574     27.689      0.000       1.5e+04  1.72e+04\n",
      "Make[T.Chevrolet] -2225.6364    483.221     -4.606      0.000     -3174.181 -1277.092\n",
      "Make[T.Pontiac]   -1787.0224    496.092     -3.602      0.000     -2760.832  -813.213\n",
      "Make[T.SAAB]       1.471e+04    576.029     25.529      0.000      1.36e+04  1.58e+04\n",
      "Make[T.Saturn]    -2271.1324    650.735     -3.490      0.001     -3548.502  -993.762\n",
      "Mileage              -0.1803      0.015    -12.051      0.000        -0.210    -0.151\n",
      "Liter              4528.8463    149.033     30.388      0.000      4236.300  4821.393\n",
      "Doors             -1725.9070    152.296    -11.333      0.000     -2024.858 -1426.955\n",
      "Cruise             -505.2564    346.556     -1.458      0.145     -1185.533   175.021\n",
      "Sound               -33.8597    276.478     -0.122      0.903      -576.575   508.856\n",
      "Leather              45.3299    297.296      0.152      0.879      -538.252   628.911\n",
      "==============================================================================\n",
      "Omnibus:                      396.437   Durbin-Watson:                   0.229\n",
      "Prob(Omnibus):                  0.000   Jarque-Bera (JB):             4321.605\n",
      "Skew:                           1.961   Prob(JB):                         0.00\n",
      "Kurtosis:                      13.659   Cond. No.                     2.30e+05\n",
      "==============================================================================\n",
      "\n",
      "Warnings:\n",
      "[1] Standard Errors assume that the covariance matrix of the errors is correctly specified.\n",
      "[2] The condition number is large, 2.3e+05. This might indicate that there are\n",
      "strong multicollinearity or other numerical problems.\n"
     ]
    }
   ],
   "source": [
    "# Re-run our regression with brands\n",
    "lm2_updated = smf.ols(formula = 'Price ~ Mileage + Make + ' + ' + '.join(data2.columns[7:]), data = data2).fit()\n",
    "print(lm2_updated.summary())"
   ]
  },
  {
   "cell_type": "markdown",
   "metadata": {},
   "source": [
    "A few observations:\n",
    "* $R^2$ increases significantly\n",
    "* Suddenly \"Sound\" and \"Leather\" don't matter anymore, judging by their p-value\n",
    "* Brands do matter"
   ]
  },
  {
   "cell_type": "code",
   "execution_count": null,
   "metadata": {
    "collapsed": true
   },
   "outputs": [],
   "source": []
  },
  {
   "cell_type": "code",
   "execution_count": null,
   "metadata": {
    "collapsed": true
   },
   "outputs": [],
   "source": []
  },
  {
   "cell_type": "code",
   "execution_count": null,
   "metadata": {
    "collapsed": true
   },
   "outputs": [],
   "source": []
  },
  {
   "cell_type": "code",
   "execution_count": null,
   "metadata": {
    "collapsed": true
   },
   "outputs": [],
   "source": []
  },
  {
   "cell_type": "code",
   "execution_count": null,
   "metadata": {
    "collapsed": true
   },
   "outputs": [],
   "source": []
  },
  {
   "cell_type": "code",
   "execution_count": null,
   "metadata": {
    "collapsed": true
   },
   "outputs": [],
   "source": []
  },
  {
   "cell_type": "code",
   "execution_count": null,
   "metadata": {
    "collapsed": true
   },
   "outputs": [],
   "source": []
  },
  {
   "cell_type": "code",
   "execution_count": null,
   "metadata": {
    "collapsed": true
   },
   "outputs": [],
   "source": []
  },
  {
   "cell_type": "code",
   "execution_count": null,
   "metadata": {
    "collapsed": true
   },
   "outputs": [],
   "source": []
  },
  {
   "cell_type": "code",
   "execution_count": null,
   "metadata": {
    "collapsed": true
   },
   "outputs": [],
   "source": []
  }
 ],
 "metadata": {
  "kernelspec": {
   "display_name": "Python [Root]",
   "language": "python",
   "name": "Python [Root]"
  },
  "language_info": {
   "codemirror_mode": {
    "name": "ipython",
    "version": 2
   },
   "file_extension": ".py",
   "mimetype": "text/x-python",
   "name": "python",
   "nbconvert_exporter": "python",
   "pygments_lexer": "ipython2",
   "version": "2.7.12"
  }
 },
 "nbformat": 4,
 "nbformat_minor": 0
}
