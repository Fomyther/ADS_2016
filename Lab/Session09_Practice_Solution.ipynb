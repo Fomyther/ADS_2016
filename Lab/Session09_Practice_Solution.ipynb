{
 "cells": [
  {
   "cell_type": "code",
   "execution_count": 1,
   "metadata": {
    "collapsed": false
   },
   "outputs": [
    {
     "name": "stdout",
     "output_type": "stream",
     "text": [
      "Populating the interactive namespace from numpy and matplotlib\n"
     ]
    }
   ],
   "source": [
    "import numpy as np\n",
    "import pandas as pd\n",
    "import matplotlib.pyplot as plt\n",
    "import statsmodels.formula.api as smf\n",
    "from sklearn.linear_model import LogisticRegression\n",
    "%pylab inline\n",
    "#import shapefile"
   ]
  },
  {
   "cell_type": "code",
   "execution_count": 3,
   "metadata": {
    "collapsed": false
   },
   "outputs": [
    {
     "data": {
      "text/html": [
       "<div>\n",
       "<table border=\"1\" class=\"dataframe\">\n",
       "  <thead>\n",
       "    <tr style=\"text-align: right;\">\n",
       "      <th></th>\n",
       "      <th>Price</th>\n",
       "      <th>Mileage</th>\n",
       "      <th>Make</th>\n",
       "      <th>Cylinder</th>\n",
       "      <th>Liter</th>\n",
       "      <th>Doors</th>\n",
       "      <th>Cruise</th>\n",
       "      <th>Sound</th>\n",
       "      <th>Leather</th>\n",
       "    </tr>\n",
       "  </thead>\n",
       "  <tbody>\n",
       "    <tr>\n",
       "      <th>0</th>\n",
       "      <td>17314.103129</td>\n",
       "      <td>8221</td>\n",
       "      <td>Buick</td>\n",
       "      <td>6</td>\n",
       "      <td>3.1</td>\n",
       "      <td>4</td>\n",
       "      <td>1</td>\n",
       "      <td>1</td>\n",
       "      <td>1</td>\n",
       "    </tr>\n",
       "    <tr>\n",
       "      <th>1</th>\n",
       "      <td>17542.036083</td>\n",
       "      <td>9135</td>\n",
       "      <td>Buick</td>\n",
       "      <td>6</td>\n",
       "      <td>3.1</td>\n",
       "      <td>4</td>\n",
       "      <td>1</td>\n",
       "      <td>1</td>\n",
       "      <td>0</td>\n",
       "    </tr>\n",
       "    <tr>\n",
       "      <th>2</th>\n",
       "      <td>16218.847862</td>\n",
       "      <td>13196</td>\n",
       "      <td>Buick</td>\n",
       "      <td>6</td>\n",
       "      <td>3.1</td>\n",
       "      <td>4</td>\n",
       "      <td>1</td>\n",
       "      <td>1</td>\n",
       "      <td>0</td>\n",
       "    </tr>\n",
       "    <tr>\n",
       "      <th>3</th>\n",
       "      <td>16336.913140</td>\n",
       "      <td>16342</td>\n",
       "      <td>Buick</td>\n",
       "      <td>6</td>\n",
       "      <td>3.1</td>\n",
       "      <td>4</td>\n",
       "      <td>1</td>\n",
       "      <td>0</td>\n",
       "      <td>0</td>\n",
       "    </tr>\n",
       "    <tr>\n",
       "      <th>4</th>\n",
       "      <td>16339.170324</td>\n",
       "      <td>19832</td>\n",
       "      <td>Buick</td>\n",
       "      <td>6</td>\n",
       "      <td>3.1</td>\n",
       "      <td>4</td>\n",
       "      <td>1</td>\n",
       "      <td>0</td>\n",
       "      <td>1</td>\n",
       "    </tr>\n",
       "  </tbody>\n",
       "</table>\n",
       "</div>"
      ],
      "text/plain": [
       "          Price  Mileage   Make  Cylinder  Liter  Doors  Cruise  Sound  \\\n",
       "0  17314.103129     8221  Buick         6    3.1      4       1      1   \n",
       "1  17542.036083     9135  Buick         6    3.1      4       1      1   \n",
       "2  16218.847862    13196  Buick         6    3.1      4       1      1   \n",
       "3  16336.913140    16342  Buick         6    3.1      4       1      0   \n",
       "4  16339.170324    19832  Buick         6    3.1      4       1      0   \n",
       "\n",
       "   Leather  \n",
       "0        1  \n",
       "1        0  \n",
       "2        0  \n",
       "3        0  \n",
       "4        1  "
      ]
     },
     "execution_count": 3,
     "metadata": {},
     "output_type": "execute_result"
    }
   ],
   "source": [
    "car = pd.read_csv('https://serv.cusp.nyu.edu/~cq299/ADS2016/Data/Car.csv')\n",
    "car.head()"
   ]
  },
  {
   "cell_type": "code",
   "execution_count": 9,
   "metadata": {
    "collapsed": false
   },
   "outputs": [],
   "source": [
    "np.random.seed(1)\n",
    "shuf = np.random.permutation(len(car))\n",
    "train = car.take(shuf)[:int(0.7*(len(car)))]\n",
    "test = car.take(shuf)[int(0.7*(len(car))):]"
   ]
  },
  {
   "cell_type": "code",
   "execution_count": 117,
   "metadata": {
    "collapsed": false
   },
   "outputs": [],
   "source": [
    "# An anonymous function that returns your regression model for future usage\n",
    "Regress = lambda feature: smf.ols(formula = 'Price ~ %s'%feature, data = train).fit()\n",
    "\n",
    "# For displaying R^2 and linear model summary\n",
    "def modelEval(lm, key = 'Price', plot = False, summary = False):\n",
    "    lmy = lm.predict(test)\n",
    "    y_err = lmy - test[key]\n",
    "    y_norm = test[key]-mean(test[key])\n",
    "    R2 = 1-y_err.dot(y_err)/y_norm.dot(y_norm)\n",
    "    if summary:\n",
    "        print('Out of sample R^2 is %f'%R2)\n",
    "        print(lm.summary())\n",
    "    if plot:\n",
    "        plt.plot(lmy, lmy, 'b-')\n",
    "        plt.plot(lmy, test[key],'or')\n",
    "    return R2\n",
    "\n",
    "def modelEval2(flag):\n",
    "    return modelEval(Regress('+'.join([feat for feat in selection if flag[list(selection).index(feat)]])))"
   ]
  },
  {
   "cell_type": "markdown",
   "metadata": {},
   "source": [
    "## 1. Multi-variate regression"
   ]
  },
  {
   "cell_type": "code",
   "execution_count": 131,
   "metadata": {
    "collapsed": false
   },
   "outputs": [
    {
     "name": "stdout",
     "output_type": "stream",
     "text": [
      "                            OLS Regression Results                            \n",
      "==============================================================================\n",
      "Dep. Variable:                  Price   R-squared:                       0.884\n",
      "Model:                            OLS   Adj. R-squared:                  0.882\n",
      "Method:                 Least Squares   F-statistic:                     349.2\n",
      "Date:                Thu, 03 Nov 2016   Prob (F-statistic):          7.93e-248\n",
      "Time:                        10:36:07   Log-Likelihood:                -5366.9\n",
      "No. Observations:                 562   AIC:                         1.076e+04\n",
      "Df Residuals:                     549   BIC:                         1.082e+04\n",
      "Df Model:                          12                                         \n",
      "Covariance Type:            nonrobust                                         \n",
      "=====================================================================================\n",
      "                        coef    std err          t      P>|t|      [95.0% Conf. Int.]\n",
      "-------------------------------------------------------------------------------------\n",
      "Intercept          1.637e+04   1512.236     10.827      0.000      1.34e+04  1.93e+04\n",
      "Make[T.Cadillac]   1.593e+04    761.063     20.926      0.000      1.44e+04  1.74e+04\n",
      "Make[T.Chevrolet] -1853.5767    570.849     -3.247      0.001     -2974.893  -732.261\n",
      "Make[T.Pontiac]   -1575.6648    587.582     -2.682      0.008     -2729.848  -421.482\n",
      "Make[T.SAAB]       1.516e+04    698.596     21.695      0.000      1.38e+04  1.65e+04\n",
      "Make[T.Saturn]    -2027.9644    767.938     -2.641      0.009     -3536.420  -519.509\n",
      "Mileage              -0.1822      0.018    -10.275      0.000        -0.217    -0.147\n",
      "Cylinder           -503.7201    465.281     -1.083      0.279     -1417.670   410.230\n",
      "Liter              5200.8305    527.643      9.857      0.000      4164.384  6237.277\n",
      "Doors             -1912.6298    185.968    -10.285      0.000     -2277.926 -1547.334\n",
      "Cruise             -269.9823    410.965     -0.657      0.511     -1077.239   537.274\n",
      "Sound              -299.6828    331.568     -0.904      0.366      -950.979   351.614\n",
      "Leather               4.9111    363.510      0.014      0.989      -709.129   718.951\n",
      "==============================================================================\n",
      "Omnibus:                      270.160   Durbin-Watson:                   2.164\n",
      "Prob(Omnibus):                  0.000   Jarque-Bera (JB):             2576.103\n",
      "Skew:                           1.884   Prob(JB):                         0.00\n",
      "Kurtosis:                      12.788   Cond. No.                     2.56e+05\n",
      "==============================================================================\n",
      "\n",
      "Warnings:\n",
      "[1] Standard Errors assume that the covariance matrix of the errors is correctly specified.\n",
      "[2] The condition number is large, 2.56e+05. This might indicate that there are\n",
      "strong multicollinearity or other numerical problems.\n"
     ]
    }
   ],
   "source": [
    "print(Regress('+'.join(selection)).summary())"
   ]
  },
  {
   "cell_type": "markdown",
   "metadata": {},
   "source": [
    "## 2. Feature selection: step-forwad--keep adding features until out-of-sample $R^2$ stops increasing"
   ]
  },
  {
   "cell_type": "markdown",
   "metadata": {},
   "source": []
  },
  {
   "cell_type": "code",
   "execution_count": 105,
   "metadata": {
    "collapsed": false
   },
   "outputs": [
    {
     "name": "stdout",
     "output_type": "stream",
     "text": [
      "Out of sample R^2 after adding Mileage is 0.019001\n",
      "Out of sample R^2 after adding Make is 0.679142\n",
      "Out of sample R^2 after adding Cylinder is 0.345937\n",
      "Out of sample R^2 after adding Liter is 0.315642\n",
      "Out of sample R^2 after adding Doors is -0.007377\n",
      "Out of sample R^2 after adding Cruise is 0.171303\n",
      "Out of sample R^2 after adding Sound is 0.017541\n",
      "Out of sample R^2 after adding Leather is -0.001127\n"
     ]
    }
   ],
   "source": [
    "selection = car.columns[1:]\n",
    "features = []\n",
    "for i in selection:\n",
    "    print('Out of sample R^2 after adding %s is %f'%(i,modelEval(Regress(i))))"
   ]
  },
  {
   "cell_type": "code",
   "execution_count": 106,
   "metadata": {
    "collapsed": false
   },
   "outputs": [
    {
     "name": "stdout",
     "output_type": "stream",
     "text": [
      "Out of sample R^2 after adding Mileage is 0.705224\n",
      "Out of sample R^2 after adding Cylinder is 0.816120\n",
      "Out of sample R^2 after adding Liter is 0.826723\n",
      "Out of sample R^2 after adding Doors is 0.728122\n",
      "Out of sample R^2 after adding Cruise is 0.696199\n",
      "Out of sample R^2 after adding Sound is 0.672732\n",
      "Out of sample R^2 after adding Leather is 0.679712\n"
     ]
    }
   ],
   "source": [
    "features.append('Make')\n",
    "for i in selection:\n",
    "    if i in features:\n",
    "        continue\n",
    "    print('Out of sample R^2 after adding %s is %f'%(i,modelEval(Regress('+'.join(features)+'+'+i))))"
   ]
  },
  {
   "cell_type": "code",
   "execution_count": 107,
   "metadata": {
    "collapsed": false
   },
   "outputs": [
    {
     "name": "stdout",
     "output_type": "stream",
     "text": [
      "Out of sample R^2 after adding Mileage is 0.854135\n",
      "Out of sample R^2 after adding Cylinder is 0.824535\n",
      "Out of sample R^2 after adding Doors is 0.837494\n",
      "Out of sample R^2 after adding Cruise is 0.826961\n",
      "Out of sample R^2 after adding Sound is 0.826228\n",
      "Out of sample R^2 after adding Leather is 0.826667\n"
     ]
    }
   ],
   "source": [
    "features.append('Liter')\n",
    "for i in selection:\n",
    "    if i in features:\n",
    "        continue\n",
    "    print('Out of sample R^2 after adding %s is %f'%(i,modelEval(Regress('+'.join(features)+'+'+i))))"
   ]
  },
  {
   "cell_type": "code",
   "execution_count": 108,
   "metadata": {
    "collapsed": false
   },
   "outputs": [
    {
     "name": "stdout",
     "output_type": "stream",
     "text": [
      "Out of sample R^2 after adding Cylinder is 0.852176\n",
      "Out of sample R^2 after adding Doors is 0.860400\n",
      "Out of sample R^2 after adding Cruise is 0.854320\n",
      "Out of sample R^2 after adding Sound is 0.853866\n",
      "Out of sample R^2 after adding Leather is 0.854106\n"
     ]
    }
   ],
   "source": [
    "features.append('Mileage')\n",
    "for i in selection:\n",
    "    if i in features:\n",
    "        continue\n",
    "    print('Out of sample R^2 after adding %s is %f'%(i,modelEval(Regress('+'.join(features)+'+'+i))))"
   ]
  },
  {
   "cell_type": "code",
   "execution_count": 109,
   "metadata": {
    "collapsed": false
   },
   "outputs": [
    {
     "name": "stdout",
     "output_type": "stream",
     "text": [
      "Out of sample R^2 with Cylinder is 0.859931\n",
      "Out of sample R^2 with Cruise is 0.861185\n",
      "Out of sample R^2 with Sound is 0.859705\n",
      "Out of sample R^2 with Leather is 0.860431\n"
     ]
    }
   ],
   "source": [
    "features.append('Doors')\n",
    "for i in selection:\n",
    "    if i in features:\n",
    "        continue\n",
    "    print('Out of sample R^2 with %s is %f'%(i,modelEval(Regress('+'.join(features)+'+'+i))))"
   ]
  },
  {
   "cell_type": "code",
   "execution_count": 110,
   "metadata": {
    "collapsed": false
   },
   "outputs": [
    {
     "name": "stdout",
     "output_type": "stream",
     "text": [
      "Out of sample R^2 with Cylinder is 0.860692\n",
      "Out of sample R^2 with Sound is 0.860500\n",
      "Out of sample R^2 with Leather is 0.861185\n"
     ]
    }
   ],
   "source": [
    "features.append('Cruise')\n",
    "for i in selection:\n",
    "    if i in features:\n",
    "        continue\n",
    "    print('Out of sample R^2 with %s is %f'%(i,modelEval(Regress('+'.join(features)+'+'+i))))"
   ]
  },
  {
   "cell_type": "markdown",
   "metadata": {},
   "source": [
    "## Rewrite it in matrix computation format"
   ]
  },
  {
   "cell_type": "code",
   "execution_count": 129,
   "metadata": {
    "collapsed": false
   },
   "outputs": [],
   "source": [
    "def FeatureSelection():\n",
    "    n = len(selection)\n",
    "    flag = np.zeros(n)    # initially exclude all regressors: 1-include, 0-exclude\n",
    "    r2max = 0             # for storing and compare with best R^2\n",
    "    while True:\n",
    "        flag_mat = np.maximum(np.eye(n),flag)\n",
    "        # see if R2 increases if we add one more feature\n",
    "        r2 = np.apply_along_axis(modelEval2,1,flag_mat)  # 1: row-wise operation, then select R2 only\n",
    "        temp = r2.max()\n",
    "        if temp > r2max:\n",
    "            r2max = temp\n",
    "            flag = flag_mat[r2.argmax()]  # select this feature if it improves our R2\n",
    "        else:\n",
    "            break                         # if there's nothing to add, break the loop\n",
    "    features2 = [feat for feat in selection if flag[list(selection).index(feat)]]\n",
    "    return features2"
   ]
  },
  {
   "cell_type": "code",
   "execution_count": 130,
   "metadata": {
    "collapsed": false
   },
   "outputs": [
    {
     "data": {
      "text/plain": [
       "['Mileage', 'Make', 'Liter', 'Doors', 'Cruise']"
      ]
     },
     "execution_count": 130,
     "metadata": {},
     "output_type": "execute_result"
    }
   ],
   "source": [
    "FeatureSelection()"
   ]
  },
  {
   "cell_type": "code",
   "execution_count": null,
   "metadata": {
    "collapsed": true
   },
   "outputs": [],
   "source": []
  }
 ],
 "metadata": {
  "kernelspec": {
   "display_name": "Python 2",
   "language": "python",
   "name": "python2"
  },
  "language_info": {
   "codemirror_mode": {
    "name": "ipython",
    "version": 2
   },
   "file_extension": ".py",
   "mimetype": "text/x-python",
   "name": "python",
   "nbconvert_exporter": "python",
   "pygments_lexer": "ipython2",
   "version": "2.7.12"
  }
 },
 "nbformat": 4,
 "nbformat_minor": 0
}
