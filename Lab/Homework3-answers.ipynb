{
 "cells": [
  {
   "cell_type": "markdown",
   "metadata": {},
   "source": [
    "# Homework 3\n"
   ]
  },
  {
   "cell_type": "markdown",
   "metadata": {},
   "source": [
    "### Problem 1 (5% credit). \n",
    "Consider a multivariate regression of the output variable y over the 3\n",
    "regressors regressors x_1, x_2, x_3, with the observations from the file stored under the following link:\n",
    "https://serv.cusp.nyu.edu/files/ADS-2015/MorningSection/homework3/H31.csv\n",
    "(also see below)\n",
    "Which one of the regressors is a dummy variable corresponding to an intercept term?"
   ]
  },
  {
   "cell_type": "markdown",
   "metadata": {},
   "source": [
    "#### Solution 1. \n",
    "x1. All of its observations are 1, so w1*x1 will play a role of an intercept"
   ]
  },
  {
   "cell_type": "code",
   "execution_count": 27,
   "metadata": {
    "collapsed": false
   },
   "outputs": [
    {
     "data": {
      "text/html": [
       "<div>\n",
       "<table border=\"1\" class=\"dataframe\">\n",
       "  <thead>\n",
       "    <tr style=\"text-align: right;\">\n",
       "      <th></th>\n",
       "      <th>y</th>\n",
       "      <th>x1</th>\n",
       "      <th>x2</th>\n",
       "      <th>x3</th>\n",
       "    </tr>\n",
       "  </thead>\n",
       "  <tbody>\n",
       "    <tr>\n",
       "      <th>1</th>\n",
       "      <td>0</td>\n",
       "      <td>1</td>\n",
       "      <td>-2</td>\n",
       "      <td>1</td>\n",
       "    </tr>\n",
       "    <tr>\n",
       "      <th>2</th>\n",
       "      <td>2</td>\n",
       "      <td>1</td>\n",
       "      <td>-1</td>\n",
       "      <td>-1</td>\n",
       "    </tr>\n",
       "    <tr>\n",
       "      <th>3</th>\n",
       "      <td>2</td>\n",
       "      <td>1</td>\n",
       "      <td>0</td>\n",
       "      <td>0</td>\n",
       "    </tr>\n",
       "    <tr>\n",
       "      <th>4</th>\n",
       "      <td>3</td>\n",
       "      <td>1</td>\n",
       "      <td>1</td>\n",
       "      <td>-1</td>\n",
       "    </tr>\n",
       "    <tr>\n",
       "      <th>5</th>\n",
       "      <td>3</td>\n",
       "      <td>1</td>\n",
       "      <td>2</td>\n",
       "      <td>1</td>\n",
       "    </tr>\n",
       "  </tbody>\n",
       "</table>\n",
       "</div>"
      ],
      "text/plain": [
       "   y  x1  x2  x3\n",
       "1  0   1  -2   1\n",
       "2  2   1  -1  -1\n",
       "3  2   1   0   0\n",
       "4  3   1   1  -1\n",
       "5  3   1   2   1"
      ]
     },
     "execution_count": 27,
     "metadata": {},
     "output_type": "execute_result"
    }
   ],
   "source": [
    "import pandas as pd\n",
    "data=pd.read_csv('https://serv.cusp.nyu.edu/files/ADS-2015/MorningSection/homework3/H31.csv', index_col=0)\n",
    "data.head()"
   ]
  },
  {
   "cell_type": "markdown",
   "metadata": {},
   "source": [
    "### Problem 2 (15% credit). \n",
    "For the data from the problem 1 perform a manual estimate for the least-square multivariate regression coefficients  (not using regression tools, but using appropriate matrix operations and formula (3) from the session notebook)."
   ]
  },
  {
   "cell_type": "code",
   "execution_count": 28,
   "metadata": {
    "collapsed": false
   },
   "outputs": [
    {
     "name": "stdout",
     "output_type": "stream",
     "text": [
      "[[ 2. ]\n",
      " [ 0.7]\n",
      " [-0.5]]\n"
     ]
    }
   ],
   "source": [
    "import numpy as np\n",
    "#extract matrixes from the data\n",
    "X=np.matrix(data)\n",
    "Y=X[:,0]\n",
    "X=X[:,1:4]\n",
    "#apply the formulae w=(X^T*X)^-1*X^T*Y\n",
    "w=pow((X.transpose()*X),-1)*X.transpose()*Y\n",
    "print(w)"
   ]
  },
  {
   "cell_type": "markdown",
   "metadata": {},
   "source": [
    "## Problem 3 (15% of credit)\n",
    "Prove that regressors x1,x2,x3 are mutually ortogonal. Perform an estimate for regression coefficients using uni-variate regressions formulas. Compare with the results of problem 2."
   ]
  },
  {
   "cell_type": "code",
   "execution_count": 29,
   "metadata": {
    "collapsed": false
   },
   "outputs": [
    {
     "name": "stdout",
     "output_type": "stream",
     "text": [
      "[[ True False False]\n",
      " [False  True False]\n",
      " [False False  True]]\n"
     ]
    }
   ],
   "source": [
    "# solution 3\n",
    "import numpy as np\n",
    "X=np.matrix(data)\n",
    "cov=(X[:,1:4]).transpose()*(X[:,1:4]) #create a matrix of mutual scalar products of x1,x2,x3\n",
    "print(cov>1e-10) #report this scalar products which are higher than a certain threshold (noise level)\n",
    "# below we see that this is the case only for diogonal elements, so all pairs of different vectors from x1,x2,x3 are orhtogonal "
   ]
  },
  {
   "cell_type": "code",
   "execution_count": 30,
   "metadata": {
    "collapsed": false
   },
   "outputs": [
    {
     "name": "stdout",
     "output_type": "stream",
     "text": [
      "(2.0, 0.7, -0.5)\n"
     ]
    }
   ],
   "source": [
    "#now perform the estimates using the univariate formulas w_i=y^T x_i/(x_i^T*x_i)\n",
    "w1=1.0*sum(data.y*data.x1)/sum(data.x1*data.x1)\n",
    "w2=1.0*sum(data.y*data.x2)/sum(data.x2*data.x2)\n",
    "w3=1.0*sum(data.y*data.x3)/sum(data.x3*data.x3)\n",
    "print(w1,w2,w3)"
   ]
  },
  {
   "cell_type": "markdown",
   "metadata": {},
   "source": [
    "### Problem 4 (5% credit)\n",
    "Suppose that a multiple regression with 7 regressors gave the following p-values for each of them:\n",
    "0.01, 1e-15, 0.1, 0.04, 0.001, 0.06, 0.03\n",
    "How many regressors you would exclude based on that? Please explain."
   ]
  },
  {
   "cell_type": "markdown",
   "metadata": {},
   "source": [
    "We'd exclude the regressors with p-values higher than 5%, i.e. third (0.1>0.05) and sixth (0.06>0.05). I.e. the answer is 2. "
   ]
  },
  {
   "cell_type": "markdown",
   "metadata": {},
   "source": [
    "### Problem 6 (20% credit)\n",
    "Perform a multivariate regression of y over x1,x2,x3,x4,x5 (with an intercept) using the observations from: https://serv.cusp.nyu.edu/files/ADS-2015/MorningSection/homework3/H32.csv"
   ]
  },
  {
   "cell_type": "code",
   "execution_count": 31,
   "metadata": {
    "collapsed": false
   },
   "outputs": [
    {
     "data": {
      "text/html": [
       "<div>\n",
       "<table border=\"1\" class=\"dataframe\">\n",
       "  <thead>\n",
       "    <tr style=\"text-align: right;\">\n",
       "      <th></th>\n",
       "      <th>y</th>\n",
       "      <th>x1</th>\n",
       "      <th>x2</th>\n",
       "      <th>x3</th>\n",
       "      <th>x4</th>\n",
       "      <th>x5</th>\n",
       "    </tr>\n",
       "  </thead>\n",
       "  <tbody>\n",
       "    <tr>\n",
       "      <th>1</th>\n",
       "      <td>-0.051423</td>\n",
       "      <td>21.456917</td>\n",
       "      <td>-7.042114</td>\n",
       "      <td>1.073317</td>\n",
       "      <td>3.901826</td>\n",
       "      <td>0.584972</td>\n",
       "    </tr>\n",
       "    <tr>\n",
       "      <th>2</th>\n",
       "      <td>40.420287</td>\n",
       "      <td>90.051574</td>\n",
       "      <td>1.753339</td>\n",
       "      <td>15.469912</td>\n",
       "      <td>-2.395206</td>\n",
       "      <td>0.781003</td>\n",
       "    </tr>\n",
       "    <tr>\n",
       "      <th>3</th>\n",
       "      <td>45.355541</td>\n",
       "      <td>77.469130</td>\n",
       "      <td>-10.883196</td>\n",
       "      <td>18.067204</td>\n",
       "      <td>3.721862</td>\n",
       "      <td>0.980952</td>\n",
       "    </tr>\n",
       "    <tr>\n",
       "      <th>4</th>\n",
       "      <td>30.419936</td>\n",
       "      <td>51.284138</td>\n",
       "      <td>23.361324</td>\n",
       "      <td>10.390302</td>\n",
       "      <td>-0.723471</td>\n",
       "      <td>0.850541</td>\n",
       "    </tr>\n",
       "    <tr>\n",
       "      <th>5</th>\n",
       "      <td>22.028759</td>\n",
       "      <td>45.963734</td>\n",
       "      <td>11.372415</td>\n",
       "      <td>10.177206</td>\n",
       "      <td>-0.739538</td>\n",
       "      <td>0.137674</td>\n",
       "    </tr>\n",
       "  </tbody>\n",
       "</table>\n",
       "</div>"
      ],
      "text/plain": [
       "           y         x1         x2         x3        x4        x5\n",
       "1  -0.051423  21.456917  -7.042114   1.073317  3.901826  0.584972\n",
       "2  40.420287  90.051574   1.753339  15.469912 -2.395206  0.781003\n",
       "3  45.355541  77.469130 -10.883196  18.067204  3.721862  0.980952\n",
       "4  30.419936  51.284138  23.361324  10.390302 -0.723471  0.850541\n",
       "5  22.028759  45.963734  11.372415  10.177206 -0.739538  0.137674"
      ]
     },
     "execution_count": 31,
     "metadata": {},
     "output_type": "execute_result"
    }
   ],
   "source": [
    "import pandas as pd\n",
    "data2=pd.read_csv('https://serv.cusp.nyu.edu/files/ADS-2015/MorningSection/homework3/H32.csv', index_col=0)\n",
    "data2.head()"
   ]
  },
  {
   "cell_type": "code",
   "execution_count": 32,
   "metadata": {
    "collapsed": false
   },
   "outputs": [
    {
     "name": "stdout",
     "output_type": "stream",
     "text": [
      "                            OLS Regression Results                            \n",
      "==============================================================================\n",
      "Dep. Variable:                      y   R-squared:                       0.969\n",
      "Model:                            OLS   Adj. R-squared:                  0.967\n",
      "Method:                 Least Squares   F-statistic:                     581.7\n",
      "Date:                Mon, 19 Oct 2015   Prob (F-statistic):           4.76e-69\n",
      "Time:                        17:41:07   Log-Likelihood:                -220.81\n",
      "No. Observations:                 100   AIC:                             453.6\n",
      "Df Residuals:                      94   BIC:                             469.3\n",
      "Df Model:                           5                                         \n",
      "Covariance Type:            nonrobust                                         \n",
      "==============================================================================\n",
      "                 coef    std err          t      P>|t|      [95.0% Conf. Int.]\n",
      "------------------------------------------------------------------------------\n",
      "Intercept     -0.2251      0.648     -0.347      0.729        -1.513     1.062\n",
      "x1             0.0008      0.008      0.098      0.922        -0.015     0.017\n",
      "x2            -0.0208      0.016     -1.329      0.187        -0.052     0.010\n",
      "x3             2.0103      0.043     46.266      0.000         1.924     2.097\n",
      "x4            -1.0059      0.087    -11.600      0.000        -1.178    -0.834\n",
      "x5            10.4007      0.796     13.070      0.000         8.821    11.981\n",
      "==============================================================================\n",
      "Omnibus:                        7.114   Durbin-Watson:                   2.134\n",
      "Prob(Omnibus):                  0.029   Jarque-Bera (JB):                6.748\n",
      "Skew:                           0.521   Prob(JB):                       0.0342\n",
      "Kurtosis:                       3.732   Cond. No.                         239.\n",
      "==============================================================================\n",
      "\n",
      "Warnings:\n",
      "[1] Standard Errors assume that the covariance matrix of the errors is correctly specified.\n"
     ]
    }
   ],
   "source": [
    "import statsmodels.formula.api as smf\n",
    "lm = smf.ols(formula='y ~ x1+x2+x3+x4+x5', data = data2).fit()\n",
    "print(lm.summary())"
   ]
  },
  {
   "cell_type": "markdown",
   "metadata": {},
   "source": [
    "### Problem 7 (20% credit)\n",
    "Perform the same regression as from the problem 5 but after standardization of the regressors. Report the regressor having the highest impact on the responce variable."
   ]
  },
  {
   "cell_type": "code",
   "execution_count": 33,
   "metadata": {
    "collapsed": false
   },
   "outputs": [
    {
     "name": "stdout",
     "output_type": "stream",
     "text": [
      "                            OLS Regression Results                            \n",
      "==============================================================================\n",
      "Dep. Variable:                      y   R-squared:                       0.969\n",
      "Model:                            OLS   Adj. R-squared:                  0.967\n",
      "Method:                 Least Squares   F-statistic:                     581.7\n",
      "Date:                Mon, 19 Oct 2015   Prob (F-statistic):           4.76e-69\n",
      "Time:                        17:41:08   Log-Likelihood:                -220.81\n",
      "No. Observations:                 100   AIC:                             453.6\n",
      "Df Residuals:                      94   BIC:                             469.3\n",
      "Df Model:                           5                                         \n",
      "Covariance Type:            nonrobust                                         \n",
      "==============================================================================\n",
      "                 coef    std err          t      P>|t|      [95.0% Conf. Int.]\n",
      "------------------------------------------------------------------------------\n",
      "Intercept     23.8651      0.227    105.095      0.000        23.414    24.316\n",
      "x1             0.0231      0.236      0.098      0.922        -0.445     0.491\n",
      "x2            -0.3145      0.237     -1.329      0.187        -0.784     0.155\n",
      "x3            11.0882      0.240     46.266      0.000        10.612    11.564\n",
      "x4            -2.7646      0.238    -11.600      0.000        -3.238    -2.291\n",
      "x5             3.0308      0.232     13.070      0.000         2.570     3.491\n",
      "==============================================================================\n",
      "Omnibus:                        7.114   Durbin-Watson:                   2.134\n",
      "Prob(Omnibus):                  0.029   Jarque-Bera (JB):                6.748\n",
      "Skew:                           0.521   Prob(JB):                       0.0342\n",
      "Kurtosis:                       3.732   Cond. No.                         1.48\n",
      "==============================================================================\n",
      "\n",
      "Warnings:\n",
      "[1] Standard Errors assume that the covariance matrix of the errors is correctly specified.\n"
     ]
    }
   ],
   "source": [
    "#standardization\n",
    "data2.x1=(data2.x1-np.mean(data2.x1))/np.std(data2.x1)\n",
    "data2.x2=(data2.x2-np.mean(data2.x2))/np.std(data2.x2)\n",
    "data2.x3=(data2.x3-np.mean(data2.x3))/np.std(data2.x3)\n",
    "data2.x4=(data2.x4-np.mean(data2.x4))/np.std(data2.x4)\n",
    "data2.x5=(data2.x5-np.mean(data2.x5))/np.std(data2.x5)\n",
    "#regression\n",
    "lm = smf.ols(formula='y ~ x1+x2+x3+x4+x5', data = data2).fit()\n",
    "print(lm.summary())\n",
    "#based on the regression coefficients below, x3 has the highest impact (coeff 11.08) on the output variable compared to all other regressoers (not counting intercept)"
   ]
  },
  {
   "cell_type": "markdown",
   "metadata": {},
   "source": [
    "### Problem 8 (20% credit)\n",
    "Analyzing regression statistics from problem 6 exclude the regressors with insignificant impact. Repeat the regression over the remaining regressors only and report the statistics."
   ]
  },
  {
   "cell_type": "code",
   "execution_count": 34,
   "metadata": {
    "collapsed": false
   },
   "outputs": [
    {
     "name": "stdout",
     "output_type": "stream",
     "text": [
      "                            OLS Regression Results                            \n",
      "==============================================================================\n",
      "Dep. Variable:                      y   R-squared:                       0.968\n",
      "Model:                            OLS   Adj. R-squared:                  0.967\n",
      "Method:                 Least Squares   F-statistic:                     970.7\n",
      "Date:                Mon, 19 Oct 2015   Prob (F-statistic):           1.20e-71\n",
      "Time:                        17:41:08   Log-Likelihood:                -221.77\n",
      "No. Observations:                 100   AIC:                             451.5\n",
      "Df Residuals:                      96   BIC:                             462.0\n",
      "Df Model:                           3                                         \n",
      "Covariance Type:            nonrobust                                         \n",
      "==============================================================================\n",
      "                 coef    std err          t      P>|t|      [95.0% Conf. Int.]\n",
      "------------------------------------------------------------------------------\n",
      "Intercept     23.8651      0.227    105.197      0.000        23.415    24.315\n",
      "x3            11.0360      0.230     47.924      0.000        10.579    11.493\n",
      "x4            -2.7136      0.232    -11.698      0.000        -3.174    -2.253\n",
      "x5             3.0437      0.231     13.162      0.000         2.585     3.503\n",
      "==============================================================================\n",
      "Omnibus:                        7.149   Durbin-Watson:                   2.193\n",
      "Prob(Omnibus):                  0.028   Jarque-Bera (JB):                6.872\n",
      "Skew:                           0.510   Prob(JB):                       0.0322\n",
      "Kurtosis:                       3.780   Cond. No.                         1.25\n",
      "==============================================================================\n",
      "\n",
      "Warnings:\n",
      "[1] Standard Errors assume that the covariance matrix of the errors is correctly specified.\n"
     ]
    }
   ],
   "source": [
    "#p-values show that impact of regressors x1 and x2 might not be statistically significant; we'll exclude those\n",
    "lm = smf.ols(formula='y ~ x3+x4+x5', data = data2).fit()\n",
    "print(lm.summary())"
   ]
  },
  {
   "cell_type": "markdown",
   "metadata": {},
   "source": [
    "### Extra credit assignment (40% of credit to be applied toward this or further homeworks )\n",
    "\n",
    "Using the real estate data from the lab, train and validate the multivariate linear models for predicting sales price within each zip code for the: a) single-residence, b) multiapartment houses. Consider only the zip codes having more than 500 houses to consider. Train the model over as many relevant regressors as you can (including dummy-variables expressing impact of non-real valued factors or non-linear impacts) and perform feature selection over the validaton set. This is a custom approach - feel free to frame it as you like aiming for the best possible performance over the validation sets. Report the final training and validation set R2's as a table (zip, size, R2) as well as a spatial visualization (just the validation R2 over zip code's lat-long with colors indicating the R2 value). "
   ]
  }
 ],
 "metadata": {
  "kernelspec": {
   "display_name": "Python [Root]",
   "language": "python",
   "name": "Python [Root]"
  },
  "language_info": {
   "codemirror_mode": {
    "name": "ipython",
    "version": 2
   },
   "file_extension": ".py",
   "mimetype": "text/x-python",
   "name": "python",
   "nbconvert_exporter": "python",
   "pygments_lexer": "ipython2",
   "version": "2.7.12"
  }
 },
 "nbformat": 4,
 "nbformat_minor": 0
}
