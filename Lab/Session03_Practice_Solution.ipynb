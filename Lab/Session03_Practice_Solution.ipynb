{
 "cells": [
  {
   "cell_type": "markdown",
   "metadata": {
    "nbpresent": {
     "id": "0b38caa2-2b41-4c2f-bdd2-4ebecd00693c"
    }
   },
   "source": [
    "# Multi-variate linear regression\n",
    "\n",
    "## 1. Definition and parameter estimation\n",
    "\n",
    "As we remember linear model between single real-value regressor $x$ and output variable $y$ is expressed by \n",
    "$$\n",
    "y=w_1 x + w_0 +\\varepsilon.\n",
    "$$\n",
    "$w_1$-slope coefficient, $w_0$ - intercept, $\\varepsilon$ - random noise. In a more general case when $x$ is a real-valued $n \\times 1$-vector $x=(x_1,x_2,...,x_n)^T$, the model could be easily generalized as\n",
    "$$\n",
    "y=\\sum\\limits_j w_j x_j +\\varepsilon\n",
    "$$\n",
    "or in a vector form\n",
    "$$\n",
    "y=w^T x+\\varepsilon, \\hspace{5ex} (1)\n",
    "$$\n",
    "where $w=(w_1,w_2,...,w_n)$ is also a $n \\times 1$-vector. \n",
    "Notice that intercept is not specifically separated as it could be always introduced by adding a dummy variable $x^m\\equiv 1$.\n",
    "\n",
    "The probabilistic view on the model in the assumption that $\\varepsilon\\sim {\\cal N}(0,\\sigma^2)$ is\n",
    "$$\n",
    "p(y|x,w,\\sigma)={\\cal N}(y|w^T x,\\sigma^2).\n",
    "$$\n",
    "\n",
    "Given a training set $X=\\{(x_j^i), j=1..n, i=1..N\\}$, $Y=\\{(y^i), i=1..N\\}$ (further also denote columns of $X$ as $X_j=\\{(x_j^i), i=1..N\\}$), the least square optimization criteria for inferring a vector of coefficients $w$ can be written as\n",
    "\n",
    "$$\n",
    "RSS(w)=\\sum\\limits_i \\varepsilon_i^2=\\sum\\limits_i (y^i-w^T x^i)^2. \\hspace{5ex} (2)\n",
    "$$\n",
    "\n",
    "or in a matrix form:\n",
    "$$\n",
    "RSS(w)=(Y-X w)^T(Y-X w).\n",
    "$$\n",
    "Then finding an estimate\n",
    "$$\n",
    "\\hat{w}=argmin_w RSS(w)\n",
    "$$\n",
    "can be done by solving the system (in a matrix form)\n",
    "$$\n",
    "0=\\frac{\\partial RSS(\\hat{w})}{\\partial w}=2X^T (Y-X \\hat{w}).\n",
    "$$\n",
    "Using matrix formalism the solution could be expressed as\n",
    "$$\n",
    "\\hat{w}=\\left(X^T X\\right )^{-1}X^T Y. \\hspace{5ex} (3)\n",
    "$$\n",
    "This assumes that $X^T X$ is non-singular. Otherwise we have a case of multicollinearity."
   ]
  },
  {
   "cell_type": "markdown",
   "metadata": {
    "nbpresent": {
     "id": "973f2e0f-aca4-47f4-bc31-ded3265aea28"
    }
   },
   "source": [
    "## 2. Geometry of Least Squares\n",
    "\n",
    "According to (3), model estimates $\\hat{Y}$ corresponding to the given points in $X$ are\n",
    "$$\n",
    "\\hat{Y}=X \\hat{w}=X(X^T X)^{-1}X^T Y.\n",
    "$$\n",
    "This way matrix $H=X(X^T X)^{-1}X^T$ performs an ortogonal projection $HY$ of a given vector of observations $Y$ onto the linear space of all possible linear combinations of columns of $X$.\n",
    "\n",
    "## 3. Explanations of R-squared\n",
    "\n",
    "In the same way as for the bi-variate regression:\n",
    "$$\n",
    "R^2=1-\\frac{RSS}{\\sum\\limits_i (y_i-\\overline{y})^2}=\\frac{\\sum\\limits_i (\\hat{y}_i-\\overline{y})^2}{\\sum\\limits_i (y_i-\\overline{y})^2},\n",
    "$$\n",
    "where $\\overline{y}=\\sum\\limits_i y_i$ is the sample mean of observed values of responce variable. This way $R^2$ is often interpreted as a fraction of responce variable's variance explained by linear model. $R^2=1$ is equivalent to $RSS=0$, i.e. the model fits the observations exactly, i.e. responce variable depends linearly on the explaining variables. On the other hand, $R^2=0$ means that the model always predicts the sample mean $\\overline{y}$, i.e. explaining variables $x$ have no effect on responce variable $y$. \n",
    "\n",
    "Least-square criteria is equivalent to maximizing $R^2$."
   ]
  },
  {
   "cell_type": "markdown",
   "metadata": {
    "nbpresent": {
     "id": "e05e0218-41ee-4b6a-b8c8-f030accc7239"
    }
   },
   "source": [
    "## 4. Feature scaling\n",
    "\n",
    "Often in order to get some sense out of the values of $w_j$ one might want to normalize the features first, bringing them on the same scale. For example one can standardize, transforming independent variables into their standard scores (also called z-scores, normal scores):\n",
    "$$\n",
    "x_j^*=\\frac{x_j-\\overline{x}_j}{\\sigma_j}\n",
    "$$\n",
    "where $\\overline{x}_j=E[X_j]$ and $\\sigma_j=std[X_j]$ are the corresponding sample mean and standard deviation. This however does not apply to a constant dummy variable corresponding to the intercept term if present. One might omit this dummy variable in case if responce variable is also standardized (then it's mean is also zero and there is no need for an intercept). \n",
    "\n",
    "Then, the resulting coefficients $\\hat{w}_j$ could be interpreted as a relative (or absolute if the output variable is also standardized) strength of each regressor's impact on the responce variable $x_j$."
   ]
  },
  {
   "cell_type": "markdown",
   "metadata": {
    "nbpresent": {
     "id": "b19f7d84-9b9b-408f-a325-f149c98fc322"
    }
   },
   "source": [
    "## 5. Case of orthogonal regressors\n",
    "\n",
    "Consider a particular case of orthogonal regressors. I.e. suppose that for each pair of $j\\neq k$ the inner product equals to zero: $$<X_j,X_k> \\quad= \\quad X_j^T X_k = \\sum\\limits_i x_j^i x_k^i=0$$\n",
    "For the standardized regressors orthogonality is equivalent to being uncorrelated; more generally if at least one of the regressors $x_j$ is standardized (consequently $E[X_j]=0$) then:\n",
    "$$\n",
    "0=corr[X_j,X_k]=\\frac{Cov[X_j,X_k]}{std[X_j]std[X_k]}=\\frac{\\frac{<X_j,X_k>}{N}-E[X_j]E[X_k]}{std[X_j]std[X_k]}=\\frac{<X_j,X_k>}{N std[X_j]std[X_k]}.\n",
    "$$\n",
    "In that case it is possible to show that least square estimate for the multiple regression could be built from a set of univariate regressions of $y$ vs each of the regressors $x_j$ taken separately. Then\n",
    "$$\n",
    "\\hat{w_j}=\\frac{X_j^T Y}{X_j^T X_j}.\n",
    "$$\n",
    "If $X_j$ is also standardized, so that $E[X_j]=0$ and $Var[X_j]=1$, the above could be re-written as\n",
    "$$\n",
    "\\hat{w_j}=Cov[X_j,Y].\n",
    "$$\n",
    "Also this way \n",
    "$$\n",
    "Var[Y]=Var[\\varepsilon]+\\sum_j Var[w_j X_j]=\\sigma^2+\\sum_j w_j^2.\n",
    "$$\n",
    "This gives a very intuitive interpretation of the regression coefficients (or actually their squares) as a **decomposition of the explained part of response variable's variation $Var[Y]-\\sigma^2$**. \n",
    "\n",
    "However this works only for the basic least-square estimates $w=\\hat{w}$, $\\sigma=\\hat{\\sigma}$. While depending on the estimation technique used for $\\hat{w}$ and $\\hat{\\sigma}$ (like using unbiased estimates for example), this equation might only hold approximately.\n",
    "\n",
    "If $Y$ is also standardized then $\\hat{w_j}=corr[X_j,Y]$, i.e. coefficients of such a regression are simply the correlation coefficients of observed sample of responce variable vs each of the regressors. So basically the multivariate regression with ortognal standardized regressors and standardized responce variable could be expressed as\n",
    "$$\n",
    "y=\\sum\\limits_j corr[X_j,Y] x_j+\\varepsilon.\n",
    "$$\n",
    "This way the regression coefficients are simply the correlations between corresponding regressors and the responce variable's observations.\n",
    "\n",
    "Although the case of ortogonal (uncorrelated) regressors seems to be quite a special one, during the next session, we'll see that actually every regression could be transformed to such a case through a principle component decomposition.\n"
   ]
  },
  {
   "cell_type": "markdown",
   "metadata": {
    "nbpresent": {
     "id": "8a089b95-a607-44cf-94fe-f34d511c3944"
    }
   },
   "source": [
    "## 6. Non-linear polynimial regression \n",
    "\n",
    "Multi-variate linear regression could be also used in order to fit non-linear models, such as polynomial one for example. If one needs to fit a dependence of \n",
    "$$\n",
    "y=w_mx^m + w_{m-1} x^{m-1} + \\ldots + w_1 x + w_0+\\epsilon,\n",
    "$$\n",
    "one way of doing that it thourgh a multi-variate regression, selecting \n",
    "$$\n",
    "y\\sim 1,x,x^2,\\ldots,x^{m}\n",
    "$$ \n",
    "as $m+1$ features. Similarly a polinomial form of several variables could be fit, like \n",
    "$$\n",
    "y\\sim w_{2,0}x_1^2+w_{1,1}x_1 x_2+w_{2,0}x_2^2+w_{1,0}x_1+w_{0,1}x_2+w_{0,0}\n",
    "$$\n",
    "could be handled over a feature space including\n",
    "$$\n",
    "y\\sim 1,x_1,x_2,x_1^2,x_2^2.\n",
    "$$"
   ]
  },
  {
   "cell_type": "markdown",
   "metadata": {},
   "source": [
    "# Lab Session"
   ]
  },
  {
   "cell_type": "code",
   "execution_count": 1,
   "metadata": {
    "collapsed": false,
    "nbpresent": {
     "id": "7b1edb37-5628-4e65-9416-6b818990dfba"
    }
   },
   "outputs": [
    {
     "name": "stdout",
     "output_type": "stream",
     "text": [
      "Populating the interactive namespace from numpy and matplotlib\n"
     ]
    }
   ],
   "source": [
    "import numpy as np   # basic numeric module in python, for array and matrix computation\n",
    "import pandas as pd  # advanced numeric module, excels in data frame analysis\n",
    "import matplotlib.pyplot as plt  # for data visualization\n",
    "%pylab inline\n",
    "# so the plots are embedded in notebook rather than a stand alone window\n",
    "\n",
    "from mpl_toolkits.mplot3d import Axes3D  # for 3D plot\n",
    "import statsmodels.formula.api as smf    # for OLS regression\n",
    "\n",
    "path = 'https://serv.cusp.nyu.edu/~cq299/ADS2016/Data/'"
   ]
  },
  {
   "cell_type": "markdown",
   "metadata": {
    "collapsed": true,
    "nbpresent": {
     "id": "38c8eaa2-0e91-46c1-9e4a-99c03f10de49"
    }
   },
   "source": [
    "## Shortcuts:\n",
    "* Enter-combination\n",
    "* \"a, b, dd, [x, c & v]\"\n",
    "* Tab-completion\n",
    "* Question mark (?)\n",
    "* Copy or Reference"
   ]
  },
  {
   "cell_type": "markdown",
   "metadata": {
    "nbpresent": {
     "id": "dbb28b4c-45a2-45df-ab07-a9d25d54d98a"
    }
   },
   "source": [
    "# Example 1, basics\n",
    "## Try to fit y given $y = w_0 + w_1x_1 + w_2x_2 + \\epsilon$"
   ]
  },
  {
   "cell_type": "code",
   "execution_count": 2,
   "metadata": {
    "collapsed": false,
    "nbpresent": {
     "id": "e2cbf161-5e2d-4df0-894b-9ad32652e7cb"
    }
   },
   "outputs": [
    {
     "data": {
      "text/html": [
       "<div>\n",
       "<table border=\"1\" class=\"dataframe\">\n",
       "  <thead>\n",
       "    <tr style=\"text-align: right;\">\n",
       "      <th></th>\n",
       "      <th>x1</th>\n",
       "      <th>x2</th>\n",
       "      <th>y</th>\n",
       "    </tr>\n",
       "  </thead>\n",
       "  <tbody>\n",
       "    <tr>\n",
       "      <th>0</th>\n",
       "      <td>1.964692</td>\n",
       "      <td>-2.138607</td>\n",
       "      <td>-5.605927</td>\n",
       "    </tr>\n",
       "    <tr>\n",
       "      <th>1</th>\n",
       "      <td>-2.731485</td>\n",
       "      <td>0.513148</td>\n",
       "      <td>-18.856722</td>\n",
       "    </tr>\n",
       "    <tr>\n",
       "      <th>2</th>\n",
       "      <td>2.194690</td>\n",
       "      <td>-0.768935</td>\n",
       "      <td>-6.063095</td>\n",
       "    </tr>\n",
       "  </tbody>\n",
       "</table>\n",
       "</div>"
      ],
      "text/plain": [
       "         x1        x2          y\n",
       "0  1.964692 -2.138607  -5.605927\n",
       "1 -2.731485  0.513148 -18.856722\n",
       "2  2.194690 -0.768935  -6.063095"
      ]
     },
     "execution_count": 2,
     "metadata": {},
     "output_type": "execute_result"
    }
   ],
   "source": [
    "data1 = pd.read_csv(path + 'Example1.csv')\n",
    "data1.head(3)"
   ]
  },
  {
   "cell_type": "markdown",
   "metadata": {
    "nbpresent": {
     "id": "acd6cb4a-a53c-4a57-9ea9-6d1130bd153d"
    }
   },
   "source": [
    "### (A) Matrix computation\n",
    "### $$\\hat{w}=\\left(X^T X\\right )^{-1}X^T Y. \\hspace{5ex} $$"
   ]
  },
  {
   "cell_type": "code",
   "execution_count": 3,
   "metadata": {
    "collapsed": false,
    "nbpresent": {
     "id": "ba711c05-6028-4fd7-9350-58f5b2c4e3d1"
    }
   },
   "outputs": [
    {
     "name": "stdout",
     "output_type": "stream",
     "text": [
      "[[-10.10498527]\n",
      " [  2.67679769]\n",
      " [ -0.70613511]]\n"
     ]
    }
   ],
   "source": [
    "#Q1. Create a new column x0 for intercept, set the values to 1\n",
    "data1['x0'] = 1\n",
    "\n",
    "#Q2. Create X and Y in matrix form then use matrix computation formula to calculate the coefficients\n",
    "X = np.matrix(data1.loc[:,['x0','x1','x2']])\n",
    "Y = np.matrix(data1.y).T\n",
    "w = (X.T * X).I * X.T * Y\n",
    "print(w)"
   ]
  },
  {
   "cell_type": "markdown",
   "metadata": {
    "nbpresent": {
     "id": "b986d918-47fa-4ac2-ba9f-ba9bcc430030"
    }
   },
   "source": [
    "### (B) *statsmodels* module"
   ]
  },
  {
   "cell_type": "code",
   "execution_count": 4,
   "metadata": {
    "collapsed": false,
    "nbpresent": {
     "id": "49de85ea-abf8-4e40-8abd-ac9219c1ff4f"
    }
   },
   "outputs": [
    {
     "name": "stdout",
     "output_type": "stream",
     "text": [
      "R2 = 0.776112\n",
      "Intercept   -10.104985\n",
      "x1            2.676798\n",
      "x2           -0.706135\n",
      "dtype: float64\n"
     ]
    }
   ],
   "source": [
    "#Q3. Use statsmodels to regress y over x1 and x2, provide the r-squared and coefficients\n",
    "lm1 = smf.ols(formula = 'y ~ x1 + x2', data = data1).fit()\n",
    "print('R2 = %f'%lm1.rsquared)\n",
    "print(lm1.params)"
   ]
  },
  {
   "cell_type": "code",
   "execution_count": 5,
   "metadata": {
    "collapsed": false,
    "nbpresent": {
     "id": "1651addc-d785-4d56-a7c0-86d5034c7da5"
    }
   },
   "outputs": [
    {
     "data": {
      "text/html": [
       "<div>\n",
       "<table border=\"1\" class=\"dataframe\">\n",
       "  <thead>\n",
       "    <tr style=\"text-align: right;\">\n",
       "      <th></th>\n",
       "      <th>Matrix_Computation</th>\n",
       "      <th>Regression</th>\n",
       "    </tr>\n",
       "  </thead>\n",
       "  <tbody>\n",
       "    <tr>\n",
       "      <th>Intercept</th>\n",
       "      <td>[-10.1049852733]</td>\n",
       "      <td>-10.104985</td>\n",
       "    </tr>\n",
       "    <tr>\n",
       "      <th>x1</th>\n",
       "      <td>[2.67679768576]</td>\n",
       "      <td>2.676798</td>\n",
       "    </tr>\n",
       "    <tr>\n",
       "      <th>x2</th>\n",
       "      <td>[-0.706135109154]</td>\n",
       "      <td>-0.706135</td>\n",
       "    </tr>\n",
       "  </tbody>\n",
       "</table>\n",
       "</div>"
      ],
      "text/plain": [
       "          Matrix_Computation  Regression\n",
       "Intercept   [-10.1049852733]  -10.104985\n",
       "x1           [2.67679768576]    2.676798\n",
       "x2         [-0.706135109154]   -0.706135"
      ]
     },
     "execution_count": 5,
     "metadata": {},
     "output_type": "execute_result"
    }
   ],
   "source": [
    "#Q4. Compare the coefficients obtained through different methods\n",
    "pd.DataFrame({'Matrix_Computation':w.tolist(), 'Regression':lm1.params})\n",
    "# First create a dict object, claiming the labels and respective data, then convert it to a data frame"
   ]
  },
  {
   "cell_type": "code",
   "execution_count": 6,
   "metadata": {
    "collapsed": false,
    "nbpresent": {
     "id": "3af83e19-3277-4c1b-8941-1f8a4c8040a0"
    }
   },
   "outputs": [
    {
     "data": {
      "text/html": [
       "<div>\n",
       "<table border=\"1\" class=\"dataframe\">\n",
       "  <thead>\n",
       "    <tr style=\"text-align: right;\">\n",
       "      <th></th>\n",
       "      <th>x1</th>\n",
       "      <th>x2</th>\n",
       "      <th>y</th>\n",
       "      <th>x0</th>\n",
       "    </tr>\n",
       "  </thead>\n",
       "  <tbody>\n",
       "    <tr>\n",
       "      <th>count</th>\n",
       "      <td>20.000000</td>\n",
       "      <td>20.000000</td>\n",
       "      <td>20.000000</td>\n",
       "      <td>20.0</td>\n",
       "    </tr>\n",
       "    <tr>\n",
       "      <th>mean</th>\n",
       "      <td>0.027218</td>\n",
       "      <td>-0.075481</td>\n",
       "      <td>-9.978829</td>\n",
       "      <td>1.0</td>\n",
       "    </tr>\n",
       "    <tr>\n",
       "      <th>std</th>\n",
       "      <td>2.397628</td>\n",
       "      <td>2.247203</td>\n",
       "      <td>7.251472</td>\n",
       "      <td>0.0</td>\n",
       "    </tr>\n",
       "    <tr>\n",
       "      <th>min</th>\n",
       "      <td>-4.078951</td>\n",
       "      <td>-4.403221</td>\n",
       "      <td>-24.968052</td>\n",
       "      <td>1.0</td>\n",
       "    </tr>\n",
       "    <tr>\n",
       "      <th>25%</th>\n",
       "      <td>-1.428640</td>\n",
       "      <td>-1.797155</td>\n",
       "      <td>-14.739759</td>\n",
       "      <td>1.0</td>\n",
       "    </tr>\n",
       "    <tr>\n",
       "      <th>50%</th>\n",
       "      <td>-0.652825</td>\n",
       "      <td>-0.022391</td>\n",
       "      <td>-9.617834</td>\n",
       "      <td>1.0</td>\n",
       "    </tr>\n",
       "    <tr>\n",
       "      <th>75%</th>\n",
       "      <td>2.022191</td>\n",
       "      <td>1.444395</td>\n",
       "      <td>-6.344681</td>\n",
       "      <td>1.0</td>\n",
       "    </tr>\n",
       "    <tr>\n",
       "      <th>max</th>\n",
       "      <td>4.807642</td>\n",
       "      <td>3.933892</td>\n",
       "      <td>7.571092</td>\n",
       "      <td>1.0</td>\n",
       "    </tr>\n",
       "  </tbody>\n",
       "</table>\n",
       "</div>"
      ],
      "text/plain": [
       "              x1         x2          y    x0\n",
       "count  20.000000  20.000000  20.000000  20.0\n",
       "mean    0.027218  -0.075481  -9.978829   1.0\n",
       "std     2.397628   2.247203   7.251472   0.0\n",
       "min    -4.078951  -4.403221 -24.968052   1.0\n",
       "25%    -1.428640  -1.797155 -14.739759   1.0\n",
       "50%    -0.652825  -0.022391  -9.617834   1.0\n",
       "75%     2.022191   1.444395  -6.344681   1.0\n",
       "max     4.807642   3.933892   7.571092   1.0"
      ]
     },
     "execution_count": 6,
     "metadata": {},
     "output_type": "execute_result"
    }
   ],
   "source": [
    "#Q5. Extra credit: Find the max/min of each variable and then plot the observation and prediction in 3D plot\n",
    "data1.describe()"
   ]
  },
  {
   "cell_type": "code",
   "execution_count": 7,
   "metadata": {
    "collapsed": false,
    "nbpresent": {
     "id": "a9aff49f-0983-4fa1-8121-142bb06e23d1"
    }
   },
   "outputs": [
    {
     "data": {
      "image/png": "[encoded data removed]",
      "text/plain": [
       "<matplotlib.figure.Figure at 0x1197c8c10>"
      ]
     },
     "metadata": {},
     "output_type": "display_data"
    }
   ],
   "source": [
    "fig = plt.figure(figsize = (12,10))  # Create a plot with customized figure size (width, height)\n",
    "ax = fig.gca(projection='3d')  # Extract the axis for further operations\n",
    "ax.scatter(data1.x1, data1.x2, data1.y, s = 100,  c = 'r')\n",
    "# Scatter plot, \"c\" stands for color, and \"s\" determines the marker size\n",
    "\n",
    "# Generate coordinates for hyperplane\n",
    "radius = 5\n",
    "x1, x2 = np.meshgrid(range(-radius,radius), range(-radius,radius))\n",
    "fit_y = lm1.params[0] + lm1.params[1] * x1 + lm1.params[2] * x2\n",
    "\n",
    "# alpha (between 0 and 1) controls the transparency with 0 being totally transparent\n",
    "ax.plot_surface(x1, x2, fit_y, color='c', alpha = 0.4)\n",
    "# Set labels and fontsize\n",
    "ax.set_xlabel('$x_1$', fontsize = 20)\n",
    "ax.set_ylabel('$x_2$', fontsize = 20)\n",
    "ax.set_zlabel('$y$', fontsize = 20)\n",
    "\n",
    "ax.view_init(azim = 60)   # Controls the viewing angle"
   ]
  },
  {
   "cell_type": "code",
   "execution_count": null,
   "metadata": {
    "collapsed": true,
    "nbpresent": {
     "id": "1c64f5be-7bf6-494f-91d7-b7bf64f87ef6"
    }
   },
   "outputs": [],
   "source": []
  },
  {
   "cell_type": "code",
   "execution_count": null,
   "metadata": {
    "collapsed": true,
    "nbpresent": {
     "id": "b2b5a353-4783-4a03-afc4-b0fde3239945"
    }
   },
   "outputs": [],
   "source": []
  },
  {
   "cell_type": "markdown",
   "metadata": {
    "nbpresent": {
     "id": "d08efdb5-28cf-47d7-8ca4-3aa34652eed3"
    }
   },
   "source": [
    "## Example 2, Income vs Education\n",
    "### Memo:\n",
    "* **IncomePerCapita**----measured in USD\n",
    "* **PopOver25** et al----population number under each category, e.g.\n",
    "    * total population over 25 years old\n",
    "    * holding a Bachelor's degree\n",
    "    * graduating from professional school, etc."
   ]
  },
  {
   "cell_type": "markdown",
   "metadata": {
    "nbpresent": {
     "id": "15e02d22-78d7-4b6e-a382-0f6938e9aa6a"
    }
   },
   "source": [
    "Starting from now we denote Income per capita by IPC:\n",
    "$$IPC = \\frac{Total \\: Income}{Total \\: Population}$$\n",
    "But Total Income can be calculated as\n",
    "$$ \\sum_{category} (Average \\: Income \\: within \\: each\\: Category  \\times Population \\: within\\: each\\: Category)$$\n",
    "Then, IPC can be rewritten as\n",
    "$$ \\sum_{category} (Average \\: Income \\: within \\: each\\: Category  \\times \\frac{Population \\: within\\: each\\: Category}{Total \\: Population}) = \\sum_{k} (I_k \\times p_k)$$\n",
    "where k is the category index, $I_k$ is the average income within category k, and $p_k$ is the population percentage of category k.  \n",
    "Our goal is to fit these $I_k$ as regression coefficients, note that since all these percentages sum up to 100%, we can omit one $p_k$ and rewrite this term as 1 minus the rest. For example, if there are 3 categories in total, we have:\n",
    "$$p_1 + p_2 + p_3 = 1$$which means$$p_3 = 1 - p_1 - p_2$$\n",
    "Hence  $$IPC = I_1p_1 + I_2p_2 + I_3p_3$$ $$= I_1p_1 + I_2p_2 + I_3(1 - p_1 -p_2)$$ $$= I_3 + (I_1 - I_3)p_1 + (I_2 - I_3)p_2$$\n",
    "which means we are equivalently fitting $I_3, (I_1 - I_3), (I_2 - I_3)$ rather than $I_1, I_3, I_3$, this is also where the intercept ($I_3$) comes from."
   ]
  },
  {
   "cell_type": "code",
   "execution_count": 8,
   "metadata": {
    "collapsed": false
   },
   "outputs": [
    {
     "data": {
      "text/html": [
       "<div>\n",
       "<table border=\"1\" class=\"dataframe\">\n",
       "  <thead>\n",
       "    <tr style=\"text-align: right;\">\n",
       "      <th></th>\n",
       "      <th>IncomePerCapita</th>\n",
       "      <th>PopOver25</th>\n",
       "      <th>LessThanHS</th>\n",
       "      <th>HighSchool</th>\n",
       "      <th>SomeCollege</th>\n",
       "      <th>Bachelor</th>\n",
       "      <th>Master</th>\n",
       "      <th>Doctorate</th>\n",
       "      <th>ProfSchool</th>\n",
       "    </tr>\n",
       "    <tr>\n",
       "      <th>Zipcode</th>\n",
       "      <th></th>\n",
       "      <th></th>\n",
       "      <th></th>\n",
       "      <th></th>\n",
       "      <th></th>\n",
       "      <th></th>\n",
       "      <th></th>\n",
       "      <th></th>\n",
       "      <th></th>\n",
       "    </tr>\n",
       "  </thead>\n",
       "  <tbody>\n",
       "    <tr>\n",
       "      <th>10001</th>\n",
       "      <td>77512.0</td>\n",
       "      <td>16328</td>\n",
       "      <td>1389</td>\n",
       "      <td>1665</td>\n",
       "      <td>2075</td>\n",
       "      <td>6061</td>\n",
       "      <td>3412</td>\n",
       "      <td>519</td>\n",
       "      <td>1207</td>\n",
       "    </tr>\n",
       "    <tr>\n",
       "      <th>10002</th>\n",
       "      <td>26905.0</td>\n",
       "      <td>60932</td>\n",
       "      <td>21170</td>\n",
       "      <td>12718</td>\n",
       "      <td>8532</td>\n",
       "      <td>12721</td>\n",
       "      <td>4001</td>\n",
       "      <td>641</td>\n",
       "      <td>1149</td>\n",
       "    </tr>\n",
       "    <tr>\n",
       "      <th>10003</th>\n",
       "      <td>79088.0</td>\n",
       "      <td>41182</td>\n",
       "      <td>1499</td>\n",
       "      <td>2810</td>\n",
       "      <td>4516</td>\n",
       "      <td>17958</td>\n",
       "      <td>9094</td>\n",
       "      <td>1626</td>\n",
       "      <td>3679</td>\n",
       "    </tr>\n",
       "    <tr>\n",
       "      <th>10004</th>\n",
       "      <td>98020.0</td>\n",
       "      <td>2279</td>\n",
       "      <td>29</td>\n",
       "      <td>87</td>\n",
       "      <td>305</td>\n",
       "      <td>984</td>\n",
       "      <td>550</td>\n",
       "      <td>86</td>\n",
       "      <td>238</td>\n",
       "    </tr>\n",
       "    <tr>\n",
       "      <th>10005</th>\n",
       "      <td>99633.0</td>\n",
       "      <td>5954</td>\n",
       "      <td>133</td>\n",
       "      <td>103</td>\n",
       "      <td>454</td>\n",
       "      <td>2745</td>\n",
       "      <td>1637</td>\n",
       "      <td>219</td>\n",
       "      <td>663</td>\n",
       "    </tr>\n",
       "  </tbody>\n",
       "</table>\n",
       "</div>"
      ],
      "text/plain": [
       "         IncomePerCapita  PopOver25  LessThanHS  HighSchool  SomeCollege  \\\n",
       "Zipcode                                                                    \n",
       "10001            77512.0      16328        1389        1665         2075   \n",
       "10002            26905.0      60932       21170       12718         8532   \n",
       "10003            79088.0      41182        1499        2810         4516   \n",
       "10004            98020.0       2279          29          87          305   \n",
       "10005            99633.0       5954         133         103          454   \n",
       "\n",
       "         Bachelor  Master  Doctorate  ProfSchool  \n",
       "Zipcode                                           \n",
       "10001        6061    3412        519        1207  \n",
       "10002       12721    4001        641        1149  \n",
       "10003       17958    9094       1626        3679  \n",
       "10004         984     550         86         238  \n",
       "10005        2745    1637        219         663  "
      ]
     },
     "execution_count": 8,
     "metadata": {},
     "output_type": "execute_result"
    }
   ],
   "source": [
    "data2 = pd.read_csv(path + 'IncomeEduReg.csv', index_col = 0)\n",
    "data2.head()"
   ]
  },
  {
   "cell_type": "code",
   "execution_count": 13,
   "metadata": {
    "collapsed": true
   },
   "outputs": [],
   "source": [
    "# Q1. Load data, verify that the number of category \"PopOver25\" is indeed the sum of all other population categories"
   ]
  },
  {
   "cell_type": "code",
   "execution_count": 12,
   "metadata": {
    "collapsed": false
   },
   "outputs": [],
   "source": [
    "# Q2. Make sure there is no NaN (Not a number) or 0 in the denominator before converting population into percentage\n",
    "    # Simply divide each column by the total population \"PopOver25\"\n",
    "    # Leave the result in form of 58(%) rather than 0.58"
   ]
  },
  {
   "cell_type": "code",
   "execution_count": 11,
   "metadata": {
    "collapsed": true
   },
   "outputs": [],
   "source": [
    "# Q3. Rearrange the dataset (of percentages, not population) as follows:\n",
    "    # Q3.1 Create a new column called \"Undergrad\", containing the sum of \"Bachelor\" and \"SomeCollege\"\n",
    "    # Q3.2 Create a new column called \"Graduate\", containing the sum of \"Master\" and \"Doctorate\"\n",
    "    # Q3.3 Create a new column called \"UpToHighSchool\", containing the sum of \"LessThanHS\" and \"HighSchool\"\n",
    "    # Q3.4 \"ProfessionalSchool\" remains unchanged\n",
    "        #  --so we have effectively simplified the model with 4 categories\n",
    "    # Q3.5 Leave out the \"UpToHighSchool\" column then regress over the other 3 (Undergrad + Graduate + ProfSchool)"
   ]
  },
  {
   "cell_type": "code",
   "execution_count": 26,
   "metadata": {
    "collapsed": true
   },
   "outputs": [],
   "source": [
    "# Q4. Visualize the data by plotting the observation versus our prediction in a 2D plot"
   ]
  },
  {
   "cell_type": "code",
   "execution_count": null,
   "metadata": {
    "collapsed": true
   },
   "outputs": [],
   "source": []
  },
  {
   "cell_type": "code",
   "execution_count": null,
   "metadata": {
    "collapsed": true
   },
   "outputs": [],
   "source": []
  },
  {
   "cell_type": "code",
   "execution_count": null,
   "metadata": {
    "collapsed": true
   },
   "outputs": [],
   "source": []
  },
  {
   "cell_type": "code",
   "execution_count": null,
   "metadata": {
    "collapsed": true
   },
   "outputs": [],
   "source": []
  },
  {
   "cell_type": "code",
   "execution_count": null,
   "metadata": {
    "collapsed": true
   },
   "outputs": [],
   "source": []
  },
  {
   "cell_type": "code",
   "execution_count": null,
   "metadata": {
    "collapsed": true
   },
   "outputs": [],
   "source": []
  },
  {
   "cell_type": "code",
   "execution_count": 13,
   "metadata": {
    "collapsed": true
   },
   "outputs": [],
   "source": [
    "# Q1. Load data, verify that the number of category \"PopOver25\" is indeed the sum of all other population categories"
   ]
  },
  {
   "cell_type": "code",
   "execution_count": 20,
   "metadata": {
    "collapsed": false,
    "nbpresent": {
     "id": "f72efe25-f57c-4a25-8f41-f5906c30cc1f"
    }
   },
   "outputs": [
    {
     "data": {
      "text/plain": [
       "1"
      ]
     },
     "execution_count": 20,
     "metadata": {},
     "output_type": "execute_result"
    }
   ],
   "source": [
    "# If two things are equal, then Boolean operation (a == b) would return True\n",
    "# which can be intepreted as integer 1 in Python, thus if the product is 1\n",
    "# then all entries must be 1 (one False would cause the multiplication to yield 0)\n",
    "prod(data2.iloc[:,2:].sum(1) == data2.PopOver25)"
   ]
  },
  {
   "cell_type": "code",
   "execution_count": 12,
   "metadata": {
    "collapsed": false
   },
   "outputs": [],
   "source": [
    "# Q2. Make sure there is no NaN (Not a number) or 0 in the denominator before converting population into percentage\n",
    "    # Simply divide each column by the total population \"PopOver25\"\n",
    "    # Leave the result in form of 58(%) rather than 0.58"
   ]
  },
  {
   "cell_type": "code",
   "execution_count": 21,
   "metadata": {
    "collapsed": false,
    "nbpresent": {
     "id": "1d10fa22-6a28-4eaf-85fe-93cab3eff075"
    }
   },
   "outputs": [],
   "source": [
    "data2.dropna(inplace = True)  #drop NAN to avoid invalid computation\n",
    "data2 = pd.concat([data2.IncomePerCapita,      # Convert unit to 1k USD, only for scaling purpose\n",
    "        100*data2.iloc[:,2:].div(data2.PopOver25, axis = 0)],  # Compute the percentage, column-wise\n",
    "        axis = 1)  # Concatenate the Income column with percentages, row-wise"
   ]
  },
  {
   "cell_type": "code",
   "execution_count": 11,
   "metadata": {
    "collapsed": true
   },
   "outputs": [],
   "source": [
    "# Q3. Rearrange the dataset (of percentages, not population) as follows:\n",
    "    # Q3.1 Create a new column called \"Undergrad\", containing the sum of \"Bachelor\" and \"SomeCollege\"\n",
    "    # Q3.2 Create a new column called \"Graduate\", containing the sum of \"Master\" and \"Doctorate\"\n",
    "    # Q3.3 Create a new column called \"UpToHighSchool\", containing the sum of \"LessThanHS\" and \"HighSchool\"\n",
    "    # Q3.4 \"ProfessionalSchool\" remains unchanged\n",
    "        #  --so we have effectively simplified the model with 4 categories\n",
    "    # Q3.5 Leave out the \"UpToHighSchool\" column then regress over the other 3 (Undergrad + Graduate + ProfSchool)"
   ]
  },
  {
   "cell_type": "code",
   "execution_count": 22,
   "metadata": {
    "collapsed": false,
    "nbpresent": {
     "id": "2ca4c815-7bf5-4afd-86d0-2717182a70be"
    },
    "scrolled": true
   },
   "outputs": [
    {
     "data": {
      "text/html": [
       "<div>\n",
       "<table border=\"1\" class=\"dataframe\">\n",
       "  <thead>\n",
       "    <tr style=\"text-align: right;\">\n",
       "      <th></th>\n",
       "      <th>IncomePerCapita</th>\n",
       "      <th>LessThanHS</th>\n",
       "      <th>HighSchool</th>\n",
       "      <th>SomeCollege</th>\n",
       "      <th>Bachelor</th>\n",
       "      <th>Master</th>\n",
       "      <th>Doctorate</th>\n",
       "      <th>ProfSchool</th>\n",
       "      <th>Undergrad</th>\n",
       "      <th>Graduate</th>\n",
       "      <th>UpToHS</th>\n",
       "    </tr>\n",
       "    <tr>\n",
       "      <th>Zipcode</th>\n",
       "      <th></th>\n",
       "      <th></th>\n",
       "      <th></th>\n",
       "      <th></th>\n",
       "      <th></th>\n",
       "      <th></th>\n",
       "      <th></th>\n",
       "      <th></th>\n",
       "      <th></th>\n",
       "      <th></th>\n",
       "      <th></th>\n",
       "    </tr>\n",
       "  </thead>\n",
       "  <tbody>\n",
       "    <tr>\n",
       "      <th>10001</th>\n",
       "      <td>77512.0</td>\n",
       "      <td>8.506859</td>\n",
       "      <td>10.197207</td>\n",
       "      <td>12.708231</td>\n",
       "      <td>37.120284</td>\n",
       "      <td>20.896619</td>\n",
       "      <td>3.178589</td>\n",
       "      <td>7.392210</td>\n",
       "      <td>49.828515</td>\n",
       "      <td>24.075208</td>\n",
       "      <td>18.704067</td>\n",
       "    </tr>\n",
       "    <tr>\n",
       "      <th>10002</th>\n",
       "      <td>26905.0</td>\n",
       "      <td>34.743649</td>\n",
       "      <td>20.872448</td>\n",
       "      <td>14.002495</td>\n",
       "      <td>20.877371</td>\n",
       "      <td>6.566336</td>\n",
       "      <td>1.051992</td>\n",
       "      <td>1.885709</td>\n",
       "      <td>34.879866</td>\n",
       "      <td>7.618329</td>\n",
       "      <td>55.616097</td>\n",
       "    </tr>\n",
       "    <tr>\n",
       "      <th>10003</th>\n",
       "      <td>79088.0</td>\n",
       "      <td>3.639940</td>\n",
       "      <td>6.823369</td>\n",
       "      <td>10.965956</td>\n",
       "      <td>43.606430</td>\n",
       "      <td>22.082463</td>\n",
       "      <td>3.948327</td>\n",
       "      <td>8.933515</td>\n",
       "      <td>54.572386</td>\n",
       "      <td>26.030790</td>\n",
       "      <td>10.463309</td>\n",
       "    </tr>\n",
       "    <tr>\n",
       "      <th>10004</th>\n",
       "      <td>98020.0</td>\n",
       "      <td>1.272488</td>\n",
       "      <td>3.817464</td>\n",
       "      <td>13.383063</td>\n",
       "      <td>43.176832</td>\n",
       "      <td>24.133392</td>\n",
       "      <td>3.773585</td>\n",
       "      <td>10.443177</td>\n",
       "      <td>56.559895</td>\n",
       "      <td>27.906977</td>\n",
       "      <td>5.089952</td>\n",
       "    </tr>\n",
       "    <tr>\n",
       "      <th>10005</th>\n",
       "      <td>99633.0</td>\n",
       "      <td>2.233792</td>\n",
       "      <td>1.729929</td>\n",
       "      <td>7.625126</td>\n",
       "      <td>46.103460</td>\n",
       "      <td>27.494122</td>\n",
       "      <td>3.678200</td>\n",
       "      <td>11.135371</td>\n",
       "      <td>53.728586</td>\n",
       "      <td>31.172321</td>\n",
       "      <td>3.963722</td>\n",
       "    </tr>\n",
       "  </tbody>\n",
       "</table>\n",
       "</div>"
      ],
      "text/plain": [
       "         IncomePerCapita  LessThanHS  HighSchool  SomeCollege   Bachelor  \\\n",
       "Zipcode                                                                    \n",
       "10001            77512.0    8.506859   10.197207    12.708231  37.120284   \n",
       "10002            26905.0   34.743649   20.872448    14.002495  20.877371   \n",
       "10003            79088.0    3.639940    6.823369    10.965956  43.606430   \n",
       "10004            98020.0    1.272488    3.817464    13.383063  43.176832   \n",
       "10005            99633.0    2.233792    1.729929     7.625126  46.103460   \n",
       "\n",
       "            Master  Doctorate  ProfSchool  Undergrad   Graduate     UpToHS  \n",
       "Zipcode                                                                     \n",
       "10001    20.896619   3.178589    7.392210  49.828515  24.075208  18.704067  \n",
       "10002     6.566336   1.051992    1.885709  34.879866   7.618329  55.616097  \n",
       "10003    22.082463   3.948327    8.933515  54.572386  26.030790  10.463309  \n",
       "10004    24.133392   3.773585   10.443177  56.559895  27.906977   5.089952  \n",
       "10005    27.494122   3.678200   11.135371  53.728586  31.172321   3.963722  "
      ]
     },
     "execution_count": 22,
     "metadata": {},
     "output_type": "execute_result"
    }
   ],
   "source": [
    "# Let's group a few categories together for model simplification and better demonstration.\n",
    "data2['Undergrad'] = data2.Bachelor + data2.SomeCollege\n",
    "data2['Graduate'] = data2.Master + data2.Doctorate\n",
    "data2['UpToHS'] = data2.LessThanHS + data2.HighSchool\n",
    "# \"Professional School category remains unchanged\n",
    "data2.head()"
   ]
  },
  {
   "cell_type": "code",
   "execution_count": 23,
   "metadata": {
    "collapsed": false,
    "nbpresent": {
     "id": "38f11e18-8f99-4371-b475-61722a091287"
    },
    "scrolled": false
   },
   "outputs": [
    {
     "name": "stdout",
     "output_type": "stream",
     "text": [
      "                            OLS Regression Results                            \n",
      "==============================================================================\n",
      "Dep. Variable:        IncomePerCapita   R-squared:                       0.878\n",
      "Model:                            OLS   Adj. R-squared:                  0.876\n",
      "Method:                 Least Squares   F-statistic:                     424.2\n",
      "Date:                Sun, 18 Sep 2016   Prob (F-statistic):           1.51e-80\n",
      "Time:                        17:31:42   Log-Likelihood:                -1931.0\n",
      "No. Observations:                 181   AIC:                             3870.\n",
      "Df Residuals:                     177   BIC:                             3883.\n",
      "Df Model:                           3                                         \n",
      "Covariance Type:            nonrobust                                         \n",
      "==============================================================================\n",
      "                 coef    std err          t      P>|t|      [95.0% Conf. Int.]\n",
      "------------------------------------------------------------------------------\n",
      "Intercept  -2966.8469   5213.705     -0.569      0.570     -1.33e+04  7322.177\n",
      "Undergrad    370.7127    142.685      2.598      0.010        89.130   652.295\n",
      "Graduate     245.4992    264.850      0.927      0.355      -277.171   768.169\n",
      "ProfSchool  6603.4312    552.550     11.951      0.000      5512.997  7693.866\n",
      "==============================================================================\n",
      "Omnibus:                      100.023   Durbin-Watson:                   1.827\n",
      "Prob(Omnibus):                  0.000   Jarque-Bera (JB):             1122.015\n",
      "Skew:                           1.763   Prob(JB):                    2.28e-244\n",
      "Kurtosis:                      14.676   Cond. No.                         305.\n",
      "==============================================================================\n",
      "\n",
      "Warnings:\n",
      "[1] Standard Errors assume that the covariance matrix of the errors is correctly specified.\n"
     ]
    }
   ],
   "source": [
    "lm2 = smf.ols(formula = 'IncomePerCapita ~ Undergrad + Graduate + ProfSchool', data = data2).fit()\n",
    "print(lm2.summary())"
   ]
  },
  {
   "cell_type": "code",
   "execution_count": 26,
   "metadata": {
    "collapsed": true
   },
   "outputs": [],
   "source": [
    "# Q4. Visualize the data by plotting the observation versus our prediction in a 2D plot"
   ]
  },
  {
   "cell_type": "code",
   "execution_count": 25,
   "metadata": {
    "collapsed": false,
    "nbpresent": {
     "id": "751ce2f5-8679-4407-874e-f888c89d1cbf"
    }
   },
   "outputs": [
    {
     "data": {
      "text/plain": [
       "<matplotlib.text.Text at 0x11da63e10>"
      ]
     },
     "execution_count": 25,
     "metadata": {},
     "output_type": "execute_result"
    },
    {
     "data": {
      "image/png": "[encoded data removed]",
      "text/plain": [
       "<matplotlib.figure.Figure at 0x105f984d0>"
      ]
     },
     "metadata": {},
     "output_type": "display_data"
    }
   ],
   "source": [
    "lmy = lm2.predict(data2)   # Calculate the predicted value\n",
    "plt.figure(figsize = (8,6))\n",
    "plt.plot(lmy,data2.IncomePerCapita,'or', markersize = 8) # Plot the observed value, linestyle = 'or'\n",
    "plt.plot(lmy,lmy,'-b', linewidth = 3)                    # Plot the predicted value\n",
    "\n",
    "# Plot setting\n",
    "plt.xlabel('Prediction', fontsize = 16)\n",
    "plt.ylabel('Observation', fontsize = 16)"
   ]
  },
  {
   "cell_type": "code",
   "execution_count": null,
   "metadata": {
    "collapsed": true
   },
   "outputs": [],
   "source": []
  },
  {
   "cell_type": "code",
   "execution_count": 18,
   "metadata": {
    "collapsed": true
   },
   "outputs": [],
   "source": [
    "# For comparison purpose, let's run the regression with the original categorizations (leave out \"LessThanHS\")"
   ]
  },
  {
   "cell_type": "code",
   "execution_count": 27,
   "metadata": {
    "collapsed": false
   },
   "outputs": [
    {
     "data": {
      "text/plain": [
       "Index([u'IncomePerCapita', u'LessThanHS', u'HighSchool', u'SomeCollege',\n",
       "       u'Bachelor', u'Master', u'Doctorate', u'ProfSchool', u'Undergrad',\n",
       "       u'Graduate', u'UpToHS'],\n",
       "      dtype='object')"
      ]
     },
     "execution_count": 27,
     "metadata": {},
     "output_type": "execute_result"
    }
   ],
   "source": [
    "data2.columns"
   ]
  },
  {
   "cell_type": "code",
   "execution_count": 28,
   "metadata": {
    "collapsed": false
   },
   "outputs": [
    {
     "data": {
      "text/plain": [
       "'HighSchool + SomeCollege + Bachelor + Master + Doctorate + ProfSchool'"
      ]
     },
     "execution_count": 28,
     "metadata": {},
     "output_type": "execute_result"
    }
   ],
   "source": [
    "# Little trick:\n",
    "' + '.join(data2.columns[2:8])"
   ]
  },
  {
   "cell_type": "code",
   "execution_count": 29,
   "metadata": {
    "collapsed": false
   },
   "outputs": [
    {
     "name": "stdout",
     "output_type": "stream",
     "text": [
      "                            OLS Regression Results                            \n",
      "==============================================================================\n",
      "Dep. Variable:        IncomePerCapita   R-squared:                       0.885\n",
      "Model:                            OLS   Adj. R-squared:                  0.881\n",
      "Method:                 Least Squares   F-statistic:                     223.0\n",
      "Date:                Sun, 18 Sep 2016   Prob (F-statistic):           6.25e-79\n",
      "Time:                        17:36:09   Log-Likelihood:                -1925.6\n",
      "No. Observations:                 181   AIC:                             3865.\n",
      "Df Residuals:                     174   BIC:                             3888.\n",
      "Df Model:                           6                                         \n",
      "Covariance Type:            nonrobust                                         \n",
      "===============================================================================\n",
      "                  coef    std err          t      P>|t|      [95.0% Conf. Int.]\n",
      "-------------------------------------------------------------------------------\n",
      "Intercept   -7425.3552   8555.679     -0.868      0.387     -2.43e+04  9460.916\n",
      "HighSchool    304.5340    197.441      1.542      0.125       -85.154   694.222\n",
      "SomeCollege   -25.8410    191.798     -0.135      0.893      -404.391   352.709\n",
      "Bachelor      813.9350    213.534      3.812      0.000       392.485  1235.385\n",
      "Master          4.1759    380.922      0.011      0.991      -747.647   755.999\n",
      "Doctorate      -4.9482    807.745     -0.006      0.995     -1599.187  1589.291\n",
      "ProfSchool   6250.8446    595.441     10.498      0.000      5075.629  7426.061\n",
      "==============================================================================\n",
      "Omnibus:                      110.657   Durbin-Watson:                   1.883\n",
      "Prob(Omnibus):                  0.000   Jarque-Bera (JB):             1376.517\n",
      "Skew:                           1.988   Prob(JB):                    1.24e-299\n",
      "Kurtosis:                      15.912   Cond. No.                         450.\n",
      "==============================================================================\n",
      "\n",
      "Warnings:\n",
      "[1] Standard Errors assume that the covariance matrix of the errors is correctly specified.\n"
     ]
    }
   ],
   "source": [
    "# Q4\n",
    "lm2 = smf.ols(formula = 'IncomePerCapita ~ ' + ' + '.join(data2.columns[2:8]),\n",
    "              data = data2).fit()\n",
    "print(lm2.summary())"
   ]
  },
  {
   "cell_type": "code",
   "execution_count": 30,
   "metadata": {
    "collapsed": false
   },
   "outputs": [
    {
     "data": {
      "text/html": [
       "<div>\n",
       "<table border=\"1\" class=\"dataframe\">\n",
       "  <thead>\n",
       "    <tr style=\"text-align: right;\">\n",
       "      <th></th>\n",
       "      <th>IncomePerCapita</th>\n",
       "      <th>LessThanHS</th>\n",
       "      <th>HighSchool</th>\n",
       "      <th>SomeCollege</th>\n",
       "      <th>Bachelor</th>\n",
       "      <th>Master</th>\n",
       "      <th>Doctorate</th>\n",
       "      <th>ProfSchool</th>\n",
       "      <th>Undergrad</th>\n",
       "      <th>Graduate</th>\n",
       "      <th>UpToHS</th>\n",
       "    </tr>\n",
       "  </thead>\n",
       "  <tbody>\n",
       "    <tr>\n",
       "      <th>IncomePerCapita</th>\n",
       "      <td>1.000000</td>\n",
       "      <td>-0.711450</td>\n",
       "      <td>-0.825741</td>\n",
       "      <td>-0.677916</td>\n",
       "      <td>0.871596</td>\n",
       "      <td>0.882306</td>\n",
       "      <td>0.729626</td>\n",
       "      <td>0.932823</td>\n",
       "      <td>0.635339</td>\n",
       "      <td>0.881562</td>\n",
       "      <td>-0.875997</td>\n",
       "    </tr>\n",
       "    <tr>\n",
       "      <th>LessThanHS</th>\n",
       "      <td>-0.711450</td>\n",
       "      <td>1.000000</td>\n",
       "      <td>0.523175</td>\n",
       "      <td>0.225423</td>\n",
       "      <td>-0.788850</td>\n",
       "      <td>-0.802496</td>\n",
       "      <td>-0.568103</td>\n",
       "      <td>-0.702364</td>\n",
       "      <td>-0.889096</td>\n",
       "      <td>-0.782409</td>\n",
       "      <td>0.889517</td>\n",
       "    </tr>\n",
       "    <tr>\n",
       "      <th>HighSchool</th>\n",
       "      <td>-0.825741</td>\n",
       "      <td>0.523175</td>\n",
       "      <td>1.000000</td>\n",
       "      <td>0.709713</td>\n",
       "      <td>-0.874121</td>\n",
       "      <td>-0.874972</td>\n",
       "      <td>-0.757934</td>\n",
       "      <td>-0.876771</td>\n",
       "      <td>-0.613039</td>\n",
       "      <td>-0.881220</td>\n",
       "      <td>0.854756</td>\n",
       "    </tr>\n",
       "    <tr>\n",
       "      <th>SomeCollege</th>\n",
       "      <td>-0.677916</td>\n",
       "      <td>0.225423</td>\n",
       "      <td>0.709713</td>\n",
       "      <td>1.000000</td>\n",
       "      <td>-0.682267</td>\n",
       "      <td>-0.663155</td>\n",
       "      <td>-0.644476</td>\n",
       "      <td>-0.715817</td>\n",
       "      <td>-0.117544</td>\n",
       "      <td>-0.682120</td>\n",
       "      <td>0.517786</td>\n",
       "    </tr>\n",
       "    <tr>\n",
       "      <th>Bachelor</th>\n",
       "      <td>0.871596</td>\n",
       "      <td>-0.788850</td>\n",
       "      <td>-0.874121</td>\n",
       "      <td>-0.682267</td>\n",
       "      <td>1.000000</td>\n",
       "      <td>0.920058</td>\n",
       "      <td>0.706647</td>\n",
       "      <td>0.874991</td>\n",
       "      <td>0.806231</td>\n",
       "      <td>0.908269</td>\n",
       "      <td>-0.949073</td>\n",
       "    </tr>\n",
       "    <tr>\n",
       "      <th>Master</th>\n",
       "      <td>0.882306</td>\n",
       "      <td>-0.802496</td>\n",
       "      <td>-0.874972</td>\n",
       "      <td>-0.663155</td>\n",
       "      <td>0.920058</td>\n",
       "      <td>1.000000</td>\n",
       "      <td>0.793292</td>\n",
       "      <td>0.918050</td>\n",
       "      <td>0.713110</td>\n",
       "      <td>0.992317</td>\n",
       "      <td>-0.957840</td>\n",
       "    </tr>\n",
       "    <tr>\n",
       "      <th>Doctorate</th>\n",
       "      <td>0.729626</td>\n",
       "      <td>-0.568103</td>\n",
       "      <td>-0.757934</td>\n",
       "      <td>-0.644476</td>\n",
       "      <td>0.706647</td>\n",
       "      <td>0.793292</td>\n",
       "      <td>1.000000</td>\n",
       "      <td>0.782667</td>\n",
       "      <td>0.438346</td>\n",
       "      <td>0.862522</td>\n",
       "      <td>-0.752341</td>\n",
       "    </tr>\n",
       "    <tr>\n",
       "      <th>ProfSchool</th>\n",
       "      <td>0.932823</td>\n",
       "      <td>-0.702364</td>\n",
       "      <td>-0.876771</td>\n",
       "      <td>-0.715817</td>\n",
       "      <td>0.874991</td>\n",
       "      <td>0.918050</td>\n",
       "      <td>0.782667</td>\n",
       "      <td>1.000000</td>\n",
       "      <td>0.609281</td>\n",
       "      <td>0.922048</td>\n",
       "      <td>-0.897821</td>\n",
       "    </tr>\n",
       "    <tr>\n",
       "      <th>Undergrad</th>\n",
       "      <td>0.635339</td>\n",
       "      <td>-0.889096</td>\n",
       "      <td>-0.613039</td>\n",
       "      <td>-0.117544</td>\n",
       "      <td>0.806231</td>\n",
       "      <td>0.713110</td>\n",
       "      <td>0.438346</td>\n",
       "      <td>0.609281</td>\n",
       "      <td>1.000000</td>\n",
       "      <td>0.681751</td>\n",
       "      <td>-0.870152</td>\n",
       "    </tr>\n",
       "    <tr>\n",
       "      <th>Graduate</th>\n",
       "      <td>0.881562</td>\n",
       "      <td>-0.782409</td>\n",
       "      <td>-0.881220</td>\n",
       "      <td>-0.682120</td>\n",
       "      <td>0.908269</td>\n",
       "      <td>0.992317</td>\n",
       "      <td>0.862522</td>\n",
       "      <td>0.922048</td>\n",
       "      <td>0.681751</td>\n",
       "      <td>1.000000</td>\n",
       "      <td>-0.948956</td>\n",
       "    </tr>\n",
       "    <tr>\n",
       "      <th>UpToHS</th>\n",
       "      <td>-0.875997</td>\n",
       "      <td>0.889517</td>\n",
       "      <td>0.854756</td>\n",
       "      <td>0.517786</td>\n",
       "      <td>-0.949073</td>\n",
       "      <td>-0.957840</td>\n",
       "      <td>-0.752341</td>\n",
       "      <td>-0.897821</td>\n",
       "      <td>-0.870152</td>\n",
       "      <td>-0.948956</td>\n",
       "      <td>1.000000</td>\n",
       "    </tr>\n",
       "  </tbody>\n",
       "</table>\n",
       "</div>"
      ],
      "text/plain": [
       "                 IncomePerCapita  LessThanHS  HighSchool  SomeCollege  \\\n",
       "IncomePerCapita         1.000000   -0.711450   -0.825741    -0.677916   \n",
       "LessThanHS             -0.711450    1.000000    0.523175     0.225423   \n",
       "HighSchool             -0.825741    0.523175    1.000000     0.709713   \n",
       "SomeCollege            -0.677916    0.225423    0.709713     1.000000   \n",
       "Bachelor                0.871596   -0.788850   -0.874121    -0.682267   \n",
       "Master                  0.882306   -0.802496   -0.874972    -0.663155   \n",
       "Doctorate               0.729626   -0.568103   -0.757934    -0.644476   \n",
       "ProfSchool              0.932823   -0.702364   -0.876771    -0.715817   \n",
       "Undergrad               0.635339   -0.889096   -0.613039    -0.117544   \n",
       "Graduate                0.881562   -0.782409   -0.881220    -0.682120   \n",
       "UpToHS                 -0.875997    0.889517    0.854756     0.517786   \n",
       "\n",
       "                 Bachelor    Master  Doctorate  ProfSchool  Undergrad  \\\n",
       "IncomePerCapita  0.871596  0.882306   0.729626    0.932823   0.635339   \n",
       "LessThanHS      -0.788850 -0.802496  -0.568103   -0.702364  -0.889096   \n",
       "HighSchool      -0.874121 -0.874972  -0.757934   -0.876771  -0.613039   \n",
       "SomeCollege     -0.682267 -0.663155  -0.644476   -0.715817  -0.117544   \n",
       "Bachelor         1.000000  0.920058   0.706647    0.874991   0.806231   \n",
       "Master           0.920058  1.000000   0.793292    0.918050   0.713110   \n",
       "Doctorate        0.706647  0.793292   1.000000    0.782667   0.438346   \n",
       "ProfSchool       0.874991  0.918050   0.782667    1.000000   0.609281   \n",
       "Undergrad        0.806231  0.713110   0.438346    0.609281   1.000000   \n",
       "Graduate         0.908269  0.992317   0.862522    0.922048   0.681751   \n",
       "UpToHS          -0.949073 -0.957840  -0.752341   -0.897821  -0.870152   \n",
       "\n",
       "                 Graduate    UpToHS  \n",
       "IncomePerCapita  0.881562 -0.875997  \n",
       "LessThanHS      -0.782409  0.889517  \n",
       "HighSchool      -0.881220  0.854756  \n",
       "SomeCollege     -0.682120  0.517786  \n",
       "Bachelor         0.908269 -0.949073  \n",
       "Master           0.992317 -0.957840  \n",
       "Doctorate        0.862522 -0.752341  \n",
       "ProfSchool       0.922048 -0.897821  \n",
       "Undergrad        0.681751 -0.870152  \n",
       "Graduate         1.000000 -0.948956  \n",
       "UpToHS          -0.948956  1.000000  "
      ]
     },
     "execution_count": 30,
     "metadata": {},
     "output_type": "execute_result"
    }
   ],
   "source": [
    "data2.corr()"
   ]
  },
  {
   "cell_type": "markdown",
   "metadata": {
    "collapsed": true
   },
   "source": [
    "## We can see that these variables are highly correlated to each other, so the results' interpretability is suffering from multicollinearity.\n",
    "## Other statistics, such as p-values, confidence intervals, will be discussed in next session"
   ]
  },
  {
   "cell_type": "code",
   "execution_count": null,
   "metadata": {
    "collapsed": true
   },
   "outputs": [],
   "source": []
  },
  {
   "cell_type": "markdown",
   "metadata": {
    "nbpresent": {
     "id": "d02b80e7-08d4-4e62-993b-b386eb9e89a9"
    }
   },
   "source": [
    "## Example 3, Polynomial fit"
   ]
  },
  {
   "cell_type": "markdown",
   "metadata": {
    "nbpresent": {
     "id": "ad28625c-6bff-47bc-9311-1314ffaca02c"
    }
   },
   "source": [
    "### Given two columns of data, $y$ and $x$, we want to fit it with a polynomial and find the coefficients $w$ $$\\hat y(x,w) = \\sum\\limits_{i=1}^M w_i\\cdot x^i$$\n",
    "### Which M gives the best fit?"
   ]
  },
  {
   "cell_type": "code",
   "execution_count": 35,
   "metadata": {
    "collapsed": false,
    "nbpresent": {
     "id": "e6401964-7bc4-42f7-8d68-3bc286c06931"
    }
   },
   "outputs": [
    {
     "data": {
      "text/html": [
       "<div>\n",
       "<table border=\"1\" class=\"dataframe\">\n",
       "  <thead>\n",
       "    <tr style=\"text-align: right;\">\n",
       "      <th></th>\n",
       "      <th>y</th>\n",
       "      <th>x</th>\n",
       "    </tr>\n",
       "  </thead>\n",
       "  <tbody>\n",
       "    <tr>\n",
       "      <th>0</th>\n",
       "      <td>-8.256892</td>\n",
       "      <td>-2.000000</td>\n",
       "    </tr>\n",
       "    <tr>\n",
       "      <th>1</th>\n",
       "      <td>4.732777</td>\n",
       "      <td>-1.333333</td>\n",
       "    </tr>\n",
       "    <tr>\n",
       "      <th>2</th>\n",
       "      <td>3.997084</td>\n",
       "      <td>-0.666667</td>\n",
       "    </tr>\n",
       "    <tr>\n",
       "      <th>3</th>\n",
       "      <td>-3.518884</td>\n",
       "      <td>0.000000</td>\n",
       "    </tr>\n",
       "    <tr>\n",
       "      <th>4</th>\n",
       "      <td>-4.661727</td>\n",
       "      <td>0.666667</td>\n",
       "    </tr>\n",
       "  </tbody>\n",
       "</table>\n",
       "</div>"
      ],
      "text/plain": [
       "          y         x\n",
       "0 -8.256892 -2.000000\n",
       "1  4.732777 -1.333333\n",
       "2  3.997084 -0.666667\n",
       "3 -3.518884  0.000000\n",
       "4 -4.661727  0.666667"
      ]
     },
     "execution_count": 35,
     "metadata": {},
     "output_type": "execute_result"
    }
   ],
   "source": [
    "data3 = pd.read_csv(path + 'Example3.csv')\n",
    "data3.head()"
   ]
  },
  {
   "cell_type": "code",
   "execution_count": 32,
   "metadata": {
    "collapsed": false
   },
   "outputs": [
    {
     "data": {
      "text/plain": [
       "0.016695221729687515"
      ]
     },
     "execution_count": 32,
     "metadata": {},
     "output_type": "execute_result"
    }
   ],
   "source": [
    "# First try linear regression and check the R2\n",
    "(smf.ols(formula = 'y ~ x', data = data3).fit()).rsquared"
   ]
  },
  {
   "cell_type": "code",
   "execution_count": null,
   "metadata": {
    "collapsed": true
   },
   "outputs": [],
   "source": []
  },
  {
   "cell_type": "code",
   "execution_count": 26,
   "metadata": {
    "collapsed": true
   },
   "outputs": [],
   "source": [
    "#Q1. First create a new data frame, containing all x^j from x^0 (=1, intercept) up to x^9"
   ]
  },
  {
   "cell_type": "code",
   "execution_count": 27,
   "metadata": {
    "collapsed": true
   },
   "outputs": [],
   "source": [
    "#Q2. As degree M increases from 1 to 9, fit y with M-degree polynomial and find the corresponding parameters and R^2\n",
    "    # Store them separately"
   ]
  },
  {
   "cell_type": "code",
   "execution_count": 28,
   "metadata": {
    "collapsed": true
   },
   "outputs": [],
   "source": [
    "#Q3. Plot the R^2, see how it changes as M goes up"
   ]
  },
  {
   "cell_type": "code",
   "execution_count": 29,
   "metadata": {
    "collapsed": true
   },
   "outputs": [],
   "source": [
    "#Q4. Visualize the dataset:\n",
    "    #Q 4.1 Generate a plot with 3-by-3 subfigure, each containing a model with M-degree polynomial (from 1 to 9)\n",
    "    #Q 4.2 In each subfigure, plot the observations and the fitted curve of polynomial\n",
    "    #Q 4.3 In each subfigure, plot the function x**3 - 2*x**2 - 5*x + 1, see how it looks"
   ]
  },
  {
   "cell_type": "code",
   "execution_count": null,
   "metadata": {
    "collapsed": true
   },
   "outputs": [],
   "source": []
  },
  {
   "cell_type": "code",
   "execution_count": null,
   "metadata": {
    "collapsed": true
   },
   "outputs": [],
   "source": []
  },
  {
   "cell_type": "code",
   "execution_count": null,
   "metadata": {
    "collapsed": true
   },
   "outputs": [],
   "source": []
  },
  {
   "cell_type": "code",
   "execution_count": null,
   "metadata": {
    "collapsed": true
   },
   "outputs": [],
   "source": []
  },
  {
   "cell_type": "code",
   "execution_count": null,
   "metadata": {
    "collapsed": true
   },
   "outputs": [],
   "source": []
  },
  {
   "cell_type": "code",
   "execution_count": null,
   "metadata": {
    "collapsed": true
   },
   "outputs": [],
   "source": []
  },
  {
   "cell_type": "code",
   "execution_count": null,
   "metadata": {
    "collapsed": true
   },
   "outputs": [],
   "source": []
  },
  {
   "cell_type": "code",
   "execution_count": null,
   "metadata": {
    "collapsed": true
   },
   "outputs": [],
   "source": []
  },
  {
   "cell_type": "code",
   "execution_count": null,
   "metadata": {
    "collapsed": true
   },
   "outputs": [],
   "source": []
  },
  {
   "cell_type": "code",
   "execution_count": null,
   "metadata": {
    "collapsed": true
   },
   "outputs": [],
   "source": []
  },
  {
   "cell_type": "code",
   "execution_count": 26,
   "metadata": {
    "collapsed": true
   },
   "outputs": [],
   "source": [
    "#Q1. First create a new data frame, containing all x^j from x^1 up to x^9"
   ]
  },
  {
   "cell_type": "code",
   "execution_count": 36,
   "metadata": {
    "collapsed": false,
    "nbpresent": {
     "id": "b24b03bc-3e52-40b9-affd-e66f263bc1e5"
    },
    "scrolled": true
   },
   "outputs": [
    {
     "data": {
      "text/html": [
       "<div>\n",
       "<table border=\"1\" class=\"dataframe\">\n",
       "  <thead>\n",
       "    <tr style=\"text-align: right;\">\n",
       "      <th></th>\n",
       "      <th>y</th>\n",
       "      <th>x1</th>\n",
       "      <th>x2</th>\n",
       "      <th>x3</th>\n",
       "      <th>x4</th>\n",
       "      <th>x5</th>\n",
       "      <th>x6</th>\n",
       "      <th>x7</th>\n",
       "      <th>x8</th>\n",
       "      <th>x9</th>\n",
       "    </tr>\n",
       "  </thead>\n",
       "  <tbody>\n",
       "    <tr>\n",
       "      <th>0</th>\n",
       "      <td>-8.256892</td>\n",
       "      <td>-2.000000</td>\n",
       "      <td>4.000000</td>\n",
       "      <td>-8.000000</td>\n",
       "      <td>16.000000</td>\n",
       "      <td>-32.000000</td>\n",
       "      <td>64.000000</td>\n",
       "      <td>-128.000000</td>\n",
       "      <td>256.000000</td>\n",
       "      <td>-512.000000</td>\n",
       "    </tr>\n",
       "    <tr>\n",
       "      <th>1</th>\n",
       "      <td>4.732777</td>\n",
       "      <td>-1.333333</td>\n",
       "      <td>1.777778</td>\n",
       "      <td>-2.370370</td>\n",
       "      <td>3.160494</td>\n",
       "      <td>-4.213992</td>\n",
       "      <td>5.618656</td>\n",
       "      <td>-7.491541</td>\n",
       "      <td>9.988721</td>\n",
       "      <td>-13.318295</td>\n",
       "    </tr>\n",
       "    <tr>\n",
       "      <th>2</th>\n",
       "      <td>3.997084</td>\n",
       "      <td>-0.666667</td>\n",
       "      <td>0.444444</td>\n",
       "      <td>-0.296296</td>\n",
       "      <td>0.197531</td>\n",
       "      <td>-0.131687</td>\n",
       "      <td>0.087791</td>\n",
       "      <td>-0.058528</td>\n",
       "      <td>0.039018</td>\n",
       "      <td>-0.026012</td>\n",
       "    </tr>\n",
       "    <tr>\n",
       "      <th>3</th>\n",
       "      <td>-3.518884</td>\n",
       "      <td>0.000000</td>\n",
       "      <td>0.000000</td>\n",
       "      <td>0.000000</td>\n",
       "      <td>0.000000</td>\n",
       "      <td>0.000000</td>\n",
       "      <td>0.000000</td>\n",
       "      <td>0.000000</td>\n",
       "      <td>0.000000</td>\n",
       "      <td>0.000000</td>\n",
       "    </tr>\n",
       "    <tr>\n",
       "      <th>4</th>\n",
       "      <td>-4.661727</td>\n",
       "      <td>0.666667</td>\n",
       "      <td>0.444444</td>\n",
       "      <td>0.296296</td>\n",
       "      <td>0.197531</td>\n",
       "      <td>0.131687</td>\n",
       "      <td>0.087791</td>\n",
       "      <td>0.058528</td>\n",
       "      <td>0.039018</td>\n",
       "      <td>0.026012</td>\n",
       "    </tr>\n",
       "  </tbody>\n",
       "</table>\n",
       "</div>"
      ],
      "text/plain": [
       "          y        x1        x2        x3         x4         x5         x6  \\\n",
       "0 -8.256892 -2.000000  4.000000 -8.000000  16.000000 -32.000000  64.000000   \n",
       "1  4.732777 -1.333333  1.777778 -2.370370   3.160494  -4.213992   5.618656   \n",
       "2  3.997084 -0.666667  0.444444 -0.296296   0.197531  -0.131687   0.087791   \n",
       "3 -3.518884  0.000000  0.000000  0.000000   0.000000   0.000000   0.000000   \n",
       "4 -4.661727  0.666667  0.444444  0.296296   0.197531   0.131687   0.087791   \n",
       "\n",
       "           x7          x8          x9  \n",
       "0 -128.000000  256.000000 -512.000000  \n",
       "1   -7.491541    9.988721  -13.318295  \n",
       "2   -0.058528    0.039018   -0.026012  \n",
       "3    0.000000    0.000000    0.000000  \n",
       "4    0.058528    0.039018    0.026012  "
      ]
     },
     "execution_count": 36,
     "metadata": {},
     "output_type": "execute_result"
    }
   ],
   "source": [
    "data3 = pd.DataFrame([data3.y]  # Use the list property that they can be concatenated by \"+\"\n",
    "            + [np.array(data3.x**(i+1)) for i in range(9)]).T # Generate all x^j, then stack them\n",
    "data3.columns = ['y']+['x%d'%(i+1) for i in range(9)]   # Rename the columns for better understanding\n",
    "data3.head()"
   ]
  },
  {
   "cell_type": "code",
   "execution_count": 27,
   "metadata": {
    "collapsed": true
   },
   "outputs": [],
   "source": [
    "#Q2. As degree M increases from 1 to 9, fit y with M-degree polynomial and find the corresponding parameters and R^2\n",
    "    # Store them separately"
   ]
  },
  {
   "cell_type": "code",
   "execution_count": 37,
   "metadata": {
    "collapsed": false,
    "nbpresent": {
     "id": "814a6d53-1872-4de4-979b-733bd1348796"
    },
    "scrolled": true
   },
   "outputs": [
    {
     "data": {
      "text/plain": [
       "[0.016695221729687515,\n",
       " 0.20770639221492682,\n",
       " 0.75592879017667169,\n",
       " 0.78753924885767024,\n",
       " 0.78753944371387796,\n",
       " 0.88867000196622559,\n",
       " 0.90246297972879796,\n",
       " 0.96384252460820885,\n",
       " 1.0]"
      ]
     },
     "execution_count": 37,
     "metadata": {},
     "output_type": "execute_result"
    }
   ],
   "source": [
    "def MultiReg(data, degree):\n",
    "    # First create a string for controlling the number of x_i\n",
    "    string = ''\n",
    "    for i in range(degree):\n",
    "        string += str(i+1)  # For example, if degree == 3, then this string would be '123' at the end\n",
    "    formula = 'y ~ x' + ' + x'.join(string) # join function will convert '123' to '1 + x2 + x3'\n",
    "\n",
    "    # Perform regression and return the results\n",
    "    lm = smf.ols(formula = formula, data = data).fit()\n",
    "    return lm.rsquared, lm.params\n",
    "\n",
    "\n",
    "# Run the function and store the results separately\n",
    "R2 = []; Params = []\n",
    "for M in range(1,10):\n",
    "    a,b = MultiReg(data3,M)  # For each M, run the function\n",
    "    R2.append(a)\n",
    "    Params.append(b)\n",
    "R2"
   ]
  },
  {
   "cell_type": "code",
   "execution_count": 28,
   "metadata": {
    "collapsed": true
   },
   "outputs": [],
   "source": [
    "#Q3. Plot the R^2, see how it changes as M goes up"
   ]
  },
  {
   "cell_type": "code",
   "execution_count": 38,
   "metadata": {
    "collapsed": false,
    "nbpresent": {
     "id": "9b038c7d-ae83-4529-b099-8ddc211a9e04"
    }
   },
   "outputs": [
    {
     "data": {
      "image/png": "[encoded data removed]",
      "text/plain": [
       "<matplotlib.figure.Figure at 0x11e0a30d0>"
      ]
     },
     "metadata": {},
     "output_type": "display_data"
    }
   ],
   "source": [
    "#Q3 See how $R^2$ increases as the degree of polynomial increases \n",
    "plt.plot(range(1,10),R2,'ro--', markersize = 8)\n",
    "plt.xlabel('Degree M of polynomial', fontsize = 14)\n",
    "plt.ylabel('$R^2$ of the model', fontsize = 16)\n",
    "plt.show()"
   ]
  },
  {
   "cell_type": "markdown",
   "metadata": {
    "nbpresent": {
     "id": "0105e6c8-cf6c-48a9-9434-6c9a909594f4"
    }
   },
   "source": [
    "Finally we plot everything together:\n",
    "* <font color='red'>Red</font>  dots are our observations\n",
    "* <font color='green'>Green</font> curve is the actual function\n",
    "* <font color='blue'>Blue</font> dashed line is our fitted curve\n",
    "* Two stars $\\star$ are for comparison--how well our model fits the actual value"
   ]
  },
  {
   "cell_type": "code",
   "execution_count": 29,
   "metadata": {
    "collapsed": true
   },
   "outputs": [],
   "source": [
    "#Q4. Visualize the dataset:\n",
    "    #Q 4.1 Generate a plot with 3-by-3 subfigure, each containing a model with M-degree polynomial (from 1 to 9)\n",
    "    #Q 4.2 In each subfigure, plot the observations and the fitted curve of polynomial\n",
    "    #Q 4.3 In each subfigure, plot the function x**3 - 2*x**2 - 5*x + 1, see how it looks"
   ]
  },
  {
   "cell_type": "code",
   "execution_count": 42,
   "metadata": {
    "collapsed": false
   },
   "outputs": [
    {
     "data": {
      "text/plain": [
       "Intercept    0.274467\n",
       "x1          -7.611773\n",
       "x2          -1.654795\n",
       "x3           1.726029\n",
       "x4          -0.167238\n",
       "x5           0.000284\n",
       "dtype: float64"
      ]
     },
     "execution_count": 42,
     "metadata": {},
     "output_type": "execute_result"
    }
   ],
   "source": [
    "Params[4]"
   ]
  },
  {
   "cell_type": "code",
   "execution_count": 43,
   "metadata": {
    "collapsed": false,
    "nbpresent": {
     "id": "4a45d404-366f-4201-a44e-f8ce18cfac0b"
    }
   },
   "outputs": [
    {
     "data": {
      "image/png": "[encoded data removed]",
      "text/plain": [
       "<matplotlib.figure.Figure at 0x11e12f990>"
      ]
     },
     "metadata": {},
     "output_type": "display_data"
    }
   ],
   "source": [
    "plt.figure(figsize = (20,15))\n",
    "\n",
    "f = lambda x: x**3 - 2*x**2 - 5*x + 1\n",
    "\n",
    "for M in range(1,10):\n",
    "    plt.subplot(330+M)   # Plot subfigure, M controls the location\n",
    "    x_fit = np.linspace(-2,4,100)  # For smoothing the fitted curve\n",
    "    y_fit = pd.DataFrame(np.matrix([x_fit**k for k in range(M+1)]).T,  # Generate our fitted curve\n",
    "                         columns = Params[M-1].index).mul(Params[M-1], 1).sum(1)  # 1 means computation runs row-wise\n",
    "    # Pay attention how we obtain the results by controlling the axes on which the operations are performed\n",
    "    \n",
    "    plt.plot(data3.x1, data3.y, 'ro', markersize = 8)    # Red dots, the observations\n",
    "    plt.plot(x_fit, f(x_fit), 'g-', lw = 2,              # Green curve, the actual function f defined before\n",
    "             markevery = [list(x_fit).index(2)], marker = '*',markersize = 18)  # Green star, true value\n",
    "    plt.plot(x_fit, y_fit, 'b--', lw = 2,                # Blue dashed line, our fitted curve\n",
    "             markevery = [list(x_fit).index(2)], marker = '*',markersize = 18)  # Blue star, fitted value\n",
    "    plt.title('Degree M = %d'%(M), fontsize = 14)"
   ]
  },
  {
   "cell_type": "code",
   "execution_count": 34,
   "metadata": {
    "collapsed": true,
    "nbpresent": {
     "id": "2b1ac48a-8914-40f1-bc0a-97d0094c9e7d"
    }
   },
   "outputs": [],
   "source": [
    "# For those who are interested, this is how the data was generated:\n",
    "\n",
    "# np.random.seed(123)        # Please use the same seed if you want to obtain identical plots as above\n",
    "# x = np.linspace(-2,4,10)\n",
    "# eps = np.random.normal(0,3,10)\n",
    "# f = lambda x: x**3 - 2*x**2 - 5*x + 1\n",
    "# y = f(x) + eps\n",
    "\n",
    "# data3 = pd.DataFrame([y]+[x**i for i in range(10)]).T\n",
    "# data3.columns = ['y']+['x%d'%i for i in range(10)]"
   ]
  }
 ],
 "metadata": {
  "anaconda-cloud": {},
  "kernelspec": {
   "display_name": "Python [Root]",
   "language": "python",
   "name": "Python [Root]"
  },
  "language_info": {
   "codemirror_mode": {
    "name": "ipython",
    "version": 2
   },
   "file_extension": ".py",
   "mimetype": "text/x-python",
   "name": "python",
   "nbconvert_exporter": "python",
   "pygments_lexer": "ipython2",
   "version": "2.7.11"
  }
 },
 "nbformat": 4,
 "nbformat_minor": 0
}
