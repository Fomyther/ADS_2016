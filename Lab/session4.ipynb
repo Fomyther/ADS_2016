{
 "cells": [
  {
   "cell_type": "code",
   "execution_count": 118,
   "metadata": {
    "collapsed": false
   },
   "outputs": [
    {
     "name": "stdout",
     "output_type": "stream",
     "text": [
      "Populating the interactive namespace from numpy and matplotlib\n"
     ]
    }
   ],
   "source": [
    "import numpy as np\n",
    "from scipy import stats\n",
    "import matplotlib.pyplot as plt\n",
    "%pylab inline\n",
    "import pandas as pd\n",
    "import statsmodels.formula.api as smf\n",
    "import urllib\n",
    "#url = \"https://serv.cusp.nyu.edu/files/ADS-2015/MorningSection/lab3/L3.csv\"\n",
    "#f = urllib.urlopen(url)"
   ]
  },
  {
   "cell_type": "code",
   "execution_count": 119,
   "metadata": {
    "collapsed": true
   },
   "outputs": [],
   "source": [
    "path = 'C:\\\\Users\\\\fomyt\\\\Documents\\\\ADS_Fall2016\\\\Notebook\\\\data'\n",
    "data = pd.read_csv(path+'\\\\L3.csv', index_col=0 )\n",
    "data.head()\n",
    "\n",
    "prop = 0.7  #proportion of training set\n",
    "validation = data[int(prop*len(data)):]\n",
    "training = data[:int(prop*len(data))]"
   ]
  },
  {
   "cell_type": "markdown",
   "metadata": {},
   "source": [
    "# 3 Explanations of regression statistics\n",
    "\n",
    "### R-squared\n",
    "\n",
    "In the same way as for the bi-variate regression:\n",
    "$$\n",
    "R^2=1-\\frac{RSS}{\\sum\\limits_i (y_i-\\overline{y})^2}=\\frac{\\sum\\limits_i (\\hat{y}_i-\\overline{y})^2}{\\sum\\limits_i (y_i-\\overline{y})^2},\n",
    "$$\n",
    "where $\\overline{y}=\\sum\\limits_i y_i$ is the sample mean of observed values of responce variable. This way $R^2$ is often interpreted as a fraction of responce variable's variance explained by linear model. $R^2=1$ is equivalent to $RSS=0$, i.e. the model fits the observations exactly, i.e. responce variable depends linearly on the explaining variables. On the other hand, $R^2=0$ means that the model always predicts the sample mean $\\overline{y}$, i.e. explaining variables $x$ have no effect on responce variable $y$. \n",
    "\n",
    "Least-square criteria is equivalent to maximizing $R^2$.\n",
    "\n",
    "### Confidence intervals\n",
    "As before uncertainty of the model predictions comes together with the uncertainty of the model coefficients' estimates $\\hat{w}$. The last, treated as a random vector has a variance-covariance matrix \n",
    "$$\n",
    "Var(\\hat{w})=(X^T X)^{-1}\\sigma^2,\n",
    "$$\n",
    "while for $\\sigma^2$ we can use one of the estimates (4) or (4') - usually the last unbiased one.\n",
    "\n",
    "Based on this estimate as well as the normality of $\\hat{w}$ distribution, the confidence intervals for each $\\hat{w}_j$ are constructred (i.e. ranges containing the \"true\" value of $w_j$ with a certain level of confidence $1-\\alpha$.\n",
    "\n",
    "### Hypothesis testing: P-values, t-statistics and F-statistics\n",
    "\n",
    "For each estimate $\\hat{w}_i$ and the hypothesized value $w_i^*$ (often $w_i^*=0$), the corresponding $t$-statistics is defined as\n",
    "$$\n",
    "t=\\frac{w_i^*-\\hat{w}_i}{\\sqrt{Var[\\hat{w}_i]}}.\n",
    "$$\n",
    "Based on the value of $t$-statistics, which is known to follow Students distribution (approximately normal for large $N$), the $p$-value is defined to show our confidence that the observed deviation of the estimate $\\hat{w}_i$ from a hypothesized value $w_i^*$ is simply a matter of chance (specifically it denotes a probabiity of having the absolute value of the $t$-statistics for the true value $w_i$ modulo higher than the observed one. \n",
    "\n",
    "This way once $p$-value (confidence level for the hypothesis) is lower than a certain threshold (typically $5\\%$), the hypothesis of having the true value of $w_i$ to be $w_i^*$ is rejected.\n",
    "\n",
    "The most common example is assuming a null-hypothesis $w_i^*=0$, meaning that explaining variable $x_i$ has actually no impact on the response variable $y$. Those $p$-values for the null-hypothesis are reported by R and python for every regressor $x_i$ in order to show if the impact of the considered regressor is statistically significant. \n",
    "\n",
    "In the same way as for the bi-variate regression, low $p$-values do not prove that: 1) impact of $x_i$ on $y$ is actually linear, or that 2) the estimate we have for the coefficient $w_i$ is the true one. In turn, having high value of $p$-value by itself does not prove that $y$ is independent on $x_i$ (first of all linear effect could be there, just disguised by noise, second - the effect could be non-linear).\n",
    "\n",
    "Regressors having high $p$-values are usually excluded from the model in order to stay free from the random insignificnt effects, reducing the risk of overfitting (this is however not the only way of fighting it).\n",
    "\n",
    "However often we need to test the significance of a subgroup of regressors together (or all of the regressors) testing the entire model against the null-hypothesis that a model based on a smaller subset of $m$ regressors (or just the intercept) of the regressors actually performs not worse than the original one.  The following $F$-statistics helps with that:\n",
    "$$\n",
    "F=\\frac{(RSS_0-RSS_1)(N-n)}{RSS_1\\cdot (n-m)},\n",
    "$$\n",
    "where $RSS_1$ is the optimal (least-square) $RSS$ value for the original regression and $RSS_0$ - is the optimal $RSS$ value of the regression based on the considered subset of $m$ regressors (testing the hypothesis that only those $m$ regressors are significant). R and python will report the value of $F$ for the null-hypothesis that only the intercept is significant, as well as the $p$-value characterizing this $F$-statistics.\n",
    "\n"
   ]
  },
  {
   "cell_type": "code",
   "execution_count": 120,
   "metadata": {
    "collapsed": false,
    "scrolled": true
   },
   "outputs": [
    {
     "name": "stdout",
     "output_type": "stream",
     "text": [
      "0.444255825665\n"
     ]
    },
    {
     "data": {
      "image/png": "[encoded data removed]",
      "text/plain": [
       "<matplotlib.figure.Figure at 0xe3f24e0>"
      ]
     },
     "metadata": {},
     "output_type": "display_data"
    }
   ],
   "source": [
    "lmy = lm.predict(validation)\n",
    "plt.plot(lmy,validation.y,'or')\n",
    "plt.plot(lmy,lmy,'-b')\n",
    "R2=1-sum(pow(lmy-validation.y,2))/sum(pow(validation.y-mean(validation.y),2))\n",
    "print(R2)"
   ]
  },
  {
   "cell_type": "code",
   "execution_count": 8,
   "metadata": {
    "collapsed": false,
    "scrolled": false
   },
   "outputs": [
    {
     "data": {
      "text/html": [
       "<table class=\"simpletable\">\n",
       "<caption>OLS Regression Results</caption>\n",
       "<tr>\n",
       "  <th>Dep. Variable:</th>            <td>y</td>        <th>  R-squared:         </th> <td>   0.959</td>\n",
       "</tr>\n",
       "<tr>\n",
       "  <th>Model:</th>                   <td>OLS</td>       <th>  Adj. R-squared:    </th> <td>   0.957</td>\n",
       "</tr>\n",
       "<tr>\n",
       "  <th>Method:</th>             <td>Least Squares</td>  <th>  F-statistic:       </th> <td>   504.2</td>\n",
       "</tr>\n",
       "<tr>\n",
       "  <th>Date:</th>             <td>Tue, 06 Sep 2016</td> <th>  Prob (F-statistic):</th> <td>6.15e-45</td>\n",
       "</tr>\n",
       "<tr>\n",
       "  <th>Time:</th>                 <td>20:02:18</td>     <th>  Log-Likelihood:    </th> <td>  8.9055</td>\n",
       "</tr>\n",
       "<tr>\n",
       "  <th>No. Observations:</th>      <td>    69</td>      <th>  AIC:               </th> <td>  -9.811</td>\n",
       "</tr>\n",
       "<tr>\n",
       "  <th>Df Residuals:</th>          <td>    65</td>      <th>  BIC:               </th> <td> -0.8745</td>\n",
       "</tr>\n",
       "<tr>\n",
       "  <th>Df Model:</th>              <td>     3</td>      <th>                     </th>     <td> </td>   \n",
       "</tr>\n",
       "<tr>\n",
       "  <th>Covariance Type:</th>      <td>nonrobust</td>    <th>                     </th>     <td> </td>   \n",
       "</tr>\n",
       "</table>\n",
       "<table class=\"simpletable\">\n",
       "<tr>\n",
       "      <td></td>         <th>coef</th>     <th>std err</th>      <th>t</th>      <th>P>|t|</th> <th>[95.0% Conf. Int.]</th> \n",
       "</tr>\n",
       "<tr>\n",
       "  <th>Intercept</th> <td>   -1.6639</td> <td>    0.060</td> <td>  -27.581</td> <td> 0.000</td> <td>   -1.784    -1.543</td>\n",
       "</tr>\n",
       "<tr>\n",
       "  <th>x1</th>        <td>    0.1024</td> <td>    0.004</td> <td>   24.394</td> <td> 0.000</td> <td>    0.094     0.111</td>\n",
       "</tr>\n",
       "<tr>\n",
       "  <th>x2</th>        <td>    0.0602</td> <td>    0.003</td> <td>   23.206</td> <td> 0.000</td> <td>    0.055     0.065</td>\n",
       "</tr>\n",
       "<tr>\n",
       "  <th>x3</th>        <td>    0.0219</td> <td>    0.001</td> <td>   16.730</td> <td> 0.000</td> <td>    0.019     0.025</td>\n",
       "</tr>\n",
       "</table>\n",
       "<table class=\"simpletable\">\n",
       "<tr>\n",
       "  <th>Omnibus:</th>       <td> 0.939</td> <th>  Durbin-Watson:     </th> <td>   2.253</td>\n",
       "</tr>\n",
       "<tr>\n",
       "  <th>Prob(Omnibus):</th> <td> 0.625</td> <th>  Jarque-Bera (JB):  </th> <td>   0.890</td>\n",
       "</tr>\n",
       "<tr>\n",
       "  <th>Skew:</th>          <td>-0.266</td> <th>  Prob(JB):          </th> <td>   0.641</td>\n",
       "</tr>\n",
       "<tr>\n",
       "  <th>Kurtosis:</th>      <td> 2.835</td> <th>  Cond. No.          </th> <td>    83.2</td>\n",
       "</tr>\n",
       "</table>"
      ],
      "text/plain": [
       "<class 'statsmodels.iolib.summary.Summary'>\n",
       "\"\"\"\n",
       "                            OLS Regression Results                            \n",
       "==============================================================================\n",
       "Dep. Variable:                      y   R-squared:                       0.959\n",
       "Model:                            OLS   Adj. R-squared:                  0.957\n",
       "Method:                 Least Squares   F-statistic:                     504.2\n",
       "Date:                Tue, 06 Sep 2016   Prob (F-statistic):           6.15e-45\n",
       "Time:                        20:02:18   Log-Likelihood:                 8.9055\n",
       "No. Observations:                  69   AIC:                            -9.811\n",
       "Df Residuals:                      65   BIC:                           -0.8745\n",
       "Df Model:                           3                                         \n",
       "Covariance Type:            nonrobust                                         \n",
       "==============================================================================\n",
       "                 coef    std err          t      P>|t|      [95.0% Conf. Int.]\n",
       "------------------------------------------------------------------------------\n",
       "Intercept     -1.6639      0.060    -27.581      0.000        -1.784    -1.543\n",
       "x1             0.1024      0.004     24.394      0.000         0.094     0.111\n",
       "x2             0.0602      0.003     23.206      0.000         0.055     0.065\n",
       "x3             0.0219      0.001     16.730      0.000         0.019     0.025\n",
       "==============================================================================\n",
       "Omnibus:                        0.939   Durbin-Watson:                   2.253\n",
       "Prob(Omnibus):                  0.625   Jarque-Bera (JB):                0.890\n",
       "Skew:                          -0.266   Prob(JB):                        0.641\n",
       "Kurtosis:                       2.835   Cond. No.                         83.2\n",
       "==============================================================================\n",
       "\n",
       "Warnings:\n",
       "[1] Standard Errors assume that the covariance matrix of the errors is correctly specified.\n",
       "\"\"\""
      ]
     },
     "execution_count": 8,
     "metadata": {},
     "output_type": "execute_result"
    }
   ],
   "source": [
    "lm2 = smf.ols(formula='y ~ x1+x2+x3', data = data).fit()\n",
    "lm2.summary()"
   ]
  },
  {
   "cell_type": "code",
   "execution_count": 9,
   "metadata": {
    "collapsed": false
   },
   "outputs": [
    {
     "name": "stdout",
     "output_type": "stream",
     "text": [
      "0.93761137509\n"
     ]
    },
    {
     "data": {
      "image/png": "[encoded data removed]",
      "text/plain": [
       "<matplotlib.figure.Figure at 0xe4ba5f8>"
      ]
     },
     "metadata": {},
     "output_type": "display_data"
    }
   ],
   "source": [
    "lmy2 = lm2.predict(validation)\n",
    "plt.plot(lmy2,validation.y,'or')\n",
    "plt.plot(lmy2,lmy2,'-b')\n",
    "R2=1-sum(pow(lmy2-validation.y,2))/sum(pow(validation.y-mean(validation.y),2))\n",
    "print(R2)"
   ]
  },
  {
   "cell_type": "markdown",
   "metadata": {},
   "source": [
    "#### 4. Feature scaling\n",
    "\n",
    "Often in order to get some sense out of the values of $w_j$ one might want to normalize the features first, brinding them on the same scale. For example one can standardszation, transforming independent variables into their standard scores (also called z-scores, normal scores):\n",
    "$$\n",
    "x_j^*=\\frac{x_j-\\overline{x}_j}{\\sigma_j}\n",
    "$$\n",
    "where $\\overline{x}_j=E[X_j]$ and $\\sigma_j=std[X_j]$ are the corresponding sample mean and standard deviation. This however does not apply to a constant dummy variable corresponding to the intercept term if present. One might omit this dummy variable in case if responce variable is also standardized (then it's mean is also zero and there is no need for an intercept). \n",
    "\n",
    "Then, the resulting coefficients $\\hat{w}_j$ could be interpreted as a relative (or absolute if the output variable is also standardized) strength of each regressor's impact on the responce variable $x_j$."
   ]
  },
  {
   "cell_type": "code",
   "execution_count": 12,
   "metadata": {
    "collapsed": false
   },
   "outputs": [
    {
     "data": {
      "text/html": [
       "<table class=\"simpletable\">\n",
       "<caption>OLS Regression Results</caption>\n",
       "<tr>\n",
       "  <th>Dep. Variable:</th>            <td>y</td>        <th>  R-squared:         </th> <td>   0.956</td>\n",
       "</tr>\n",
       "<tr>\n",
       "  <th>Model:</th>                   <td>OLS</td>       <th>  Adj. R-squared:    </th> <td>   0.955</td>\n",
       "</tr>\n",
       "<tr>\n",
       "  <th>Method:</th>             <td>Least Squares</td>  <th>  F-statistic:       </th> <td>   701.8</td>\n",
       "</tr>\n",
       "<tr>\n",
       "  <th>Date:</th>             <td>Tue, 06 Sep 2016</td> <th>  Prob (F-statistic):</th> <td>3.87e-65</td>\n",
       "</tr>\n",
       "<tr>\n",
       "  <th>Time:</th>                 <td>20:02:54</td>     <th>  Log-Likelihood:    </th> <td>  14.729</td>\n",
       "</tr>\n",
       "<tr>\n",
       "  <th>No. Observations:</th>      <td>   100</td>      <th>  AIC:               </th> <td>  -21.46</td>\n",
       "</tr>\n",
       "<tr>\n",
       "  <th>Df Residuals:</th>          <td>    96</td>      <th>  BIC:               </th> <td>  -11.04</td>\n",
       "</tr>\n",
       "<tr>\n",
       "  <th>Df Model:</th>              <td>     3</td>      <th>                     </th>     <td> </td>   \n",
       "</tr>\n",
       "<tr>\n",
       "  <th>Covariance Type:</th>      <td>nonrobust</td>    <th>                     </th>     <td> </td>   \n",
       "</tr>\n",
       "</table>\n",
       "<table class=\"simpletable\">\n",
       "<tr>\n",
       "      <td></td>         <th>coef</th>     <th>std err</th>      <th>t</th>      <th>P>|t|</th> <th>[95.0% Conf. Int.]</th> \n",
       "</tr>\n",
       "<tr>\n",
       "  <th>Intercept</th> <td> 3.469e-18</td> <td>    0.021</td> <td> 1.63e-16</td> <td> 1.000</td> <td>   -0.042     0.042</td>\n",
       "</tr>\n",
       "<tr>\n",
       "  <th>x1</th>        <td>    0.6292</td> <td>    0.021</td> <td>   29.522</td> <td> 0.000</td> <td>    0.587     0.672</td>\n",
       "</tr>\n",
       "<tr>\n",
       "  <th>x2</th>        <td>    0.6303</td> <td>    0.021</td> <td>   29.571</td> <td> 0.000</td> <td>    0.588     0.673</td>\n",
       "</tr>\n",
       "<tr>\n",
       "  <th>x3</th>        <td>    0.4040</td> <td>    0.021</td> <td>   18.955</td> <td> 0.000</td> <td>    0.362     0.446</td>\n",
       "</tr>\n",
       "</table>\n",
       "<table class=\"simpletable\">\n",
       "<tr>\n",
       "  <th>Omnibus:</th>       <td> 0.658</td> <th>  Durbin-Watson:     </th> <td>   2.293</td>\n",
       "</tr>\n",
       "<tr>\n",
       "  <th>Prob(Omnibus):</th> <td> 0.720</td> <th>  Jarque-Bera (JB):  </th> <td>   0.592</td>\n",
       "</tr>\n",
       "<tr>\n",
       "  <th>Skew:</th>          <td>-0.185</td> <th>  Prob(JB):          </th> <td>   0.744</td>\n",
       "</tr>\n",
       "<tr>\n",
       "  <th>Kurtosis:</th>      <td> 2.925</td> <th>  Cond. No.          </th> <td>    1.00</td>\n",
       "</tr>\n",
       "</table>"
      ],
      "text/plain": [
       "<class 'statsmodels.iolib.summary.Summary'>\n",
       "\"\"\"\n",
       "                            OLS Regression Results                            \n",
       "==============================================================================\n",
       "Dep. Variable:                      y   R-squared:                       0.956\n",
       "Model:                            OLS   Adj. R-squared:                  0.955\n",
       "Method:                 Least Squares   F-statistic:                     701.8\n",
       "Date:                Tue, 06 Sep 2016   Prob (F-statistic):           3.87e-65\n",
       "Time:                        20:02:54   Log-Likelihood:                 14.729\n",
       "No. Observations:                 100   AIC:                            -21.46\n",
       "Df Residuals:                      96   BIC:                            -11.04\n",
       "Df Model:                           3                                         \n",
       "Covariance Type:            nonrobust                                         \n",
       "==============================================================================\n",
       "                 coef    std err          t      P>|t|      [95.0% Conf. Int.]\n",
       "------------------------------------------------------------------------------\n",
       "Intercept   3.469e-18      0.021   1.63e-16      1.000        -0.042     0.042\n",
       "x1             0.6292      0.021     29.522      0.000         0.587     0.672\n",
       "x2             0.6303      0.021     29.571      0.000         0.588     0.673\n",
       "x3             0.4040      0.021     18.955      0.000         0.362     0.446\n",
       "==============================================================================\n",
       "Omnibus:                        0.658   Durbin-Watson:                   2.293\n",
       "Prob(Omnibus):                  0.720   Jarque-Bera (JB):                0.592\n",
       "Skew:                          -0.185   Prob(JB):                        0.744\n",
       "Kurtosis:                       2.925   Cond. No.                         1.00\n",
       "==============================================================================\n",
       "\n",
       "Warnings:\n",
       "[1] Standard Errors assume that the covariance matrix of the errors is correctly specified.\n",
       "\"\"\""
      ]
     },
     "execution_count": 12,
     "metadata": {},
     "output_type": "execute_result"
    },
    {
     "data": {
      "image/png": "[encoded data removed]",
      "text/plain": [
       "<matplotlib.figure.Figure at 0x88d4588>"
      ]
     },
     "metadata": {},
     "output_type": "display_data"
    }
   ],
   "source": [
    "#f = urllib.urlopen(url)\n",
    "data = pd.read_csv(path+'\\\\L3.csv', index_col=0 )\n",
    "data.x1=(data.x1-mean(data.x1))/std(data.x1)\n",
    "data.x2=(data.x2-mean(data.x2))/std(data.x2)\n",
    "data.x3=(data.x3-mean(data.x3))/std(data.x3)\n",
    "#data.x4=(data.x4-mean(data.x4))/std(data.x4)\n",
    "#data.x5=(data.x5-mean(data.x5))/std(data.x5)\n",
    "lm = smf.ols(formula='y ~ x1 + x2 + x3 ', data = data).fit()\n",
    "lmy = lm.predict(data)\n",
    "plt.plot(lmy,data.y,'or')\n",
    "plt.plot(lmy,lmy,'-b') \n",
    "lm.summary()"
   ]
  },
  {
   "cell_type": "markdown",
   "metadata": {},
   "source": [
    "##### 5. Case of orthogonal regressors\n",
    "\n",
    "Consider a particular case of orthogonal regressors. I.e. suppose that for each pair of $j\\neq k$ the inner product equals to zero: $<X_j,X_k>=X_j^T X_k=\\sum\\limits_i x_j^i x_k^i=0$. For the standardized regressors orthogonality is equivalent to being uncorrelated; more generally if at least one of the regressors $x_j$ is standardized (consequently $E[X_j]=0$) then:\n",
    "$$\n",
    "0=corr[X_j,X_k]=\\frac{Cov[X_j,X_k]}{std[X_j]std[X_k]}=\\frac{<X_j,X_k>/N-E[X_j]E[X_k]}{std[X_j]std[X_k]}=\\frac{<X_j,X_k>}{N std[X_j]std[X_k]}.\n",
    "$$\n",
    "In that case it is possible to show that least square estimate for the multiple regression could be built from a set of univariate regressions of $y$ vs each of the regressors $x_j$ taken separately. Then\n",
    "$$\n",
    "\\hat{w_j}=\\frac{X_j^T Y}{X_j^T X_j}.\n",
    "$$\n",
    "If $X_j$ is also standardized, so that $E[X_j]=0$ and $Var[X_j]=1$, the above could be re-written as\n",
    "$$\n",
    "\\hat{w_j}=Cov[X_j,Y].\n",
    "$$\n",
    "Also this way \n",
    "$$\n",
    "Var[Y]=Var[\\varepsilon]+\\sum_j Var[w_j X_j]=\\sigma^2+\\sum_j w_j^2.\n",
    "$$\n",
    "This gives a very intuitive interpretation of the regression coefficients (or actually their squares) as a decomposition of the explained part of responce variable's variation $Var[Y]-\\sigma^2$. \n",
    "\n",
    "However this works only for the basic least-square estimates $w=\\hat{w}$, $\\sigma=\\hat{\\sigma}$. While depending on the estimation technique used for $\\hat{w}$ and $\\hat{\\sigma}$ (like using unbiased estimates for example), this equation might only hold approximately.\n",
    "\n",
    "If $Y$ is also standardized then $\\hat{w_j}=corr[X_j,Y]$, i.e. coefficients of such a regression are simply the correlation coefficients of observed sample of responce variable vs each of the regressors. So basically the multivariate regression with ortognal standardized regressors and standardized responce variable could be expressed as\n",
    "$$\n",
    "y=\\sum\\limits_j corr[X_j,Y] x_j+\\varepsilon.\n",
    "$$\n",
    "This way the regression coefficients are simply the correlations between corresponding regressors and the responce variable's observations.\n",
    "\n",
    "Although the case of ortogonal (uncorrelated) regressors seems to be quite a special one, during the next session, we'll see that actually every regression could be transformed to such a case through a principle component decomposition.\n"
   ]
  },
  {
   "cell_type": "code",
   "execution_count": 13,
   "metadata": {
    "collapsed": false
   },
   "outputs": [
    {
     "name": "stdout",
     "output_type": "stream",
     "text": [
      "[[ True False False]\n",
      " [False  True False]\n",
      " [False False  True]]\n"
     ]
    }
   ],
   "source": [
    "X=np.matrix(data)\n",
    "cov=(X[:,1:4]).transpose()*(X[:,1:4])/100\n",
    "print(cov>1e-10)"
   ]
  },
  {
   "cell_type": "code",
   "execution_count": 14,
   "metadata": {
    "collapsed": false
   },
   "outputs": [
    {
     "name": "stdout",
     "output_type": "stream",
     "text": [
      "[0.629227099199085, 0.6302734204848206, 0.4040026289773639]\n",
      "Intercept    3.469447e-18\n",
      "x1           6.292271e-01\n",
      "x2           6.302734e-01\n",
      "x3           4.040026e-01\n",
      "dtype: float64\n"
     ]
    }
   ],
   "source": [
    "w1=sum(data.y*data.x1)/100\n",
    "w2=sum(data.y*data.x2)/100\n",
    "w3=sum(data.y*data.x3)/100\n",
    "print([w1,w2,w3])\n",
    "print(lm.params)"
   ]
  },
  {
   "cell_type": "code",
   "execution_count": 15,
   "metadata": {
    "collapsed": false,
    "scrolled": true
   },
   "outputs": [
    {
     "name": "stdout",
     "output_type": "stream",
     "text": [
      "[[ 0.6292271   0.63027342  0.40400263]]\n"
     ]
    }
   ],
   "source": [
    "print(X[:,0].transpose()*X[:,1:4]/100)"
   ]
  },
  {
   "cell_type": "code",
   "execution_count": 16,
   "metadata": {
    "collapsed": false
   },
   "outputs": [
    {
     "name": "stdout",
     "output_type": "stream",
     "text": [
      "0.999999999966\n"
     ]
    },
    {
     "data": {
      "text/plain": [
       "[array([ 0.6292271]), array([ 0.63027342]), array([ 0.40400263])]"
      ]
     },
     "execution_count": 16,
     "metadata": {},
     "output_type": "execute_result"
    }
   ],
   "source": [
    "print(std(X[:,0]))\n",
    "[stats.pearsonr(X[:,1],X[:,0])[0], stats.pearsonr(X[:,2],X[:,0])[0], stats.pearsonr(X[:,3],X[:,0])[0]]"
   ]
  },
  {
   "cell_type": "code",
   "execution_count": 17,
   "metadata": {
    "collapsed": false,
    "scrolled": true
   },
   "outputs": [
    {
     "name": "stdout",
     "output_type": "stream",
     "text": [
      "(0.9563894511757604, 0.956389451125967)\n"
     ]
    }
   ],
   "source": [
    "print(std(data.y)-sum(pow(lm.resid,2))/100,sum(pow(lm.params,2)))"
   ]
  },
  {
   "cell_type": "markdown",
   "metadata": {},
   "source": [
    "# 6. Non-linear polynimial regression \n",
    "\n",
    "Multi-variate linear regression could be also used in order to fit non-linear models, such as polynomial one for example. If one needs to fit a dependence of \n",
    "$$\n",
    "y=w_m x^m + w_{m-1} x^{m-1} + \\ldots + w_1 x + w_0+\\epsilon,\n",
    "$$\n",
    "one way of doing that it thourgh a multi-variate regression, selecting \n",
    "$$\n",
    "y\\sim 1,x,x^2,\\ldots,x^{m}\n",
    "$$ \n",
    "as $m+1$ features. Similarly a polinomial form of several variables could be fit, like \n",
    "$$\n",
    "y\\sim w_{2,0}x_1^2+w_{1,1}x_1 x_2+w_{2,0}x_2^2+w_{1,0}x_1+w_{0,1}x_2+w_{0,0}\n",
    "$$\n",
    "could be handled over a feature space including\n",
    "$$\n",
    "y\\sim 1,x_1,x_2,x_1^2,x_2^2.\n",
    "$$"
   ]
  },
  {
   "cell_type": "code",
   "execution_count": 19,
   "metadata": {
    "collapsed": false
   },
   "outputs": [
    {
     "data": {
      "text/html": [
       "<div>\n",
       "<table border=\"1\" class=\"dataframe\">\n",
       "  <thead>\n",
       "    <tr style=\"text-align: right;\">\n",
       "      <th></th>\n",
       "      <th>x</th>\n",
       "      <th>y</th>\n",
       "    </tr>\n",
       "  </thead>\n",
       "  <tbody>\n",
       "    <tr>\n",
       "      <th>1</th>\n",
       "      <td>0.037037</td>\n",
       "      <td>1.119662</td>\n",
       "    </tr>\n",
       "    <tr>\n",
       "      <th>2</th>\n",
       "      <td>1.317515</td>\n",
       "      <td>5.580618</td>\n",
       "    </tr>\n",
       "    <tr>\n",
       "      <th>3</th>\n",
       "      <td>0.738433</td>\n",
       "      <td>2.824372</td>\n",
       "    </tr>\n",
       "    <tr>\n",
       "      <th>4</th>\n",
       "      <td>1.310157</td>\n",
       "      <td>5.851272</td>\n",
       "    </tr>\n",
       "    <tr>\n",
       "      <th>5</th>\n",
       "      <td>0.295572</td>\n",
       "      <td>1.641788</td>\n",
       "    </tr>\n",
       "  </tbody>\n",
       "</table>\n",
       "</div>"
      ],
      "text/plain": [
       "          x         y\n",
       "1  0.037037  1.119662\n",
       "2  1.317515  5.580618\n",
       "3  0.738433  2.824372\n",
       "4  1.310157  5.851272\n",
       "5  0.295572  1.641788"
      ]
     },
     "execution_count": 19,
     "metadata": {},
     "output_type": "execute_result"
    }
   ],
   "source": [
    "#url2 = \"https://serv.cusp.nyu.edu/files/ADS-2015/MorningSection/lab3/L32.csv\"\n",
    "#f2 = urllib.urlopen(url2)\n",
    "#data2 = pd.read_csv(f2 , index_col=0 )\n",
    "data2 = pd.read_csv(path+'\\\\L32.csv', index_col=0)\n",
    "data2.head()"
   ]
  },
  {
   "cell_type": "code",
   "execution_count": 20,
   "metadata": {
    "collapsed": false
   },
   "outputs": [
    {
     "data": {
      "text/plain": [
       "[<matplotlib.lines.Line2D at 0xe29e208>]"
      ]
     },
     "execution_count": 20,
     "metadata": {},
     "output_type": "execute_result"
    },
    {
     "data": {
      "image/png": "[encoded data removed]",
      "text/plain": [
       "<matplotlib.figure.Figure at 0xe4e5048>"
      ]
     },
     "metadata": {},
     "output_type": "display_data"
    }
   ],
   "source": [
    "plt.plot(data2.x,data2.y,'o')"
   ]
  },
  {
   "cell_type": "code",
   "execution_count": 21,
   "metadata": {
    "collapsed": false
   },
   "outputs": [
    {
     "name": "stdout",
     "output_type": "stream",
     "text": [
      "                            OLS Regression Results                            \n",
      "==============================================================================\n",
      "Dep. Variable:                      y   R-squared:                       0.996\n",
      "Model:                            OLS   Adj. R-squared:                  0.996\n",
      "Method:                 Least Squares   F-statistic:                 1.207e+04\n",
      "Date:                Tue, 06 Sep 2016   Prob (F-statistic):          5.21e-117\n",
      "Time:                        20:03:48   Log-Likelihood:                 13.654\n",
      "No. Observations:                 100   AIC:                            -21.31\n",
      "Df Residuals:                      97   BIC:                            -13.49\n",
      "Df Model:                           2                                         \n",
      "Covariance Type:            nonrobust                                         \n",
      "==============================================================================\n",
      "                 coef    std err          t      P>|t|      [95.0% Conf. Int.]\n",
      "------------------------------------------------------------------------------\n",
      "Intercept      1.7216      0.061     28.197      0.000         1.600     1.843\n",
      "x             -1.4924      0.149     -9.995      0.000        -1.789    -1.196\n",
      "x2             3.5211      0.074     47.529      0.000         3.374     3.668\n",
      "==============================================================================\n",
      "Omnibus:                        4.568   Durbin-Watson:                   2.065\n",
      "Prob(Omnibus):                  0.102   Jarque-Bera (JB):                2.383\n",
      "Skew:                          -0.071   Prob(JB):                        0.304\n",
      "Kurtosis:                       2.257   Cond. No.                         18.0\n",
      "==============================================================================\n",
      "\n",
      "Warnings:\n",
      "[1] Standard Errors assume that the covariance matrix of the errors is correctly specified.\n"
     ]
    },
    {
     "data": {
      "text/plain": [
       "[<matplotlib.lines.Line2D at 0xe973f28>]"
      ]
     },
     "execution_count": 21,
     "metadata": {},
     "output_type": "execute_result"
    },
    {
     "data": {
      "image/png": "[encoded data removed]",
      "text/plain": [
       "<matplotlib.figure.Figure at 0xe9739e8>"
      ]
     },
     "metadata": {},
     "output_type": "display_data"
    }
   ],
   "source": [
    "data2['x2']=pow(data2.x,2)\n",
    "lm2 = smf.ols(formula='y ~ x+x2', data = data2).fit()\n",
    "print(lm2.summary())\n",
    "lmy2 = lm2.predict(data2)\n",
    "plt.plot(data2.x,data2.y,'ob')\n",
    "plt.plot(data2.x,lmy2,'*r') "
   ]
  },
  {
   "cell_type": "code",
   "execution_count": null,
   "metadata": {
    "collapsed": true
   },
   "outputs": [],
   "source": []
  }
 ],
 "metadata": {
  "kernelspec": {
   "display_name": "Python [Root]",
   "language": "python",
   "name": "Python [Root]"
  },
  "language_info": {
   "codemirror_mode": {
    "name": "ipython",
    "version": 2
   },
   "file_extension": ".py",
   "mimetype": "text/x-python",
   "name": "python",
   "nbconvert_exporter": "python",
   "pygments_lexer": "ipython2",
   "version": "2.7.12"
  }
 },
 "nbformat": 4,
 "nbformat_minor": 0
}
