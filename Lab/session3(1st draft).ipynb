{
 "cells": [
  {
   "cell_type": "markdown",
   "metadata": {},
   "source": [
    "# Multi-variate linear regression\n",
    "\n",
    "## 1. Definition and parameter estimation\n",
    "\n",
    "As we remember linear model between single real-value regressor $x$ and output variable $y$ is expressed by \n",
    "$$\n",
    "y=w_1 x + w_0 +\\varepsilon.\n",
    "$$\n",
    "$w_1$-slope coefficient, $w_0$ - intercept, $\\varepsilon$ - random noise. In a more general case when $x$ is a real-valued $n x 1$-vector $x=(x_1,x_2,...,x_n)$, the model could be easily generalized as\n",
    "$$\n",
    "y=\\sum\\limits_j w_j x_j +\\varepsilon\n",
    "$$\n",
    "or in a vector form\n",
    "$$\n",
    "y=w^T x+\\varepsilon, \\hspace{5ex} (1)\n",
    "$$\n",
    "where $w=(w_1,w_2,...,w_n)$ is also a $n x 1$-vector. \n",
    "Notice that intercept is not specifically separated as it could be always introduced by adding a dummy variable $x^m\\equiv 1$.\n",
    "\n",
    "The probabilistic view on the model in the assumption that $\\varepsilon\\sim {\\cal N}(0,\\sigma^2)$ is\n",
    "$$\n",
    "p(y|x,w,\\sigma)={\\cal N}(y|w^T x,\\sigma^2).\n",
    "$$\n",
    "\n",
    "Given a training set $X=\\{(x_j^i), j=1..n, i=1..N\\}$, $Y=\\{(y^i), i=1..N\\}$ (further also denote columns of $X$ as $X_j=\\{(x_j^i), i=1..N\\}$), the least square optimization criteria for inferring a vector of coefficients $w$ can be written as\n",
    "$$\n",
    "RSS(w)=\\sum\\limits_i \\varepsilon_i^2=\\sum\\limits_i (y^i-w^T x^i)^2. \\hspace{5ex} (2)\n",
    "$$\n",
    "or in a matrix form:\n",
    "$$\n",
    "RSS(w)=(Y-X w)^T(Y-X w).\n",
    "$$\n",
    "Then finding an estimate\n",
    "$$\n",
    "\\hat{w}=argmin_w RSS(w)\n",
    "$$\n",
    "can be done by solving the system (in a matrix form)\n",
    "$$\n",
    "0=\\frac{\\partial RSS(\\hat{w})}{\\partial w}=2X^T (Y-X \\hat{w}).\n",
    "$$\n",
    "Using matrix formalism the solution could be expressed as\n",
    "$$\n",
    "\\hat{w}=\\left(X^T X\\right )^{-1}X^T Y. \\hspace{5ex} (3)\n",
    "$$\n",
    "This assumes that $X^T X$ is non-singular. Otherwise we have a case of multicollinearity which will be considered during the second session.\n",
    "\n",
    "The max-likelihood criteria:\n",
    "$$\n",
    "\\prod\\limits_i p(y^i|x^i,w,\\sigma)\\to \\max.\n",
    "$$\n",
    "or\n",
    "$$\n",
    "\\log\\left(\\prod\\limits_i p(y^i|x^i,w,\\sigma)\\right)=\\sum\\limits_i \\log\\left({\\cal N}(y^i|w^T x^i,\\sigma^2)\\right)=\n",
    "$$$$\n",
    "=-\\sum\\limits_i \\frac{(y^i-w^T x^i)^2}{2\\sigma^2}- N \\log(\\sigma)-N \\log(\\sqrt{2\\pi})=-\\frac{RSS(w)}{2\\sigma^2}-N \\log(\\sigma)-N \\to\\max\n",
    "$$\n",
    "Which is in turn equivalent to\n",
    "$$\n",
    "RSS(w)\\to \\min,\n",
    "$$\n",
    "i.e. least-square criteria plus (just like in case of the bi-variate regression)\n",
    "$$\n",
    "\\frac{RSS(\\hat{w})}{2\\sigma^2}+N\\log(\\sigma)\\to\\min,\n",
    "$$\n",
    "i.e. the estimate $\\hat{\\sigma}$ could be found as\n",
    "$$\n",
    "\\frac{\\partial\\left[\\frac{RSS(\\hat{w})}{2\\sigma^2}+N\\log(\\hat{\\sigma})\\right]}{\\partial \\hat{\\sigma}}=0,\n",
    "$$$$\n",
    "-\\frac{RSS(\\hat{w})}{\\hat{\\sigma}^3}+\\frac{N}{\\hat{\\sigma}}=0,\n",
    "$$$$\n",
    "\\hat{\\sigma}^2=\\frac{RSS(\\hat{w})}{N}. \\hspace{5ex} (4)\n",
    "$$\n",
    "\n",
    "Also an unbiased adjusted estimate is know to be\n",
    "$$\n",
    "\\hat{\\sigma}^2=\\frac{RSS(\\hat{w})}{N-n}. \\hspace{5ex} (4')\n",
    "$$"
   ]
  },
  {
   "cell_type": "markdown",
   "metadata": {},
   "source": [
    "## 2. Simple Example"
   ]
  },
  {
   "cell_type": "code",
   "execution_count": 1,
   "metadata": {
    "collapsed": false
   },
   "outputs": [
    {
     "name": "stdout",
     "output_type": "stream",
     "text": [
      "Populating the interactive namespace from numpy and matplotlib\n"
     ]
    }
   ],
   "source": [
    "import numpy as np\n",
    "import pandas as pd\n",
    "import matplotlib.pyplot as plt\n",
    "%pylab inline\n",
    "\n",
    "import statsmodels.formula.api as smf\n",
    "import urllib\n",
    "#url = \"https://serv.cusp.nyu.edu/files/ADS-2015/MorningSection/lab3/L3.csv\"\n",
    "#f = urllib.urlopen(url)"
   ]
  },
  {
   "cell_type": "code",
   "execution_count": 2,
   "metadata": {
    "collapsed": true
   },
   "outputs": [],
   "source": [
    "path = 'C:\\\\Users\\\\fomyt\\\\Documents\\\\ADS_Fall2016\\\\Notebook\\\\data'"
   ]
  },
  {
   "cell_type": "code",
   "execution_count": 3,
   "metadata": {
    "collapsed": false
   },
   "outputs": [],
   "source": [
    "NYC = pd.read_csv(path + '\\\\2016_02_18_sintetic.csv', index_col=0)\n",
    "zip_NY = NYC.postalCode.unique()\n",
    "Demographic = pd.read_csv(path + '\\\\Demographic_2014.csv', low_memory=False)\n",
    "variable_names=list(Demographic.iloc[0,:])\n",
    "#first row is variable name\n",
    "Demographic=Demographic.iloc[1:,:]\n",
    "Demographic.index=range(len(Demographic))\n",
    "#get zipcode from the strange string\n",
    "zipcode=pd.DataFrame([int(Demographic.loc[i,'Name of Area'].split(\" \")[0]) for i in range(len(Demographic))])\n",
    "Demographic.columns=variable_names\n",
    "Demographic=pd.concat((zipcode,Demographic),axis=1)\n",
    "Demographic=Demographic.rename(columns={0:'zipcode'})"
   ]
  },
  {
   "cell_type": "code",
   "execution_count": 4,
   "metadata": {
    "collapsed": true
   },
   "outputs": [],
   "source": [
    "Demo_NY = Demographic[Demographic.loc[:,'zipcode'].isin(zip_NY)]\n",
    "Demo_NY.index=range(len(Demo_NY))"
   ]
  },
  {
   "cell_type": "code",
   "execution_count": 5,
   "metadata": {
    "collapsed": true
   },
   "outputs": [],
   "source": [
    "#Features we may need to use from census. \n",
    "population=['SE_T001_001','SE_T009_002','SE_T009_003','SE_T009_004','SE_T009_005']\n",
    "#Total population, #Total Population under 18; 18-34; 35-64;65+#\n",
    "\n",
    "race=['SE_T013_001','SE_T013_002','SE_T013_003','SE_T013_004','SE_T013_005','SE_T013_006','SE_T013_007','SE_T013_008']\n",
    "#Total,White Along, Black or African American, American Indian and Alaska Native Alone, Asian Alone, \n",
    "#Native Hawaiian and Other Pacific Islander Alone,Some Other Race Alone,Two or More races\n",
    "\n",
    "marriage=['SE_T017_001','SE_T017_002','SE_T017_003','SE_T017_004','SE_T017_007','SE_T018_002']\n",
    "# Households, Family households, Married-couple Family, Single-parent family, Nofamily Households, Household with one or more people under 18\n",
    "\n",
    "education=['SE_T025_001','SE_T025_002','SE_T025_003','SE_T025_004','SE_T025_005','SE_T025_006','SE_T025_008','SE_T025_007']\n",
    "# Population over 25: less than high school, high school, some college, Bechelor, Master, Professional school, Doctorate\n",
    "\n",
    "employment=['SE_T037_001','SE_T037_002','SET037_003']\n",
    "#Civilian Population In Labor Force 16 Years And Over: employed; unemployed.\n",
    "\n",
    "income=['SE_T056_001','SE_T056_002','SE_T056_003','SE_T056_004','SE_T056_005','SE_T056_006','SE_T056_007',\n",
    "       'SE_T056_008','SE_T056_009','SE_T056_010','SE_T056_011','SE_T056_012','SE_T056_013'\n",
    "       'SE_T056_014','SE_T056_015','SE_T056_016','SE_T056_017',]\n",
    "#Households, Households: Less than $10,000;Households: $10,000 to $14,999;Households: $15,000 to $19,999\n",
    "#$20,000 to $24,999;Households: $25,000 to $29,999;Households: $30,000 to $34,999;Households: $35,000 to $39,999\n",
    " #Households: $40,000 to $44,999; Households: $45,000 to $49,999;Households: $50,000 to $59,999\n",
    "# Households: $60,000 to $74,999 ;Households: $75,000 to $99,999 ; Households: $100,000 to $124,999\n",
    "#$125,000 to $149,999; $150,000 to $199,999 ;$200,000 or More\n",
    "\n",
    "income_per_capita=['SE_T083_001']\n",
    "#Per capita income (In 2014 Inflation adjusted dollars)\n",
    "\n",
    "insurance=['SE_T145_001','SE_T145_002','SE_T145_003','SE_T145_004','SE_T145_005']\n",
    "# Total; No Health Insurance Coverage;With Health Insurance Coverage;\n",
    "#With Health Insurance Coverage: Public Health Coverage;With Health Insurance Coverage: Private Health Insurance\n",
    "\n",
    "born_place=['SE_T133_001','SE_T133_002','SE_T133_003','SE_T133_004','SE_T133_005']\n",
    "#Total; Total Population:Native Born;Foreign Born\n",
    "#Total Population: Foreign Born: Naturalized Citizen; Not a Citizen\n",
    "\n",
    "transportation_to_work=['SE_T128_001','SE_T128_002','SE_T128_003','SE_T128_004','SE_T128_005','SE_T128_006'\n",
    "                        ,'SE_T128_007','SE_T128_008']\n",
    "#Workers 16 Years and over:\n",
    "#Workers 16 Years and over: Car, truck, or van;Drove Alone;Carpooled;Public transportation (Includes Taxicab)\n",
    "#Motorcycle;Bicycle;Walked;Other means; Worked at home\n",
    "\n",
    "time_on_road_towork=['SE_T129_001','SE_T129_002','SE_T129_003','SE_T129_004','SE_T129_005',\n",
    "                     'SE_T129_006','SE_T129_007','SE_T129_008','SE_T129_009','SE_T129_010']\n",
    "# Workers 16 Years and over:\n",
    "#Workers 16 Years and over: Did not work at home;Less than 10 minutes;10 to 19 minutes;20 to 29 minutes\n",
    "#30 to 39 minutes;40 to 59 minutes;60 to 89 minutes;90 or More minutes\n",
    "#Worked at home\n",
    "\n",
    "type_house=['SE_T095_003','SE_T094_001','SE_T094_002','SE_T094_003']\n",
    "#Vacant houses; Occupied houses; Owner Occupied; Renter Occupied\n",
    "\n",
    "House_price_owner=['SE_T100_001','SE_T100_002','SE_T100_003''SE_T100_004','SE_T100_005',\n",
    "                  'SE_T100_006','SE_T100_007','SE_T100_008','SE_T100_009','SE_T100_010']\n",
    "#Owner-occupied housing units:Less than $20,000;$20,000 to $49,999;$50,000 to $99,999;$100,000 to $149,999\n",
    "#$150,000 to $299,999;300,000 to $499,999;500,000 to $749,999;750,000 to $999,999;1,000,000 or More\n",
    "\n",
    "Rent_price=['SE_T102_001','SE_T102_002','SE_T102_003','SE_T102_004','SE_T102_005',\n",
    "            'SE_T102_006','SE_T102_007','SE_T102_008','SE_T102_009']\n",
    "\n",
    "#Renter-occupied housing units with cash rent: Less than $300; $300 to $599;$600 to $799;$800 to $999\n",
    "#$1,000 to $1,249;$1,250 to $1,499;$1,500 to $1,999; $2,000 or More\n",
    "\n",
    "\n",
    "veteran=['SE_T131_001','SE_T131_002','SE_T131_003','SE_T131_004','SE_T131_005','SE_T131_006','SE_T131_007']\n",
    "#Civilian Population 18 Years and over:\n",
    "#Civilian Population 18 Years and over: Veteran;Veteran: 18 to 64 Years; 65 Years and over\n",
    "#Civilian Population 18 Years and over: Nonveteran; Nonveteran: 18 to 64 Years; 65 Years and over\n",
    "\n",
    "other=['SE_T142_001','SE_T157_001']\n",
    "#Owner-ocupied units; Gini index\n",
    "\n",
    "#zipcode:10020, ..., we have two zipcodes where nobody lives. (population=0)"
   ]
  },
  {
   "cell_type": "code",
   "execution_count": 7,
   "metadata": {
    "collapsed": false
   },
   "outputs": [],
   "source": [
    "data1 = Demo_NY.loc[:,['zipcode']+income_per_capita+education]\n",
    "data1.rename(columns= dict(zip(['zipcode']+income_per_capita+education,['Zipcode','IncomePerCapita','PopOver25','LessThanHS', 'HighSchool',\n",
    "                'SomeCollege', 'Bachelor', 'Master', 'Doctorate', 'ProfSchool'])), inplace=True)\n",
    "data1.to_csv(path + '\\\\IncomeEduReg.csv', index=False)"
   ]
  },
  {
   "cell_type": "code",
   "execution_count": 8,
   "metadata": {
    "collapsed": true
   },
   "outputs": [],
   "source": [
    "marriage=['SE_T017_001','SE_T017_002','SE_T017_003','SE_T017_004','SE_T017_007']\n",
    "# Households, Family households, Married-couple Family, Single-parent family, Nofamily Households, Household with one or more people under 18\n",
    "employment=['SE_T037_001','SE_T037_002','SE_T037_003']\n",
    "#Civilian Population In Labor Force 16 Years And Over: employed; unemployed."
   ]
  },
  {
   "cell_type": "code",
   "execution_count": 9,
   "metadata": {
    "collapsed": true
   },
   "outputs": [],
   "source": [
    "data2 = Demo_NY.loc[:,['zipcode']+income_per_capita+marriage]\n",
    "data3 = Demo_NY.loc[:,['zipcode']+income_per_capita+employment]"
   ]
  },
  {
   "cell_type": "code",
   "execution_count": 10,
   "metadata": {
    "collapsed": false,
    "scrolled": true
   },
   "outputs": [
    {
     "data": {
      "text/html": [
       "<div>\n",
       "<table border=\"1\" class=\"dataframe\">\n",
       "  <thead>\n",
       "    <tr style=\"text-align: right;\">\n",
       "      <th></th>\n",
       "      <th>zipcode</th>\n",
       "      <th>SE_T083_001</th>\n",
       "      <th>SE_T017_001</th>\n",
       "      <th>SE_T017_002</th>\n",
       "      <th>SE_T017_003</th>\n",
       "      <th>SE_T017_004</th>\n",
       "      <th>SE_T017_007</th>\n",
       "    </tr>\n",
       "  </thead>\n",
       "  <tbody>\n",
       "    <tr>\n",
       "      <th>0</th>\n",
       "      <td>10001</td>\n",
       "      <td>77512</td>\n",
       "      <td>11169</td>\n",
       "      <td>3348</td>\n",
       "      <td>2301</td>\n",
       "      <td>1047</td>\n",
       "      <td>7821</td>\n",
       "    </tr>\n",
       "    <tr>\n",
       "      <th>1</th>\n",
       "      <td>10002</td>\n",
       "      <td>26905</td>\n",
       "      <td>32550</td>\n",
       "      <td>17454</td>\n",
       "      <td>10054</td>\n",
       "      <td>7400</td>\n",
       "      <td>15096</td>\n",
       "    </tr>\n",
       "    <tr>\n",
       "      <th>2</th>\n",
       "      <td>10003</td>\n",
       "      <td>79088</td>\n",
       "      <td>27564</td>\n",
       "      <td>7396</td>\n",
       "      <td>6120</td>\n",
       "      <td>1276</td>\n",
       "      <td>20168</td>\n",
       "    </tr>\n",
       "    <tr>\n",
       "      <th>3</th>\n",
       "      <td>10004</td>\n",
       "      <td>98020</td>\n",
       "      <td>1580</td>\n",
       "      <td>531</td>\n",
       "      <td>432</td>\n",
       "      <td>99</td>\n",
       "      <td>1049</td>\n",
       "    </tr>\n",
       "    <tr>\n",
       "      <th>4</th>\n",
       "      <td>10005</td>\n",
       "      <td>99633</td>\n",
       "      <td>4100</td>\n",
       "      <td>1056</td>\n",
       "      <td>967</td>\n",
       "      <td>89</td>\n",
       "      <td>3044</td>\n",
       "    </tr>\n",
       "  </tbody>\n",
       "</table>\n",
       "</div>"
      ],
      "text/plain": [
       "   zipcode SE_T083_001 SE_T017_001 SE_T017_002 SE_T017_003 SE_T017_004  \\\n",
       "0    10001       77512       11169        3348        2301        1047   \n",
       "1    10002       26905       32550       17454       10054        7400   \n",
       "2    10003       79088       27564        7396        6120        1276   \n",
       "3    10004       98020        1580         531         432          99   \n",
       "4    10005       99633        4100        1056         967          89   \n",
       "\n",
       "  SE_T017_007  \n",
       "0        7821  \n",
       "1       15096  \n",
       "2       20168  \n",
       "3        1049  \n",
       "4        3044  "
      ]
     },
     "execution_count": 10,
     "metadata": {},
     "output_type": "execute_result"
    }
   ],
   "source": [
    "data2.head()"
   ]
  },
  {
   "cell_type": "code",
   "execution_count": 11,
   "metadata": {
    "collapsed": false
   },
   "outputs": [
    {
     "data": {
      "text/html": [
       "<div>\n",
       "<table border=\"1\" class=\"dataframe\">\n",
       "  <thead>\n",
       "    <tr style=\"text-align: right;\">\n",
       "      <th></th>\n",
       "      <th>Zipcode</th>\n",
       "      <th>IncomePerCapita</th>\n",
       "      <th>Households</th>\n",
       "      <th>Family</th>\n",
       "      <th>MarriedCouple</th>\n",
       "      <th>SingleParent</th>\n",
       "      <th>NoFamily</th>\n",
       "    </tr>\n",
       "  </thead>\n",
       "  <tbody>\n",
       "    <tr>\n",
       "      <th>0</th>\n",
       "      <td>10001</td>\n",
       "      <td>77512</td>\n",
       "      <td>11169</td>\n",
       "      <td>3348</td>\n",
       "      <td>2301</td>\n",
       "      <td>1047</td>\n",
       "      <td>7821</td>\n",
       "    </tr>\n",
       "    <tr>\n",
       "      <th>1</th>\n",
       "      <td>10002</td>\n",
       "      <td>26905</td>\n",
       "      <td>32550</td>\n",
       "      <td>17454</td>\n",
       "      <td>10054</td>\n",
       "      <td>7400</td>\n",
       "      <td>15096</td>\n",
       "    </tr>\n",
       "    <tr>\n",
       "      <th>2</th>\n",
       "      <td>10003</td>\n",
       "      <td>79088</td>\n",
       "      <td>27564</td>\n",
       "      <td>7396</td>\n",
       "      <td>6120</td>\n",
       "      <td>1276</td>\n",
       "      <td>20168</td>\n",
       "    </tr>\n",
       "    <tr>\n",
       "      <th>3</th>\n",
       "      <td>10004</td>\n",
       "      <td>98020</td>\n",
       "      <td>1580</td>\n",
       "      <td>531</td>\n",
       "      <td>432</td>\n",
       "      <td>99</td>\n",
       "      <td>1049</td>\n",
       "    </tr>\n",
       "    <tr>\n",
       "      <th>4</th>\n",
       "      <td>10005</td>\n",
       "      <td>99633</td>\n",
       "      <td>4100</td>\n",
       "      <td>1056</td>\n",
       "      <td>967</td>\n",
       "      <td>89</td>\n",
       "      <td>3044</td>\n",
       "    </tr>\n",
       "  </tbody>\n",
       "</table>\n",
       "</div>"
      ],
      "text/plain": [
       "   Zipcode IncomePerCapita Households Family MarriedCouple SingleParent  \\\n",
       "0    10001           77512      11169   3348          2301         1047   \n",
       "1    10002           26905      32550  17454         10054         7400   \n",
       "2    10003           79088      27564   7396          6120         1276   \n",
       "3    10004           98020       1580    531           432           99   \n",
       "4    10005           99633       4100   1056           967           89   \n",
       "\n",
       "  NoFamily  \n",
       "0     7821  \n",
       "1    15096  \n",
       "2    20168  \n",
       "3     1049  \n",
       "4     3044  "
      ]
     },
     "execution_count": 11,
     "metadata": {},
     "output_type": "execute_result"
    }
   ],
   "source": [
    "data2.rename(columns= dict(zip(['zipcode']+income_per_capita+marriage, ['Zipcode','IncomePerCapita', 'Households', 'Family', 'MarriedCouple',\n",
    "                 'SingleParent', 'NoFamily'])), inplace=True)\n",
    "data2.head()"
   ]
  },
  {
   "cell_type": "code",
   "execution_count": 12,
   "metadata": {
    "collapsed": true
   },
   "outputs": [],
   "source": [
    "type_house=['SE_T095_003','SE_T094_001','SE_T094_002','SE_T094_003']\n",
    "#Vacant houses; Occupied houses; Owner Occupied; Renter Occupied"
   ]
  },
  {
   "cell_type": "code",
   "execution_count": 10,
   "metadata": {
    "collapsed": false
   },
   "outputs": [],
   "source": [
    "insurance=['SE_T145_001','SE_T145_002','SE_T145_003','SE_T145_004','SE_T145_005']\n",
    "# Total; No Health Insurance Coverage;With Health Insurance Coverage;\n",
    "#With Health Insurance Coverage: Public Health Coverage;With Health Insurance Coverage: Private Health Insurance\n",
    "data5 = Demo_NY.loc[:,['zipcode']+income_per_capita+insurance]\n",
    "data5.rename(columns = dict(zip(['zipcode']+income_per_capita+insurance, ['Zipcode', 'IncomePerCapita',\n",
    "        'Total','NoCoverage','WithCoverage','Public','Private'])), inplace=True)\n",
    "data5.head()\n",
    "data5.to_csv(path +'\\\\IncomeInsReg.csv', index=False)"
   ]
  },
  {
   "cell_type": "code",
   "execution_count": 13,
   "metadata": {
    "collapsed": false
   },
   "outputs": [
    {
     "data": {
      "text/html": [
       "<div>\n",
       "<table border=\"1\" class=\"dataframe\">\n",
       "  <thead>\n",
       "    <tr style=\"text-align: right;\">\n",
       "      <th></th>\n",
       "      <th>Zipcode</th>\n",
       "      <th>IncomePerCapita</th>\n",
       "      <th>Vacant</th>\n",
       "      <th>Occupied</th>\n",
       "      <th>OwnerOccupied</th>\n",
       "      <th>RenterOccupied</th>\n",
       "    </tr>\n",
       "  </thead>\n",
       "  <tbody>\n",
       "    <tr>\n",
       "      <th>0</th>\n",
       "      <td>10001</td>\n",
       "      <td>77512</td>\n",
       "      <td>1469</td>\n",
       "      <td>11169</td>\n",
       "      <td>3055</td>\n",
       "      <td>8114</td>\n",
       "    </tr>\n",
       "    <tr>\n",
       "      <th>1</th>\n",
       "      <td>10002</td>\n",
       "      <td>26905</td>\n",
       "      <td>2731</td>\n",
       "      <td>32550</td>\n",
       "      <td>4370</td>\n",
       "      <td>28180</td>\n",
       "    </tr>\n",
       "    <tr>\n",
       "      <th>2</th>\n",
       "      <td>10003</td>\n",
       "      <td>79088</td>\n",
       "      <td>3664</td>\n",
       "      <td>27564</td>\n",
       "      <td>8537</td>\n",
       "      <td>19027</td>\n",
       "    </tr>\n",
       "    <tr>\n",
       "      <th>3</th>\n",
       "      <td>10004</td>\n",
       "      <td>98020</td>\n",
       "      <td>523</td>\n",
       "      <td>1580</td>\n",
       "      <td>462</td>\n",
       "      <td>1118</td>\n",
       "    </tr>\n",
       "    <tr>\n",
       "      <th>4</th>\n",
       "      <td>10005</td>\n",
       "      <td>99633</td>\n",
       "      <td>1014</td>\n",
       "      <td>4100</td>\n",
       "      <td>544</td>\n",
       "      <td>3556</td>\n",
       "    </tr>\n",
       "  </tbody>\n",
       "</table>\n",
       "</div>"
      ],
      "text/plain": [
       "   Zipcode IncomePerCapita Vacant Occupied OwnerOccupied RenterOccupied\n",
       "0    10001           77512   1469    11169          3055           8114\n",
       "1    10002           26905   2731    32550          4370          28180\n",
       "2    10003           79088   3664    27564          8537          19027\n",
       "3    10004           98020    523     1580           462           1118\n",
       "4    10005           99633   1014     4100           544           3556"
      ]
     },
     "execution_count": 13,
     "metadata": {},
     "output_type": "execute_result"
    }
   ],
   "source": [
    "data4 = Demo_NY.loc[:,['zipcode']+income_per_capita+type_house]\n",
    "data4.rename(columns = dict(zip(['zipcode']+income_per_capita+type_house, ['Zipcode', 'IncomePerCapita',\n",
    "             'Vacant', 'Occupied', 'OwnerOccupied', 'RenterOccupied'])), inplace=True)\n",
    "data4.head()"
   ]
  },
  {
   "cell_type": "code",
   "execution_count": 14,
   "metadata": {
    "collapsed": true
   },
   "outputs": [],
   "source": [
    "data4.to_csv(path + '\\\\IncomeHouseReg.csv', index= False)"
   ]
  },
  {
   "cell_type": "code",
   "execution_count": 15,
   "metadata": {
    "collapsed": false
   },
   "outputs": [
    {
     "data": {
      "text/html": [
       "<div>\n",
       "<table border=\"1\" class=\"dataframe\">\n",
       "  <thead>\n",
       "    <tr style=\"text-align: right;\">\n",
       "      <th></th>\n",
       "      <th>Zipcode</th>\n",
       "      <th>IncomePerCapita</th>\n",
       "      <th>InLaborForce</th>\n",
       "      <th>Employed</th>\n",
       "      <th>Unemployed</th>\n",
       "    </tr>\n",
       "  </thead>\n",
       "  <tbody>\n",
       "    <tr>\n",
       "      <th>0</th>\n",
       "      <td>10001</td>\n",
       "      <td>77512</td>\n",
       "      <td>14547</td>\n",
       "      <td>13276</td>\n",
       "      <td>1271</td>\n",
       "    </tr>\n",
       "    <tr>\n",
       "      <th>1</th>\n",
       "      <td>10002</td>\n",
       "      <td>26905</td>\n",
       "      <td>38902</td>\n",
       "      <td>34605</td>\n",
       "      <td>4297</td>\n",
       "    </tr>\n",
       "    <tr>\n",
       "      <th>2</th>\n",
       "      <td>10003</td>\n",
       "      <td>79088</td>\n",
       "      <td>37390</td>\n",
       "      <td>34937</td>\n",
       "      <td>2453</td>\n",
       "    </tr>\n",
       "    <tr>\n",
       "      <th>3</th>\n",
       "      <td>10004</td>\n",
       "      <td>98020</td>\n",
       "      <td>2273</td>\n",
       "      <td>2067</td>\n",
       "      <td>206</td>\n",
       "    </tr>\n",
       "    <tr>\n",
       "      <th>4</th>\n",
       "      <td>10005</td>\n",
       "      <td>99633</td>\n",
       "      <td>6020</td>\n",
       "      <td>5828</td>\n",
       "      <td>192</td>\n",
       "    </tr>\n",
       "  </tbody>\n",
       "</table>\n",
       "</div>"
      ],
      "text/plain": [
       "   Zipcode IncomePerCapita InLaborForce Employed Unemployed\n",
       "0    10001           77512        14547    13276       1271\n",
       "1    10002           26905        38902    34605       4297\n",
       "2    10003           79088        37390    34937       2453\n",
       "3    10004           98020         2273     2067        206\n",
       "4    10005           99633         6020     5828        192"
      ]
     },
     "execution_count": 15,
     "metadata": {},
     "output_type": "execute_result"
    }
   ],
   "source": [
    "data3.rename(columns = dict(zip(['zipcode']+income_per_capita+employment,['Zipcode', 'IncomePerCapita', 'InLaborForce',\n",
    "                                            'Employed','Unemployed'])),inplace=True)\n",
    "data3.head()"
   ]
  },
  {
   "cell_type": "code",
   "execution_count": 16,
   "metadata": {
    "collapsed": true
   },
   "outputs": [],
   "source": [
    "data2.to_csv(path + '\\\\IncomeFamilyReg.csv', index=False)\n",
    "data3.to_csv(path + '\\\\IncomeEmpReg.csv', index=False)"
   ]
  },
  {
   "cell_type": "code",
   "execution_count": null,
   "metadata": {
    "collapsed": true
   },
   "outputs": [],
   "source": []
  },
  {
   "cell_type": "code",
   "execution_count": null,
   "metadata": {
    "collapsed": true
   },
   "outputs": [],
   "source": []
  },
  {
   "cell_type": "code",
   "execution_count": null,
   "metadata": {
    "collapsed": true
   },
   "outputs": [],
   "source": []
  },
  {
   "cell_type": "code",
   "execution_count": null,
   "metadata": {
    "collapsed": true
   },
   "outputs": [],
   "source": []
  },
  {
   "cell_type": "code",
   "execution_count": 17,
   "metadata": {
    "collapsed": false
   },
   "outputs": [
    {
     "data": {
      "text/html": [
       "<div>\n",
       "<table border=\"1\" class=\"dataframe\">\n",
       "  <thead>\n",
       "    <tr style=\"text-align: right;\">\n",
       "      <th></th>\n",
       "      <th>y</th>\n",
       "      <th>x1</th>\n",
       "      <th>x2</th>\n",
       "      <th>x3</th>\n",
       "      <th>x4</th>\n",
       "      <th>x5</th>\n",
       "    </tr>\n",
       "  </thead>\n",
       "  <tbody>\n",
       "    <tr>\n",
       "      <th>1</th>\n",
       "      <td>0.891224</td>\n",
       "      <td>11.310117</td>\n",
       "      <td>7.304922</td>\n",
       "      <td>25.138700</td>\n",
       "      <td>51.186434</td>\n",
       "      <td>12.365874</td>\n",
       "    </tr>\n",
       "    <tr>\n",
       "      <th>2</th>\n",
       "      <td>1.529763</td>\n",
       "      <td>28.867388</td>\n",
       "      <td>-2.097258</td>\n",
       "      <td>15.338794</td>\n",
       "      <td>-14.225474</td>\n",
       "      <td>33.227090</td>\n",
       "    </tr>\n",
       "    <tr>\n",
       "      <th>3</th>\n",
       "      <td>0.720653</td>\n",
       "      <td>7.622209</td>\n",
       "      <td>8.467495</td>\n",
       "      <td>32.239993</td>\n",
       "      <td>-40.313527</td>\n",
       "      <td>10.333777</td>\n",
       "    </tr>\n",
       "    <tr>\n",
       "      <th>4</th>\n",
       "      <td>0.953661</td>\n",
       "      <td>17.399920</td>\n",
       "      <td>-4.881389</td>\n",
       "      <td>56.865684</td>\n",
       "      <td>52.465955</td>\n",
       "      <td>18.922631</td>\n",
       "    </tr>\n",
       "    <tr>\n",
       "      <th>5</th>\n",
       "      <td>-2.605897</td>\n",
       "      <td>-6.241537</td>\n",
       "      <td>-9.394398</td>\n",
       "      <td>22.004642</td>\n",
       "      <td>58.642567</td>\n",
       "      <td>-7.759056</td>\n",
       "    </tr>\n",
       "  </tbody>\n",
       "</table>\n",
       "</div>"
      ],
      "text/plain": [
       "          y         x1        x2         x3         x4         x5\n",
       "1  0.891224  11.310117  7.304922  25.138700  51.186434  12.365874\n",
       "2  1.529763  28.867388 -2.097258  15.338794 -14.225474  33.227090\n",
       "3  0.720653   7.622209  8.467495  32.239993 -40.313527  10.333777\n",
       "4  0.953661  17.399920 -4.881389  56.865684  52.465955  18.922631\n",
       "5 -2.605897  -6.241537 -9.394398  22.004642  58.642567  -7.759056"
      ]
     },
     "execution_count": 17,
     "metadata": {},
     "output_type": "execute_result"
    }
   ],
   "source": [
    "data = pd.read_csv(path+'\\\\L3.csv', index_col=0)\n",
    "data.head()"
   ]
  },
  {
   "cell_type": "markdown",
   "metadata": {},
   "source": [
    "## (A) Method 1, run regression with statsmodels.formula.api (smf)"
   ]
  },
  {
   "cell_type": "code",
   "execution_count": 18,
   "metadata": {
    "collapsed": false
   },
   "outputs": [
    {
     "name": "stdout",
     "output_type": "stream",
     "text": [
      "                            OLS Regression Results                            \n",
      "==============================================================================\n",
      "Dep. Variable:                      y   R-squared:                       0.957\n",
      "Model:                            OLS   Adj. R-squared:                  0.955\n",
      "Method:                 Least Squares   F-statistic:                     416.5\n",
      "Date:                Sat, 10 Sep 2016   Prob (F-statistic):           1.71e-62\n",
      "Time:                        13:57:58   Log-Likelihood:                 15.219\n",
      "No. Observations:                 100   AIC:                            -18.44\n",
      "Df Residuals:                      94   BIC:                            -2.807\n",
      "Df Model:                           5                                         \n",
      "Covariance Type:            nonrobust                                         \n",
      "==============================================================================\n",
      "                 coef    std err          t      P>|t|      [95.0% Conf. Int.]\n",
      "------------------------------------------------------------------------------\n",
      "Intercept     -1.6403      0.053    -30.765      0.000        -1.746    -1.534\n",
      "x1             0.1045      0.006     17.941      0.000         0.093     0.116\n",
      "x2             0.0600      0.003     22.371      0.000         0.055     0.065\n",
      "x3             0.0205      0.001     18.643      0.000         0.018     0.023\n",
      "x4             0.0005      0.001      0.794      0.429        -0.001     0.002\n",
      "x5            -0.0025      0.004     -0.577      0.565        -0.011     0.006\n",
      "==============================================================================\n",
      "Omnibus:                        0.840   Durbin-Watson:                   2.275\n",
      "Prob(Omnibus):                  0.657   Jarque-Bera (JB):                0.794\n",
      "Skew:                          -0.212   Prob(JB):                        0.672\n",
      "Kurtosis:                       2.895   Cond. No.                         118.\n",
      "==============================================================================\n",
      "\n",
      "Warnings:\n",
      "[1] Standard Errors assume that the covariance matrix of the errors is correctly specified.\n"
     ]
    },
    {
     "data": {
      "image/png": "[encoded data removed]",
      "text/plain": [
       "<matplotlib.figure.Figure at 0x1e4d3f28>"
      ]
     },
     "metadata": {},
     "output_type": "display_data"
    }
   ],
   "source": [
    "lm = smf.ols(formula = 'y ~ x1 + x2 + x3 + x4 + x5', data = data).fit()\n",
    "lmy = lm.predict(data)\n",
    "plt.plot(lmy,data.y,'or')\n",
    "plt.plot(lmy,lmy,'-b')\n",
    "print(lm.summary())"
   ]
  },
  {
   "cell_type": "code",
   "execution_count": 19,
   "metadata": {
    "collapsed": false
   },
   "outputs": [
    {
     "data": {
      "text/html": [
       "<div>\n",
       "<table border=\"1\" class=\"dataframe\">\n",
       "  <thead>\n",
       "    <tr style=\"text-align: right;\">\n",
       "      <th></th>\n",
       "      <th>Predict_y</th>\n",
       "      <th>True_y</th>\n",
       "      <th>diff</th>\n",
       "    </tr>\n",
       "  </thead>\n",
       "  <tbody>\n",
       "    <tr>\n",
       "      <th>1</th>\n",
       "      <td>0.488309</td>\n",
       "      <td>0.891224</td>\n",
       "      <td>0.402915</td>\n",
       "    </tr>\n",
       "    <tr>\n",
       "      <th>2</th>\n",
       "      <td>1.476146</td>\n",
       "      <td>1.529763</td>\n",
       "      <td>0.053617</td>\n",
       "    </tr>\n",
       "    <tr>\n",
       "      <th>3</th>\n",
       "      <td>0.280776</td>\n",
       "      <td>0.720653</td>\n",
       "      <td>0.439877</td>\n",
       "    </tr>\n",
       "    <tr>\n",
       "      <th>4</th>\n",
       "      <td>1.028406</td>\n",
       "      <td>0.953661</td>\n",
       "      <td>-0.074745</td>\n",
       "    </tr>\n",
       "    <tr>\n",
       "      <th>5</th>\n",
       "      <td>-2.358620</td>\n",
       "      <td>-2.605897</td>\n",
       "      <td>-0.247277</td>\n",
       "    </tr>\n",
       "  </tbody>\n",
       "</table>\n",
       "</div>"
      ],
      "text/plain": [
       "   Predict_y    True_y      diff\n",
       "1   0.488309  0.891224  0.402915\n",
       "2   1.476146  1.529763  0.053617\n",
       "3   0.280776  0.720653  0.439877\n",
       "4   1.028406  0.953661 -0.074745\n",
       "5  -2.358620 -2.605897 -0.247277"
      ]
     },
     "execution_count": 19,
     "metadata": {},
     "output_type": "execute_result"
    }
   ],
   "source": [
    "pd.DataFrame({'True_y':data.y,'Predict_y':lmy, 'diff':(data.y - lmy)}).head()"
   ]
  },
  {
   "cell_type": "markdown",
   "metadata": {},
   "source": [
    "## (B) Method 2, matrix computation: $\\hat{w}=\\left(X^T X\\right )^{-1}X^T Y. \\hspace{5ex} $\n",
    "### Note: we have to include the intercept term in matrix X along with all variables $x_i$"
   ]
  },
  {
   "cell_type": "markdown",
   "metadata": {},
   "source": [
    "**WARNING**: If you wrote **X = data**, python will NOT generate a copy but simply treat them the same, EVERY change you made to **X** will reflect on **data**, so please pay attention if you want to keep original dataset untouched"
   ]
  },
  {
   "cell_type": "code",
   "execution_count": 20,
   "metadata": {
    "collapsed": true
   },
   "outputs": [],
   "source": [
    "X = data.copy()"
   ]
  },
  {
   "cell_type": "code",
   "execution_count": 21,
   "metadata": {
    "collapsed": false
   },
   "outputs": [
    {
     "data": {
      "text/html": [
       "<div>\n",
       "<table border=\"1\" class=\"dataframe\">\n",
       "  <thead>\n",
       "    <tr style=\"text-align: right;\">\n",
       "      <th></th>\n",
       "      <th>intercept</th>\n",
       "      <th>x1</th>\n",
       "      <th>x2</th>\n",
       "      <th>x3</th>\n",
       "      <th>x4</th>\n",
       "      <th>x5</th>\n",
       "    </tr>\n",
       "  </thead>\n",
       "  <tbody>\n",
       "    <tr>\n",
       "      <th>1</th>\n",
       "      <td>1</td>\n",
       "      <td>11.310117</td>\n",
       "      <td>7.304922</td>\n",
       "      <td>25.138700</td>\n",
       "      <td>51.186434</td>\n",
       "      <td>12.365874</td>\n",
       "    </tr>\n",
       "    <tr>\n",
       "      <th>2</th>\n",
       "      <td>1</td>\n",
       "      <td>28.867388</td>\n",
       "      <td>-2.097258</td>\n",
       "      <td>15.338794</td>\n",
       "      <td>-14.225474</td>\n",
       "      <td>33.227090</td>\n",
       "    </tr>\n",
       "    <tr>\n",
       "      <th>3</th>\n",
       "      <td>1</td>\n",
       "      <td>7.622209</td>\n",
       "      <td>8.467495</td>\n",
       "      <td>32.239993</td>\n",
       "      <td>-40.313527</td>\n",
       "      <td>10.333777</td>\n",
       "    </tr>\n",
       "    <tr>\n",
       "      <th>4</th>\n",
       "      <td>1</td>\n",
       "      <td>17.399920</td>\n",
       "      <td>-4.881389</td>\n",
       "      <td>56.865684</td>\n",
       "      <td>52.465955</td>\n",
       "      <td>18.922631</td>\n",
       "    </tr>\n",
       "    <tr>\n",
       "      <th>5</th>\n",
       "      <td>1</td>\n",
       "      <td>-6.241537</td>\n",
       "      <td>-9.394398</td>\n",
       "      <td>22.004642</td>\n",
       "      <td>58.642567</td>\n",
       "      <td>-7.759056</td>\n",
       "    </tr>\n",
       "  </tbody>\n",
       "</table>\n",
       "</div>"
      ],
      "text/plain": [
       "   intercept         x1        x2         x3         x4         x5\n",
       "1          1  11.310117  7.304922  25.138700  51.186434  12.365874\n",
       "2          1  28.867388 -2.097258  15.338794 -14.225474  33.227090\n",
       "3          1   7.622209  8.467495  32.239993 -40.313527  10.333777\n",
       "4          1  17.399920 -4.881389  56.865684  52.465955  18.922631\n",
       "5          1  -6.241537 -9.394398  22.004642  58.642567  -7.759056"
      ]
     },
     "execution_count": 21,
     "metadata": {},
     "output_type": "execute_result"
    }
   ],
   "source": [
    "X.y = 1  # This is the intercept term, simply replace all y value with 1 for computation\n",
    "X.rename(columns = {'y':'intercept'}, inplace = True)\n",
    "X.head()"
   ]
  },
  {
   "cell_type": "code",
   "execution_count": 22,
   "metadata": {
    "collapsed": false
   },
   "outputs": [
    {
     "data": {
      "text/plain": [
       "matrix([[ -1.64030170e+00],\n",
       "        [  1.04533310e-01],\n",
       "        [  5.99897894e-02],\n",
       "        [  2.04994399e-02],\n",
       "        [  4.63672579e-04],\n",
       "        [ -2.50344998e-03]])"
      ]
     },
     "execution_count": 22,
     "metadata": {},
     "output_type": "execute_result"
    }
   ],
   "source": [
    "X = np.mat(X)\n",
    "Y = np.mat(data.y).T\n",
    "w = np.linalg.inv(X.T * X) * X.T * Y\n",
    "# an alternative method is using pow(X.T*X, -1) functin, where pow stands for power\n",
    "w"
   ]
  },
  {
   "cell_type": "markdown",
   "metadata": {},
   "source": [
    "### Compare the coefficients obtained through different methods"
   ]
  },
  {
   "cell_type": "code",
   "execution_count": 23,
   "metadata": {
    "collapsed": false,
    "scrolled": true
   },
   "outputs": [
    {
     "data": {
      "text/html": [
       "<div>\n",
       "<table border=\"1\" class=\"dataframe\">\n",
       "  <thead>\n",
       "    <tr style=\"text-align: right;\">\n",
       "      <th></th>\n",
       "      <th>Matrix_Computation</th>\n",
       "      <th>Regression</th>\n",
       "    </tr>\n",
       "  </thead>\n",
       "  <tbody>\n",
       "    <tr>\n",
       "      <th>Intercept</th>\n",
       "      <td>[-1.64030169786]</td>\n",
       "      <td>-1.640302</td>\n",
       "    </tr>\n",
       "    <tr>\n",
       "      <th>x1</th>\n",
       "      <td>[0.104533310307]</td>\n",
       "      <td>0.104533</td>\n",
       "    </tr>\n",
       "    <tr>\n",
       "      <th>x2</th>\n",
       "      <td>[0.0599897893846]</td>\n",
       "      <td>0.059990</td>\n",
       "    </tr>\n",
       "    <tr>\n",
       "      <th>x3</th>\n",
       "      <td>[0.0204994398765]</td>\n",
       "      <td>0.020499</td>\n",
       "    </tr>\n",
       "    <tr>\n",
       "      <th>x4</th>\n",
       "      <td>[0.000463672579144]</td>\n",
       "      <td>0.000464</td>\n",
       "    </tr>\n",
       "    <tr>\n",
       "      <th>x5</th>\n",
       "      <td>[-0.00250344998097]</td>\n",
       "      <td>-0.002503</td>\n",
       "    </tr>\n",
       "  </tbody>\n",
       "</table>\n",
       "</div>"
      ],
      "text/plain": [
       "            Matrix_Computation  Regression\n",
       "Intercept     [-1.64030169786]   -1.640302\n",
       "x1            [0.104533310307]    0.104533\n",
       "x2           [0.0599897893846]    0.059990\n",
       "x3           [0.0204994398765]    0.020499\n",
       "x4         [0.000463672579144]    0.000464\n",
       "x5         [-0.00250344998097]   -0.002503"
      ]
     },
     "execution_count": 23,
     "metadata": {},
     "output_type": "execute_result"
    }
   ],
   "source": [
    "pd.DataFrame({'Matrix_Computation':w.tolist(), 'Regression':lm.params})"
   ]
  },
  {
   "cell_type": "markdown",
   "metadata": {},
   "source": [
    "### Note that the coefficients of $x_4$ and $x_5$ are very close to 0, bringing up the question whether dropping them would significantly affect the model"
   ]
  },
  {
   "cell_type": "markdown",
   "metadata": {},
   "source": [
    "# 3. Explanation of R-squared\n",
    "\n",
    "In the same way as for the bi-variate regression:\n",
    "$$\n",
    "R^2=1-\\frac{RSS}{\\sum\\limits_i (y_i-\\overline{y})^2}=\\frac{\\sum\\limits_i (\\hat{y}_i-\\overline{y})^2}{\\sum\\limits_i (y_i-\\overline{y})^2},\n",
    "$$\n",
    "where $\\overline{y}=\\sum\\limits_i y_i$ is the sample mean of observed values of responce variable. This way $R^2$ is often interpreted as a fraction of responce variable's variance explained by linear model. $R^2=1$ is equivalent to $RSS=0$, i.e. the model fits the observations exactly, i.e. responce variable depends linearly on the explaining variables. On the other hand, $R^2=0$ means that the model always predicts the sample mean $\\overline{y}$, i.e. explaining variables $x$ have no effect on responce variable $y$. \n",
    "\n",
    "Least-square criteria is equivalent to maximizing $R^2$."
   ]
  },
  {
   "cell_type": "markdown",
   "metadata": {},
   "source": [
    "### Usually, $R^2$ can be viewed as a measurement of how much information of response variable y is provided by our regression model"
   ]
  },
  {
   "cell_type": "code",
   "execution_count": 24,
   "metadata": {
    "collapsed": false
   },
   "outputs": [],
   "source": [
    "def CalcR2(data, length=5):\n",
    "    # Default length 5, in other words we include ALL variables for this particular dataset\n",
    "    \n",
    "    # First create a string for controlling the number of x_i\n",
    "    string = ''\n",
    "    for i in range(length):\n",
    "        string += str(i+1)\n",
    "        \n",
    "    # Next convert this string into our formula\n",
    "    formula = 'y ~ x' + ' + x'.join(string)\n",
    "    \n",
    "    # Perform regression\n",
    "    lm = smf.ols(formula = formula, data = data).fit()\n",
    "    return lm.rsquared"
   ]
  },
  {
   "cell_type": "code",
   "execution_count": 25,
   "metadata": {
    "collapsed": false
   },
   "outputs": [
    {
     "data": {
      "text/plain": [
       "[0.39592674239373493,\n",
       " 0.79317132702623372,\n",
       " 0.95638945120716023,\n",
       " 0.9566617582452267,\n",
       " 0.95681482606750901]"
      ]
     },
     "execution_count": 25,
     "metadata": {},
     "output_type": "execute_result"
    }
   ],
   "source": [
    "R2 = []\n",
    "# Include the independent variable one by one and see how the R^2 changes accordingly\n",
    "for i in range(5):\n",
    "    R2.append(CalcR2(data, i+1))\n",
    "\n",
    "R2"
   ]
  },
  {
   "cell_type": "code",
   "execution_count": 26,
   "metadata": {
    "collapsed": false
   },
   "outputs": [
    {
     "data": {
      "text/plain": [
       "[<matplotlib.lines.Line2D at 0x159648d0>]"
      ]
     },
     "execution_count": 26,
     "metadata": {},
     "output_type": "execute_result"
    },
    {
     "data": {
      "image/png": "[encoded data removed]",
      "text/plain": [
       "<matplotlib.figure.Figure at 0x1e4e7828>"
      ]
     },
     "metadata": {},
     "output_type": "display_data"
    }
   ],
   "source": [
    "plt.plot(range(1,6), R2, marker = 'o')"
   ]
  },
  {
   "cell_type": "markdown",
   "metadata": {},
   "source": [
    "### Two observations:\n",
    "* $R^2$ increases as the model becomes more complex\n",
    "* The marginal increase becomes trivia after 3"
   ]
  },
  {
   "cell_type": "markdown",
   "metadata": {},
   "source": [
    "### So for this dataset, a 3-variable model ('$y \\sim x_1 + x_2 + x_3$') is good enough"
   ]
  },
  {
   "cell_type": "markdown",
   "metadata": {},
   "source": [
    "# 4. Feature scaling\n",
    "\n",
    "Often in order to get some sense out of the values of $w_j$ one might want to normalize the features first, brinding them on the same scale. For example one can standardszation, transforming independent variables into their standard scores (also called z-scores, normal scores):\n",
    "$$\n",
    "x_j^*=\\frac{x_j-\\overline{x}_j}{\\sigma_j}\n",
    "$$\n",
    "where $\\overline{x}_j=E[X_j]$ and $\\sigma_j=std[X_j]$ are the corresponding sample mean and standard deviation. This however does not apply to a constant dummy variable corresponding to the intercept term if present. One might omit this dummy variable in case if responce variable is also standardized (then it's mean is also zero and there is no need for an intercept). \n",
    "\n",
    "Then, the resulting coefficients $\\hat{w}_j$ could be interpreted as a relative (or absolute if the output variable is also standardized) strength of each regressor's impact on the responce variable $x_j$."
   ]
  },
  {
   "cell_type": "code",
   "execution_count": 27,
   "metadata": {
    "collapsed": false,
    "scrolled": true
   },
   "outputs": [
    {
     "data": {
      "text/html": [
       "<div>\n",
       "<table border=\"1\" class=\"dataframe\">\n",
       "  <thead>\n",
       "    <tr style=\"text-align: right;\">\n",
       "      <th></th>\n",
       "      <th>x1</th>\n",
       "      <th>x2</th>\n",
       "      <th>x3</th>\n",
       "    </tr>\n",
       "  </thead>\n",
       "  <tbody>\n",
       "    <tr>\n",
       "      <th>1</th>\n",
       "      <td>0.210419</td>\n",
       "      <td>0.680516</td>\n",
       "      <td>-0.246654</td>\n",
       "    </tr>\n",
       "    <tr>\n",
       "      <th>2</th>\n",
       "      <td>3.030311</td>\n",
       "      <td>-0.195378</td>\n",
       "      <td>-0.743884</td>\n",
       "    </tr>\n",
       "    <tr>\n",
       "      <th>3</th>\n",
       "      <td>-0.381900</td>\n",
       "      <td>0.788820</td>\n",
       "      <td>0.113653</td>\n",
       "    </tr>\n",
       "    <tr>\n",
       "      <th>4</th>\n",
       "      <td>1.188509</td>\n",
       "      <td>-0.454743</td>\n",
       "      <td>1.363119</td>\n",
       "    </tr>\n",
       "    <tr>\n",
       "      <th>5</th>\n",
       "      <td>-2.608571</td>\n",
       "      <td>-0.875169</td>\n",
       "      <td>-0.405671</td>\n",
       "    </tr>\n",
       "  </tbody>\n",
       "</table>\n",
       "</div>"
      ],
      "text/plain": [
       "         x1        x2        x3\n",
       "1  0.210419  0.680516 -0.246654\n",
       "2  3.030311 -0.195378 -0.743884\n",
       "3 -0.381900  0.788820  0.113653\n",
       "4  1.188509 -0.454743  1.363119\n",
       "5 -2.608571 -0.875169 -0.405671"
      ]
     },
     "execution_count": 27,
     "metadata": {},
     "output_type": "execute_result"
    }
   ],
   "source": [
    "df = data.loc[:,['x1','x2','x3']]\n",
    "df = (df - df.mean()) / df.std()\n",
    "df.head()"
   ]
  },
  {
   "cell_type": "code",
   "execution_count": 28,
   "metadata": {
    "collapsed": false
   },
   "outputs": [
    {
     "data": {
      "text/html": [
       "<table class=\"simpletable\">\n",
       "<caption>OLS Regression Results</caption>\n",
       "<tr>\n",
       "  <th>Dep. Variable:</th>            <td>y</td>        <th>  R-squared:         </th> <td>   0.956</td>\n",
       "</tr>\n",
       "<tr>\n",
       "  <th>Model:</th>                   <td>OLS</td>       <th>  Adj. R-squared:    </th> <td>   0.955</td>\n",
       "</tr>\n",
       "<tr>\n",
       "  <th>Method:</th>             <td>Least Squares</td>  <th>  F-statistic:       </th> <td>   701.8</td>\n",
       "</tr>\n",
       "<tr>\n",
       "  <th>Date:</th>             <td>Sat, 10 Sep 2016</td> <th>  Prob (F-statistic):</th> <td>3.87e-65</td>\n",
       "</tr>\n",
       "<tr>\n",
       "  <th>Time:</th>                 <td>13:57:59</td>     <th>  Log-Likelihood:    </th> <td>  14.729</td>\n",
       "</tr>\n",
       "<tr>\n",
       "  <th>No. Observations:</th>      <td>   100</td>      <th>  AIC:               </th> <td>  -21.46</td>\n",
       "</tr>\n",
       "<tr>\n",
       "  <th>Df Residuals:</th>          <td>    96</td>      <th>  BIC:               </th> <td>  -11.04</td>\n",
       "</tr>\n",
       "<tr>\n",
       "  <th>Df Model:</th>              <td>     3</td>      <th>                     </th>     <td> </td>   \n",
       "</tr>\n",
       "<tr>\n",
       "  <th>Covariance Type:</th>      <td>nonrobust</td>    <th>                     </th>     <td> </td>   \n",
       "</tr>\n",
       "</table>\n",
       "<table class=\"simpletable\">\n",
       "<tr>\n",
       "      <td></td>         <th>coef</th>     <th>std err</th>      <th>t</th>      <th>P>|t|</th> <th>[95.0% Conf. Int.]</th> \n",
       "</tr>\n",
       "<tr>\n",
       "  <th>Intercept</th> <td> 3.469e-18</td> <td>    0.021</td> <td> 1.63e-16</td> <td> 1.000</td> <td>   -0.042     0.042</td>\n",
       "</tr>\n",
       "<tr>\n",
       "  <th>x1</th>        <td>    0.6324</td> <td>    0.021</td> <td>   29.522</td> <td> 0.000</td> <td>    0.590     0.675</td>\n",
       "</tr>\n",
       "<tr>\n",
       "  <th>x2</th>        <td>    0.6334</td> <td>    0.021</td> <td>   29.571</td> <td> 0.000</td> <td>    0.591     0.676</td>\n",
       "</tr>\n",
       "<tr>\n",
       "  <th>x3</th>        <td>    0.4060</td> <td>    0.021</td> <td>   18.955</td> <td> 0.000</td> <td>    0.364     0.449</td>\n",
       "</tr>\n",
       "</table>\n",
       "<table class=\"simpletable\">\n",
       "<tr>\n",
       "  <th>Omnibus:</th>       <td> 0.658</td> <th>  Durbin-Watson:     </th> <td>   2.293</td>\n",
       "</tr>\n",
       "<tr>\n",
       "  <th>Prob(Omnibus):</th> <td> 0.720</td> <th>  Jarque-Bera (JB):  </th> <td>   0.592</td>\n",
       "</tr>\n",
       "<tr>\n",
       "  <th>Skew:</th>          <td>-0.185</td> <th>  Prob(JB):          </th> <td>   0.744</td>\n",
       "</tr>\n",
       "<tr>\n",
       "  <th>Kurtosis:</th>      <td> 2.925</td> <th>  Cond. No.          </th> <td>    1.01</td>\n",
       "</tr>\n",
       "</table>"
      ],
      "text/plain": [
       "<class 'statsmodels.iolib.summary.Summary'>\n",
       "\"\"\"\n",
       "                            OLS Regression Results                            \n",
       "==============================================================================\n",
       "Dep. Variable:                      y   R-squared:                       0.956\n",
       "Model:                            OLS   Adj. R-squared:                  0.955\n",
       "Method:                 Least Squares   F-statistic:                     701.8\n",
       "Date:                Sat, 10 Sep 2016   Prob (F-statistic):           3.87e-65\n",
       "Time:                        13:57:59   Log-Likelihood:                 14.729\n",
       "No. Observations:                 100   AIC:                            -21.46\n",
       "Df Residuals:                      96   BIC:                            -11.04\n",
       "Df Model:                           3                                         \n",
       "Covariance Type:            nonrobust                                         \n",
       "==============================================================================\n",
       "                 coef    std err          t      P>|t|      [95.0% Conf. Int.]\n",
       "------------------------------------------------------------------------------\n",
       "Intercept   3.469e-18      0.021   1.63e-16      1.000        -0.042     0.042\n",
       "x1             0.6324      0.021     29.522      0.000         0.590     0.675\n",
       "x2             0.6334      0.021     29.571      0.000         0.591     0.676\n",
       "x3             0.4060      0.021     18.955      0.000         0.364     0.449\n",
       "==============================================================================\n",
       "Omnibus:                        0.658   Durbin-Watson:                   2.293\n",
       "Prob(Omnibus):                  0.720   Jarque-Bera (JB):                0.592\n",
       "Skew:                          -0.185   Prob(JB):                        0.744\n",
       "Kurtosis:                       2.925   Cond. No.                         1.01\n",
       "==============================================================================\n",
       "\n",
       "Warnings:\n",
       "[1] Standard Errors assume that the covariance matrix of the errors is correctly specified.\n",
       "\"\"\""
      ]
     },
     "execution_count": 28,
     "metadata": {},
     "output_type": "execute_result"
    },
    {
     "data": {
      "image/png": "[encoded data removed]",
      "text/plain": [
       "<matplotlib.figure.Figure at 0x1e4d3b00>"
      ]
     },
     "metadata": {},
     "output_type": "display_data"
    }
   ],
   "source": [
    "data2 = pd.concat([data.y, df], axis = 1)\n",
    "lm = smf.ols(formula='y ~ x1 + x2 + x3', data = data2).fit()\n",
    "lmy = lm.predict(data2)\n",
    "plt.plot(lmy,data.y,'or')\n",
    "plt.plot(lmy,lmy,'-b') \n",
    "lm.summary()"
   ]
  },
  {
   "cell_type": "code",
   "execution_count": null,
   "metadata": {
    "collapsed": true
   },
   "outputs": [],
   "source": []
  }
 ],
 "metadata": {
  "anaconda-cloud": {},
  "kernelspec": {
   "display_name": "Python [Root]",
   "language": "python",
   "name": "Python [Root]"
  },
  "language_info": {
   "codemirror_mode": {
    "name": "ipython",
    "version": 2
   },
   "file_extension": ".py",
   "mimetype": "text/x-python",
   "name": "python",
   "nbconvert_exporter": "python",
   "pygments_lexer": "ipython2",
   "version": "2.7.12"
  }
 },
 "nbformat": 4,
 "nbformat_minor": 0
}
