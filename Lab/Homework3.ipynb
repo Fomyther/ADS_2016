{
 "cells": [
  {
   "cell_type": "markdown",
   "metadata": {},
   "source": [
    "# Homework 3\n"
   ]
  },
  {
   "cell_type": "markdown",
   "metadata": {},
   "source": [
    "### Problem 1 (5% credit). \n",
    "Consider a multivariate regression of the output variable y over the 3\n",
    "regressors regressors x_1, x_2, x_3, with the observations from the file stored under the following link:\n",
    "https://serv.cusp.nyu.edu/files/ADS-2015/MorningSection/homework3/H31.csv\n",
    "(also see below)\n",
    "Which one of the regressors is a dummy variable corresponding to an intercept term?"
   ]
  },
  {
   "cell_type": "code",
   "execution_count": 1,
   "metadata": {
    "collapsed": false
   },
   "outputs": [
    {
     "data": {
      "text/html": [
       "<div>\n",
       "<table border=\"1\" class=\"dataframe\">\n",
       "  <thead>\n",
       "    <tr style=\"text-align: right;\">\n",
       "      <th></th>\n",
       "      <th>y</th>\n",
       "      <th>x1</th>\n",
       "      <th>x2</th>\n",
       "      <th>x3</th>\n",
       "    </tr>\n",
       "  </thead>\n",
       "  <tbody>\n",
       "    <tr>\n",
       "      <th>1</th>\n",
       "      <td>0</td>\n",
       "      <td>1</td>\n",
       "      <td>-2</td>\n",
       "      <td>1</td>\n",
       "    </tr>\n",
       "    <tr>\n",
       "      <th>2</th>\n",
       "      <td>2</td>\n",
       "      <td>1</td>\n",
       "      <td>-1</td>\n",
       "      <td>-1</td>\n",
       "    </tr>\n",
       "    <tr>\n",
       "      <th>3</th>\n",
       "      <td>2</td>\n",
       "      <td>1</td>\n",
       "      <td>0</td>\n",
       "      <td>0</td>\n",
       "    </tr>\n",
       "    <tr>\n",
       "      <th>4</th>\n",
       "      <td>3</td>\n",
       "      <td>1</td>\n",
       "      <td>1</td>\n",
       "      <td>-1</td>\n",
       "    </tr>\n",
       "    <tr>\n",
       "      <th>5</th>\n",
       "      <td>3</td>\n",
       "      <td>1</td>\n",
       "      <td>2</td>\n",
       "      <td>1</td>\n",
       "    </tr>\n",
       "  </tbody>\n",
       "</table>\n",
       "</div>"
      ],
      "text/plain": [
       "   y  x1  x2  x3\n",
       "1  0   1  -2   1\n",
       "2  2   1  -1  -1\n",
       "3  2   1   0   0\n",
       "4  3   1   1  -1\n",
       "5  3   1   2   1"
      ]
     },
     "execution_count": 1,
     "metadata": {},
     "output_type": "execute_result"
    }
   ],
   "source": [
    "import pandas as pd\n",
    "data=pd.read_csv('https://serv.cusp.nyu.edu/files/ADS-2015/MorningSection/homework3/H31.csv', index_col=0)\n",
    "data.head()"
   ]
  },
  {
   "cell_type": "markdown",
   "metadata": {},
   "source": [
    "### Problem 2 (15% credit). \n",
    "For the data from the problem 1 perform a manual estimate for the least-square multivariate regression coefficients  (not using regression tools, but using appropriate matrix operations and formula (3) from the session notebook)."
   ]
  },
  {
   "cell_type": "markdown",
   "metadata": {},
   "source": [
    "## Problem 3 (15% of credit)\n",
    "Prove that regressors x1,x2,x3 are mutually ortogonal. Perform an estimate for regression coefficients using uni-variate regressions formulas. Compare with the results of problem 2."
   ]
  },
  {
   "cell_type": "markdown",
   "metadata": {},
   "source": [
    "### Problem 4 (5% credit)\n",
    "Suppose that a multiple regression with 7 regressors gave the following p-values for each of them:\n",
    "0.01, 1e-15, 0.1, 0.04, 0.001, 0.06, 0.03\n",
    "How many regressors you would exclude based on that? Please explain."
   ]
  },
  {
   "cell_type": "markdown",
   "metadata": {},
   "source": [
    "### Problem 6 (20% credit)\n",
    "Perform a multivariate regression of y over x1,x2,x3,x4,x5 (with an intercept) using the observations from: https://serv.cusp.nyu.edu/files/ADS-2015/MorningSection/homework3/H32.csv"
   ]
  },
  {
   "cell_type": "markdown",
   "metadata": {},
   "source": [
    "### Problem 7 (20% credit)\n",
    "Perform the same regression as from the problem 5 but after standardization of the regressors. Report the regressor having the highest impact on the responce variable."
   ]
  },
  {
   "cell_type": "markdown",
   "metadata": {},
   "source": [
    "### Problem 8 (20% credit)\n",
    "Analyzing regression statistics from problem 6 exclude the regressors with insignificant impact. Repeat the regression over the remaining regressors only and report the statistics."
   ]
  },
  {
   "cell_type": "markdown",
   "metadata": {},
   "source": [
    "### Extra credit assignment (40% of credit to be applied toward this or further homeworks )\n",
    "\n",
    "Using the real estate data from the lab, train and validate the multivariate linear models for predicting sales price within each zip code for the: a) single-residence, b) multiapartment houses. Consider only the zip codes having more than 500 houses to consider. Train the model over as many relevant regressors as you can (including dummy-variables expressing impact of non-real valued factors or non-linear impacts) and perform feature selection over the validaton set. This is a custom approach - feel free to frame it as you like aiming for the best possible performance over the validation sets. Report the final training and validation set R2's as a table (zip, size, R2) as well as a spatial visualization (just the validation R2 over zip code's lat-long with colors indicating the R2 value). "
   ]
  }
 ],
 "metadata": {
  "anaconda-cloud": {},
  "kernelspec": {
   "display_name": "Python [Root]",
   "language": "python",
   "name": "Python [Root]"
  },
  "language_info": {
   "codemirror_mode": {
    "name": "ipython",
    "version": 2
   },
   "file_extension": ".py",
   "mimetype": "text/x-python",
   "name": "python",
   "nbconvert_exporter": "python",
   "pygments_lexer": "ipython2",
   "version": "2.7.12"
  }
 },
 "nbformat": 4,
 "nbformat_minor": 0
}
