{
 "cells": [
  {
   "cell_type": "markdown",
   "metadata": {},
   "source": [
    "# Session 5, Hypothesis Testing and Confidence Interval (CI)"
   ]
  },
  {
   "cell_type": "markdown",
   "metadata": {},
   "source": [
    "# 1. Explanations of regression statistics\n",
    "\n",
    "### R-squared\n",
    "\n",
    "In the same way as for the bi-variate regression:\n",
    "$$\n",
    "R^2=1-\\frac{RSS}{\\sum\\limits_i (y_i-\\overline{y})^2}=\\frac{\\sum\\limits_i (\\hat{y}_i-\\overline{y})^2}{\\sum\\limits_i (y_i-\\overline{y})^2},\n",
    "$$\n",
    "where $\\overline{y}=\\sum\\limits_i y_i$ is the sample mean of observed values of responce variable. This way $R^2$ is often interpreted as a fraction of responce variable's variance explained by linear model. $R^2=1$ is equivalent to $RSS=0$, i.e. the model fits the observations exactly, i.e. responce variable depends linearly on the explaining variables. On the other hand, $R^2=0$ means that the model always predicts the sample mean $\\overline{y}$, i.e. explaining variables $x$ have no effect on responce variable $y$. \n",
    "\n",
    "Least-square criteria is equivalent to maximizing $R^2$.\n",
    "\n",
    "### Confidence intervals\n",
    "As before uncertainty of the model predictions comes together with the uncertainty of the model coefficients' estimates $\\hat{w}$. The last, treated as a random vector has a variance-covariance matrix \n",
    "$$\n",
    "Var(\\hat{w})=(X^T X)^{-1}\\sigma^2,\n",
    "$$\n",
    "while for $\\sigma^2$ we can use one of the estimates (4) or (4') - usually the last unbiased one.\n",
    "\n",
    "Based on this estimate as well as the normality of $\\hat{w}$ distribution, the confidence intervals for each $\\hat{w}_j$ are constructred (i.e. ranges containing the \"true\" value of $w_j$ with a certain level of confidence $1-\\alpha$.\n",
    "\n",
    "### Hypothesis testing: P-values, t-statistics and F-statistics\n",
    "\n",
    "For each estimate $\\hat{w}_i$ and the hypothesized value $w_i^*$ (often $w_i^*=0$), the corresponding $t$-statistics is defined as\n",
    "$$t=\\frac{w_i^*-\\hat{w}_i}{ \\sqrt {Var( \\hat{w}_i)}}.$$\n",
    "Based on the value of $t$-statistics, which is known to follow Students distribution (approximately normal for large $N$), the $p$-value is defined to show our confidence that the observed deviation of the estimate $\\hat{w}_i$ from a hypothesized value $w_i^*$ is simply a matter of chance (specifically it denotes a probabiity of having the absolute value of the $t$-statistics for the true value $w_i$ modulo higher than the observed one. \n",
    "\n",
    "This way once $p$-value (confidence level for the hypothesis) is lower than a certain threshold (typically $5\\%$), the hypothesis of having the true value of $w_i$ to be $w_i^*$ is rejected.\n",
    "\n",
    "The most common example is assuming a null-hypothesis $w_i^*=0$, meaning that explaining variable $x_i$ has actually no impact on the response variable $y$. Those $p$-values for the null-hypothesis are reported by R and python for every regressor $x_i$ in order to show if the impact of the considered regressor is statistically significant. \n",
    "\n",
    "In the same way as for the bi-variate regression, low $p$-values do not prove that: 1) impact of $x_i$ on $y$ is actually linear, or that 2) the estimate we have for the coefficient $w_i$ is the true one. In turn, having high value of $p$-value by itself does not prove that $y$ is independent on $x_i$ (first of all linear effect could be there, just disguised by noise, second - the effect could be non-linear).\n",
    "\n",
    "Regressors having high $p$-values are usually excluded from the model in order to stay free from the random insignificnt effects, reducing the risk of overfitting (this is however not the only way of fighting it).\n",
    "\n",
    "However often we need to test the significance of a subgroup of regressors together (or all of the regressors) testing the entire model against the null-hypothesis that a model based on a smaller subset of $m$ regressors (or just the intercept) of the regressors actually performs not worse than the original one.  The following $F$-statistics helps with that:\n",
    "$$\n",
    "F=\\frac{(RSS_0-RSS_1)(N-n)}{RSS_1\\cdot (n-m)},\n",
    "$$\n",
    "where $RSS_1$ is the optimal (least-square) $RSS$ value for the original regression and $RSS_0$ - is the optimal $RSS$ value of the regression based on the considered subset of $m$ regressors (testing the hypothesis that only those $m$ regressors are significant). R and python will report the value of $F$ for the null-hypothesis that only the intercept is significant, as well as the $p$-value characterizing this $F$-statistics.\n",
    "\n"
   ]
  },
  {
   "cell_type": "markdown",
   "metadata": {},
   "source": [
    "# 2. Feature selection\n",
    "\n",
    "Reducing complexity of the model (number of features or their dimensionality) is usually recommended in such cases. The most straighforward way of doing so is through feature selection. \n",
    "\n",
    "Select a subset of the regressors of the given size $k$ maximizing the model fit ($R^2$).  \n",
    "Step-forward  \n",
    "Step-backward  \n",
    "\n",
    "Drawback - we're discarding information from the feature space."
   ]
  },
  {
   "cell_type": "code",
   "execution_count": 1,
   "metadata": {
    "collapsed": false,
    "scrolled": false
   },
   "outputs": [
    {
     "name": "stdout",
     "output_type": "stream",
     "text": [
      "Populating the interactive namespace from numpy and matplotlib\n"
     ]
    }
   ],
   "source": [
    "import numpy as np\n",
    "import pandas as pd\n",
    "import matplotlib.pyplot as plt\n",
    "%pylab inline\n",
    "import statsmodels.formula.api as smf\n",
    "from scipy.stats import t"
   ]
  },
  {
   "cell_type": "code",
   "execution_count": 2,
   "metadata": {
    "collapsed": false
   },
   "outputs": [],
   "source": [
    "path = 'https://serv.cusp.nyu.edu/~cq299/ADS2016/Data/'\n",
    "matplotlib.rcParams['figure.figsize'] = [10,4]"
   ]
  },
  {
   "cell_type": "markdown",
   "metadata": {},
   "source": [
    "# Example 1\n",
    "### Revisit univariate regression with housing price"
   ]
  },
  {
   "cell_type": "code",
   "execution_count": 3,
   "metadata": {
    "collapsed": false
   },
   "outputs": [
    {
     "data": {
      "text/html": [
       "<div>\n",
       "<table border=\"1\" class=\"dataframe\">\n",
       "  <thead>\n",
       "    <tr style=\"text-align: right;\">\n",
       "      <th></th>\n",
       "      <th>zip_code</th>\n",
       "      <th>residential_units</th>\n",
       "      <th>land_sq_feet</th>\n",
       "      <th>gross_sq_feet</th>\n",
       "      <th>year_built</th>\n",
       "      <th>sale_price</th>\n",
       "      <th>sale_date</th>\n",
       "    </tr>\n",
       "  </thead>\n",
       "  <tbody>\n",
       "    <tr>\n",
       "      <th>0</th>\n",
       "      <td>11204</td>\n",
       "      <td>4</td>\n",
       "      <td>2800</td>\n",
       "      <td>3600</td>\n",
       "      <td>1926</td>\n",
       "      <td>833000</td>\n",
       "      <td>2007-02-01</td>\n",
       "    </tr>\n",
       "    <tr>\n",
       "      <th>1</th>\n",
       "      <td>11204</td>\n",
       "      <td>2</td>\n",
       "      <td>4000</td>\n",
       "      <td>2492</td>\n",
       "      <td>1940</td>\n",
       "      <td>790000</td>\n",
       "      <td>2007-01-19</td>\n",
       "    </tr>\n",
       "    <tr>\n",
       "      <th>2</th>\n",
       "      <td>11204</td>\n",
       "      <td>3</td>\n",
       "      <td>3000</td>\n",
       "      <td>4086</td>\n",
       "      <td>1920</td>\n",
       "      <td>272766</td>\n",
       "      <td>2003-11-20</td>\n",
       "    </tr>\n",
       "    <tr>\n",
       "      <th>3</th>\n",
       "      <td>11204</td>\n",
       "      <td>4</td>\n",
       "      <td>2700</td>\n",
       "      <td>3520</td>\n",
       "      <td>1931</td>\n",
       "      <td>650000</td>\n",
       "      <td>2004-01-21</td>\n",
       "    </tr>\n",
       "    <tr>\n",
       "      <th>4</th>\n",
       "      <td>11204</td>\n",
       "      <td>1</td>\n",
       "      <td>2000</td>\n",
       "      <td>1428</td>\n",
       "      <td>1920</td>\n",
       "      <td>400000</td>\n",
       "      <td>2003-08-01</td>\n",
       "    </tr>\n",
       "  </tbody>\n",
       "</table>\n",
       "</div>"
      ],
      "text/plain": [
       "   zip_code  residential_units  land_sq_feet  gross_sq_feet  year_built  \\\n",
       "0     11204                  4          2800           3600        1926   \n",
       "1     11204                  2          4000           2492        1940   \n",
       "2     11204                  3          3000           4086        1920   \n",
       "3     11204                  4          2700           3520        1931   \n",
       "4     11204                  1          2000           1428        1920   \n",
       "\n",
       "   sale_price   sale_date  \n",
       "0      833000  2007-02-01  \n",
       "1      790000  2007-01-19  \n",
       "2      272766  2003-11-20  \n",
       "3      650000  2004-01-21  \n",
       "4      400000  2003-08-01  "
      ]
     },
     "execution_count": 3,
     "metadata": {},
     "output_type": "execute_result"
    }
   ],
   "source": [
    "data1 = pd.read_csv(path + 'Se3_Ex1.csv')\n",
    "data1.head()"
   ]
  },
  {
   "cell_type": "code",
   "execution_count": 4,
   "metadata": {
    "collapsed": true
   },
   "outputs": [],
   "source": [
    "# Q1. Extract the \"year\" from \"sale_date\" and subtract \"year_built\" to obtain the \"year_gap\"\n",
    "    # -- How old is that house when it was sold? Create a column containing this information"
   ]
  },
  {
   "cell_type": "code",
   "execution_count": 5,
   "metadata": {
    "collapsed": true
   },
   "outputs": [],
   "source": [
    "# Q2. Select first 100 entries for simplicity, then\n",
    "    # Let first 70 entries be your training set, the other 30 for validation\n",
    "    # Regress the \"sale_price\" over the following ONE BY ONE in your training set:\n",
    "        # \"gross_sq_feet\"\n",
    "        # \"land_sq_feet\"\n",
    "        # \"residential_units\"\n",
    "        # \"year_gap\""
   ]
  },
  {
   "cell_type": "code",
   "execution_count": 6,
   "metadata": {
    "collapsed": true
   },
   "outputs": [],
   "source": [
    "# Q3. For each univariate regression model:\n",
    "    # Observe your coefficients and p-values (obtained through training set)\n",
    "    # Calculate the corr() matrix (with respect to all 100 entries)\n",
    "    # Calculate the \"Out-of-sample\" R^2 based on your validation set\n",
    "    # Plot the prediction versus observation (with respect to validation set)"
   ]
  },
  {
   "cell_type": "code",
   "execution_count": 7,
   "metadata": {
    "collapsed": true
   },
   "outputs": [],
   "source": [
    "# Q4. What does this 95% confidence interval tell you?\n",
    "    # Can you change it to 90% and compute the interval? Or any other given probability?"
   ]
  },
  {
   "cell_type": "code",
   "execution_count": 8,
   "metadata": {
    "collapsed": true
   },
   "outputs": [],
   "source": [
    "# Q5. Next we do it reversely, suppose you are given the \"average price per square foot\" p0\n",
    "    # What is the probability that a real avg. price per sq. foot is higher/lower than p0?\n",
    "    # Compute this probability if p0 = $50."
   ]
  },
  {
   "cell_type": "code",
   "execution_count": null,
   "metadata": {
    "collapsed": true
   },
   "outputs": [],
   "source": []
  },
  {
   "cell_type": "code",
   "execution_count": null,
   "metadata": {
    "collapsed": true
   },
   "outputs": [],
   "source": []
  },
  {
   "cell_type": "code",
   "execution_count": null,
   "metadata": {
    "collapsed": true
   },
   "outputs": [],
   "source": []
  },
  {
   "cell_type": "code",
   "execution_count": null,
   "metadata": {
    "collapsed": true
   },
   "outputs": [],
   "source": []
  },
  {
   "cell_type": "code",
   "execution_count": null,
   "metadata": {
    "collapsed": true
   },
   "outputs": [],
   "source": []
  },
  {
   "cell_type": "code",
   "execution_count": 9,
   "metadata": {
    "collapsed": true
   },
   "outputs": [],
   "source": [
    "# Q1. Extract the \"year\" from \"sale_date\" and subtract \"year_built\" to obtain the \"year_gap\"\n",
    "    # -- How old is that house when it was sold? Create a column containing this information"
   ]
  },
  {
   "cell_type": "code",
   "execution_count": 10,
   "metadata": {
    "collapsed": false
   },
   "outputs": [],
   "source": [
    "year_sale = lambda s:int(s[:4])\n",
    "data1['year_gap'] = data1.sale_date.apply(year_sale) - data1.year_built"
   ]
  },
  {
   "cell_type": "code",
   "execution_count": 11,
   "metadata": {
    "collapsed": true
   },
   "outputs": [],
   "source": [
    "# Q2. Select first 100 entries for simplicity, then\n",
    "    # Let first 70 entries be your training set, the other 30 for validation\n",
    "    # Regress the \"sale_price\" over the following ONE BY ONE in your training set:\n",
    "        # \"gross_sq_feet\"\n",
    "        # \"land_sq_feet\"\n",
    "        # \"residential_units\"\n",
    "        # \"year_gap\"\n",
    "# Q3. For each univariate regression model:\n",
    "    # Observe your coefficients and p-values (obtained through training set)\n",
    "    # Calculate the corr() matrix (with respect to all 100 entries)\n",
    "    # Calculate the \"Out-of-sample\" R^2 based on your validation set\n",
    "    # Plot the prediction versus observation (with respect to validation set)"
   ]
  },
  {
   "cell_type": "code",
   "execution_count": 12,
   "metadata": {
    "collapsed": true
   },
   "outputs": [],
   "source": [
    "data = data1[:100]\n",
    "train = data.iloc[:70,]\n",
    "valid = data.iloc[70:,]\n",
    "\n",
    "def modelEval(lm, key = 'sale_price'):\n",
    "    lmy = lm.predict(valid)\n",
    "    y_err = lmy - valid[key]\n",
    "    y_norm = valid[key]-mean(valid[key])\n",
    "    R2 = 1-y_err.dot(y_err)/y_norm.dot(y_norm)\n",
    "    print('Validation R^2 is %f'%R2)\n",
    "    print(lm.summary())\n",
    "    plt.plot(lmy, lmy, 'b-')\n",
    "    plt.plot(lmy, valid.sale_price,'or')"
   ]
  },
  {
   "cell_type": "code",
   "execution_count": 13,
   "metadata": {
    "collapsed": false
   },
   "outputs": [
    {
     "name": "stdout",
     "output_type": "stream",
     "text": [
      "Validation R^2 is 0.576572\n",
      "                            OLS Regression Results                            \n",
      "==============================================================================\n",
      "Dep. Variable:             sale_price   R-squared:                       0.119\n",
      "Model:                            OLS   Adj. R-squared:                  0.106\n",
      "Method:                 Least Squares   F-statistic:                     9.211\n",
      "Date:                Sat, 01 Oct 2016   Prob (F-statistic):            0.00341\n",
      "Time:                        10:55:12   Log-Likelihood:                -949.64\n",
      "No. Observations:                  70   AIC:                             1903.\n",
      "Df Residuals:                      68   BIC:                             1908.\n",
      "Df Model:                           1                                         \n",
      "Covariance Type:            nonrobust                                         \n",
      "=================================================================================\n",
      "                    coef    std err          t      P>|t|      [95.0% Conf. Int.]\n",
      "---------------------------------------------------------------------------------\n",
      "Intercept      4.286e+05   7.15e+04      5.997      0.000      2.86e+05  5.71e+05\n",
      "gross_sq_feet    80.1990     26.426      3.035      0.003        27.467   132.931\n",
      "==============================================================================\n",
      "Omnibus:                        5.708   Durbin-Watson:                   2.479\n",
      "Prob(Omnibus):                  0.058   Jarque-Bera (JB):                4.865\n",
      "Skew:                          -0.598   Prob(JB):                       0.0878\n",
      "Kurtosis:                       3.486   Cond. No.                     8.45e+03\n",
      "==============================================================================\n",
      "\n",
      "Warnings:\n",
      "[1] Standard Errors assume that the covariance matrix of the errors is correctly specified.\n",
      "[2] The condition number is large, 8.45e+03. This might indicate that there are\n",
      "strong multicollinearity or other numerical problems.\n"
     ]
    },
    {
     "data": {
      "image/png": "[encoded data removed]",
      "text/plain": [
       "<matplotlib.figure.Figure at 0x10c923d50>"
      ]
     },
     "metadata": {},
     "output_type": "display_data"
    }
   ],
   "source": [
    "grossArea = smf.ols(formula = 'sale_price ~ gross_sq_feet', data = train).fit()\n",
    "modelEval(grossArea)"
   ]
  },
  {
   "cell_type": "code",
   "execution_count": 14,
   "metadata": {
    "collapsed": false
   },
   "outputs": [
    {
     "data": {
      "text/html": [
       "<div>\n",
       "<table border=\"1\" class=\"dataframe\">\n",
       "  <thead>\n",
       "    <tr style=\"text-align: right;\">\n",
       "      <th></th>\n",
       "      <th>sale_price</th>\n",
       "      <th>gross_sq_feet</th>\n",
       "    </tr>\n",
       "  </thead>\n",
       "  <tbody>\n",
       "    <tr>\n",
       "      <th>sale_price</th>\n",
       "      <td>1.000000</td>\n",
       "      <td>0.464211</td>\n",
       "    </tr>\n",
       "    <tr>\n",
       "      <th>gross_sq_feet</th>\n",
       "      <td>0.464211</td>\n",
       "      <td>1.000000</td>\n",
       "    </tr>\n",
       "  </tbody>\n",
       "</table>\n",
       "</div>"
      ],
      "text/plain": [
       "               sale_price  gross_sq_feet\n",
       "sale_price       1.000000       0.464211\n",
       "gross_sq_feet    0.464211       1.000000"
      ]
     },
     "execution_count": 14,
     "metadata": {},
     "output_type": "execute_result"
    }
   ],
   "source": [
    "data[['sale_price','gross_sq_feet']].corr()"
   ]
  },
  {
   "cell_type": "code",
   "execution_count": 15,
   "metadata": {
    "collapsed": false
   },
   "outputs": [
    {
     "name": "stdout",
     "output_type": "stream",
     "text": [
      "Validation R^2 is 0.310054\n",
      "                            OLS Regression Results                            \n",
      "==============================================================================\n",
      "Dep. Variable:             sale_price   R-squared:                       0.056\n",
      "Model:                            OLS   Adj. R-squared:                  0.042\n",
      "Method:                 Least Squares   F-statistic:                     4.026\n",
      "Date:                Sat, 01 Oct 2016   Prob (F-statistic):             0.0488\n",
      "Time:                        10:55:13   Log-Likelihood:                -952.07\n",
      "No. Observations:                  70   AIC:                             1908.\n",
      "Df Residuals:                      68   BIC:                             1913.\n",
      "Df Model:                           1                                         \n",
      "Covariance Type:            nonrobust                                         \n",
      "================================================================================\n",
      "                   coef    std err          t      P>|t|      [95.0% Conf. Int.]\n",
      "--------------------------------------------------------------------------------\n",
      "Intercept     4.563e+05   9.17e+04      4.975      0.000      2.73e+05  6.39e+05\n",
      "land_sq_feet    74.9743     37.367      2.006      0.049         0.410   149.539\n",
      "==============================================================================\n",
      "Omnibus:                        1.172   Durbin-Watson:                   2.518\n",
      "Prob(Omnibus):                  0.557   Jarque-Bera (JB):                1.149\n",
      "Skew:                          -0.296   Prob(JB):                        0.563\n",
      "Kurtosis:                       2.789   Cond. No.                     9.51e+03\n",
      "==============================================================================\n",
      "\n",
      "Warnings:\n",
      "[1] Standard Errors assume that the covariance matrix of the errors is correctly specified.\n",
      "[2] The condition number is large, 9.51e+03. This might indicate that there are\n",
      "strong multicollinearity or other numerical problems.\n"
     ]
    },
    {
     "data": {
      "image/png": "[encoded data removed]",
      "text/plain": [
       "<matplotlib.figure.Figure at 0x10c5288d0>"
      ]
     },
     "metadata": {},
     "output_type": "display_data"
    }
   ],
   "source": [
    "landArea = smf.ols(formula = 'sale_price ~ land_sq_feet', data = train).fit()\n",
    "modelEval(landArea)"
   ]
  },
  {
   "cell_type": "code",
   "execution_count": 16,
   "metadata": {
    "collapsed": false
   },
   "outputs": [
    {
     "data": {
      "text/html": [
       "<div>\n",
       "<table border=\"1\" class=\"dataframe\">\n",
       "  <thead>\n",
       "    <tr style=\"text-align: right;\">\n",
       "      <th></th>\n",
       "      <th>sale_price</th>\n",
       "      <th>land_sq_feet</th>\n",
       "    </tr>\n",
       "  </thead>\n",
       "  <tbody>\n",
       "    <tr>\n",
       "      <th>sale_price</th>\n",
       "      <td>1.000000</td>\n",
       "      <td>0.335178</td>\n",
       "    </tr>\n",
       "    <tr>\n",
       "      <th>land_sq_feet</th>\n",
       "      <td>0.335178</td>\n",
       "      <td>1.000000</td>\n",
       "    </tr>\n",
       "  </tbody>\n",
       "</table>\n",
       "</div>"
      ],
      "text/plain": [
       "              sale_price  land_sq_feet\n",
       "sale_price      1.000000      0.335178\n",
       "land_sq_feet    0.335178      1.000000"
      ]
     },
     "execution_count": 16,
     "metadata": {},
     "output_type": "execute_result"
    }
   ],
   "source": [
    "data[['sale_price','land_sq_feet']].corr()"
   ]
  },
  {
   "cell_type": "code",
   "execution_count": 17,
   "metadata": {
    "collapsed": false
   },
   "outputs": [
    {
     "name": "stdout",
     "output_type": "stream",
     "text": [
      "Validation R^2 is 0.383525\n",
      "                            OLS Regression Results                            \n",
      "==============================================================================\n",
      "Dep. Variable:             sale_price   R-squared:                       0.061\n",
      "Model:                            OLS   Adj. R-squared:                  0.047\n",
      "Method:                 Least Squares   F-statistic:                     4.413\n",
      "Date:                Sat, 01 Oct 2016   Prob (F-statistic):             0.0394\n",
      "Time:                        10:55:13   Log-Likelihood:                -951.88\n",
      "No. Observations:                  70   AIC:                             1908.\n",
      "Df Residuals:                      68   BIC:                             1912.\n",
      "Df Model:                           1                                         \n",
      "Covariance Type:            nonrobust                                         \n",
      "=====================================================================================\n",
      "                        coef    std err          t      P>|t|      [95.0% Conf. Int.]\n",
      "-------------------------------------------------------------------------------------\n",
      "Intercept          5.213e+05   5.87e+04      8.886      0.000      4.04e+05  6.38e+05\n",
      "residential_units  4.966e+04   2.36e+04      2.101      0.039      2489.225  9.68e+04\n",
      "==============================================================================\n",
      "Omnibus:                        1.307   Durbin-Watson:                   2.443\n",
      "Prob(Omnibus):                  0.520   Jarque-Bera (JB):                1.016\n",
      "Skew:                          -0.295   Prob(JB):                        0.602\n",
      "Kurtosis:                       3.005   Cond. No.                         7.02\n",
      "==============================================================================\n",
      "\n",
      "Warnings:\n",
      "[1] Standard Errors assume that the covariance matrix of the errors is correctly specified.\n"
     ]
    },
    {
     "data": {
      "image/png": "[encoded data removed]",
      "text/plain": [
       "<matplotlib.figure.Figure at 0x11a116190>"
      ]
     },
     "metadata": {},
     "output_type": "display_data"
    }
   ],
   "source": [
    "residUnit = smf.ols(formula = 'sale_price ~ residential_units', data = train).fit()\n",
    "modelEval(residUnit)"
   ]
  },
  {
   "cell_type": "code",
   "execution_count": 18,
   "metadata": {
    "collapsed": false
   },
   "outputs": [
    {
     "data": {
      "text/html": [
       "<div>\n",
       "<table border=\"1\" class=\"dataframe\">\n",
       "  <thead>\n",
       "    <tr style=\"text-align: right;\">\n",
       "      <th></th>\n",
       "      <th>sale_price</th>\n",
       "      <th>residential_units</th>\n",
       "    </tr>\n",
       "  </thead>\n",
       "  <tbody>\n",
       "    <tr>\n",
       "      <th>sale_price</th>\n",
       "      <td>1.00000</td>\n",
       "      <td>0.35734</td>\n",
       "    </tr>\n",
       "    <tr>\n",
       "      <th>residential_units</th>\n",
       "      <td>0.35734</td>\n",
       "      <td>1.00000</td>\n",
       "    </tr>\n",
       "  </tbody>\n",
       "</table>\n",
       "</div>"
      ],
      "text/plain": [
       "                   sale_price  residential_units\n",
       "sale_price            1.00000            0.35734\n",
       "residential_units     0.35734            1.00000"
      ]
     },
     "execution_count": 18,
     "metadata": {},
     "output_type": "execute_result"
    }
   ],
   "source": [
    "data[['sale_price','residential_units']].corr()"
   ]
  },
  {
   "cell_type": "code",
   "execution_count": 19,
   "metadata": {
    "collapsed": false
   },
   "outputs": [
    {
     "name": "stdout",
     "output_type": "stream",
     "text": [
      "Validation R^2 is 0.021247\n",
      "                            OLS Regression Results                            \n",
      "==============================================================================\n",
      "Dep. Variable:             sale_price   R-squared:                       0.002\n",
      "Model:                            OLS   Adj. R-squared:                 -0.012\n",
      "Method:                 Least Squares   F-statistic:                    0.1497\n",
      "Date:                Sat, 01 Oct 2016   Prob (F-statistic):              0.700\n",
      "Time:                        10:55:13   Log-Likelihood:                -954.01\n",
      "No. Observations:                  70   AIC:                             1912.\n",
      "Df Residuals:                      68   BIC:                             1917.\n",
      "Df Model:                           1                                         \n",
      "Covariance Type:            nonrobust                                         \n",
      "==============================================================================\n",
      "                 coef    std err          t      P>|t|      [95.0% Conf. Int.]\n",
      "------------------------------------------------------------------------------\n",
      "Intercept   6.638e+05   8.06e+04      8.238      0.000      5.03e+05  8.25e+05\n",
      "year_gap    -408.8071   1056.465     -0.387      0.700     -2516.950  1699.335\n",
      "==============================================================================\n",
      "Omnibus:                        0.596   Durbin-Watson:                   2.471\n",
      "Prob(Omnibus):                  0.742   Jarque-Bera (JB):                0.733\n",
      "Skew:                          -0.175   Prob(JB):                        0.693\n",
      "Kurtosis:                       2.642   Cond. No.                         253.\n",
      "==============================================================================\n",
      "\n",
      "Warnings:\n",
      "[1] Standard Errors assume that the covariance matrix of the errors is correctly specified.\n"
     ]
    },
    {
     "data": {
      "image/png": "[encoded data removed]",
      "text/plain": [
       "<matplotlib.figure.Figure at 0x11ca4fb50>"
      ]
     },
     "metadata": {},
     "output_type": "display_data"
    }
   ],
   "source": [
    "yearGap = smf.ols(formula = 'sale_price ~ year_gap', data = train).fit()\n",
    "modelEval(yearGap)"
   ]
  },
  {
   "cell_type": "code",
   "execution_count": 20,
   "metadata": {
    "collapsed": false,
    "scrolled": true
   },
   "outputs": [
    {
     "data": {
      "text/html": [
       "<div>\n",
       "<table border=\"1\" class=\"dataframe\">\n",
       "  <thead>\n",
       "    <tr style=\"text-align: right;\">\n",
       "      <th></th>\n",
       "      <th>sale_price</th>\n",
       "      <th>year_gap</th>\n",
       "    </tr>\n",
       "  </thead>\n",
       "  <tbody>\n",
       "    <tr>\n",
       "      <th>sale_price</th>\n",
       "      <td>1.000000</td>\n",
       "      <td>-0.088197</td>\n",
       "    </tr>\n",
       "    <tr>\n",
       "      <th>year_gap</th>\n",
       "      <td>-0.088197</td>\n",
       "      <td>1.000000</td>\n",
       "    </tr>\n",
       "  </tbody>\n",
       "</table>\n",
       "</div>"
      ],
      "text/plain": [
       "            sale_price  year_gap\n",
       "sale_price    1.000000 -0.088197\n",
       "year_gap     -0.088197  1.000000"
      ]
     },
     "execution_count": 20,
     "metadata": {},
     "output_type": "execute_result"
    }
   ],
   "source": [
    "data[['sale_price','year_gap']].corr()"
   ]
  },
  {
   "cell_type": "markdown",
   "metadata": {},
   "source": [
    "### Overall correlation matrix"
   ]
  },
  {
   "cell_type": "code",
   "execution_count": 21,
   "metadata": {
    "collapsed": false
   },
   "outputs": [
    {
     "data": {
      "text/html": [
       "<div>\n",
       "<table border=\"1\" class=\"dataframe\">\n",
       "  <thead>\n",
       "    <tr style=\"text-align: right;\">\n",
       "      <th></th>\n",
       "      <th>residential_units</th>\n",
       "      <th>land_sq_feet</th>\n",
       "      <th>gross_sq_feet</th>\n",
       "      <th>year_built</th>\n",
       "      <th>sale_price</th>\n",
       "      <th>year_gap</th>\n",
       "    </tr>\n",
       "  </thead>\n",
       "  <tbody>\n",
       "    <tr>\n",
       "      <th>residential_units</th>\n",
       "      <td>1.000000</td>\n",
       "      <td>0.226610</td>\n",
       "      <td>0.722857</td>\n",
       "      <td>0.121964</td>\n",
       "      <td>0.357340</td>\n",
       "      <td>-0.132345</td>\n",
       "    </tr>\n",
       "    <tr>\n",
       "      <th>land_sq_feet</th>\n",
       "      <td>0.226610</td>\n",
       "      <td>1.000000</td>\n",
       "      <td>0.415587</td>\n",
       "      <td>0.205548</td>\n",
       "      <td>0.335178</td>\n",
       "      <td>-0.207354</td>\n",
       "    </tr>\n",
       "    <tr>\n",
       "      <th>gross_sq_feet</th>\n",
       "      <td>0.722857</td>\n",
       "      <td>0.415587</td>\n",
       "      <td>1.000000</td>\n",
       "      <td>0.363542</td>\n",
       "      <td>0.464211</td>\n",
       "      <td>-0.363559</td>\n",
       "    </tr>\n",
       "    <tr>\n",
       "      <th>year_built</th>\n",
       "      <td>0.121964</td>\n",
       "      <td>0.205548</td>\n",
       "      <td>0.363542</td>\n",
       "      <td>1.000000</td>\n",
       "      <td>0.123843</td>\n",
       "      <td>-0.991988</td>\n",
       "    </tr>\n",
       "    <tr>\n",
       "      <th>sale_price</th>\n",
       "      <td>0.357340</td>\n",
       "      <td>0.335178</td>\n",
       "      <td>0.464211</td>\n",
       "      <td>0.123843</td>\n",
       "      <td>1.000000</td>\n",
       "      <td>-0.088197</td>\n",
       "    </tr>\n",
       "    <tr>\n",
       "      <th>year_gap</th>\n",
       "      <td>-0.132345</td>\n",
       "      <td>-0.207354</td>\n",
       "      <td>-0.363559</td>\n",
       "      <td>-0.991988</td>\n",
       "      <td>-0.088197</td>\n",
       "      <td>1.000000</td>\n",
       "    </tr>\n",
       "  </tbody>\n",
       "</table>\n",
       "</div>"
      ],
      "text/plain": [
       "                   residential_units  land_sq_feet  gross_sq_feet  year_built  \\\n",
       "residential_units           1.000000      0.226610       0.722857    0.121964   \n",
       "land_sq_feet                0.226610      1.000000       0.415587    0.205548   \n",
       "gross_sq_feet               0.722857      0.415587       1.000000    0.363542   \n",
       "year_built                  0.121964      0.205548       0.363542    1.000000   \n",
       "sale_price                  0.357340      0.335178       0.464211    0.123843   \n",
       "year_gap                   -0.132345     -0.207354      -0.363559   -0.991988   \n",
       "\n",
       "                   sale_price  year_gap  \n",
       "residential_units    0.357340 -0.132345  \n",
       "land_sq_feet         0.335178 -0.207354  \n",
       "gross_sq_feet        0.464211 -0.363559  \n",
       "year_built           0.123843 -0.991988  \n",
       "sale_price           1.000000 -0.088197  \n",
       "year_gap            -0.088197  1.000000  "
      ]
     },
     "execution_count": 21,
     "metadata": {},
     "output_type": "execute_result"
    }
   ],
   "source": [
    "data.iloc[:,1:].corr()"
   ]
  },
  {
   "cell_type": "code",
   "execution_count": null,
   "metadata": {
    "collapsed": true
   },
   "outputs": [],
   "source": []
  },
  {
   "cell_type": "code",
   "execution_count": 22,
   "metadata": {
    "collapsed": true
   },
   "outputs": [],
   "source": [
    "# Q4. What does this 95% confidence interval tell you?\n",
    "    # Can you change it to 90% and compute the interval? Or any other given probability?"
   ]
  },
  {
   "cell_type": "markdown",
   "metadata": {},
   "source": [
    "### Method 1, use conf_int instance"
   ]
  },
  {
   "cell_type": "code",
   "execution_count": 23,
   "metadata": {
    "collapsed": false
   },
   "outputs": [
    {
     "data": {
      "text/html": [
       "<div>\n",
       "<table border=\"1\" class=\"dataframe\">\n",
       "  <thead>\n",
       "    <tr style=\"text-align: right;\">\n",
       "      <th></th>\n",
       "      <th>0</th>\n",
       "      <th>1</th>\n",
       "    </tr>\n",
       "  </thead>\n",
       "  <tbody>\n",
       "    <tr>\n",
       "      <th>gross_sq_feet</th>\n",
       "      <td>27.46729</td>\n",
       "      <td>132.930723</td>\n",
       "    </tr>\n",
       "  </tbody>\n",
       "</table>\n",
       "</div>"
      ],
      "text/plain": [
       "                      0           1\n",
       "gross_sq_feet  27.46729  132.930723"
      ]
     },
     "execution_count": 23,
     "metadata": {},
     "output_type": "execute_result"
    }
   ],
   "source": [
    "grossArea.conf_int().ix[[-1]] # default setting alpha = 0.05, e.g. 95% CI"
   ]
  },
  {
   "cell_type": "code",
   "execution_count": 24,
   "metadata": {
    "collapsed": false
   },
   "outputs": [
    {
     "data": {
      "text/html": [
       "<div>\n",
       "<table border=\"1\" class=\"dataframe\">\n",
       "  <thead>\n",
       "    <tr style=\"text-align: right;\">\n",
       "      <th></th>\n",
       "      <th>0</th>\n",
       "      <th>1</th>\n",
       "    </tr>\n",
       "  </thead>\n",
       "  <tbody>\n",
       "    <tr>\n",
       "      <th>gross_sq_feet</th>\n",
       "      <td>36.132197</td>\n",
       "      <td>124.265816</td>\n",
       "    </tr>\n",
       "  </tbody>\n",
       "</table>\n",
       "</div>"
      ],
      "text/plain": [
       "                       0           1\n",
       "gross_sq_feet  36.132197  124.265816"
      ]
     },
     "execution_count": 24,
     "metadata": {},
     "output_type": "execute_result"
    }
   ],
   "source": [
    "grossArea.conf_int(alpha = 0.1).ix[[-1]] # Note this always returns two-sided CI"
   ]
  },
  {
   "cell_type": "markdown",
   "metadata": {},
   "source": [
    "### Method 2, calculate the CI manually--especially useful for one-sided CI"
   ]
  },
  {
   "cell_type": "code",
   "execution_count": 47,
   "metadata": {
    "collapsed": false
   },
   "outputs": [
    {
     "data": {
      "text/plain": [
       "<matplotlib.text.Text at 0x11c9ef450>"
      ]
     },
     "execution_count": 47,
     "metadata": {},
     "output_type": "execute_result"
    },
    {
     "data": {
      "image/png": "[encoded data removed]",
      "text/plain": [
       "<matplotlib.figure.Figure at 0x10c9b7390>"
      ]
     },
     "metadata": {},
     "output_type": "display_data"
    }
   ],
   "source": [
    "# First introduce t distribution\n",
    "df = 20    # degree of freedom\n",
    "q = 0.3\n",
    "x = np.arange(-5,5,0.01)\n",
    "y = t.pdf(x, df)\n",
    "t0 = t.isf(q, df)   # calculate the percentile/partition point\n",
    "ax = plt.figure(figsize=(14,5)).add_subplot(111)\n",
    "ax.fill_between(x[x<t0], 0, y[x<t0], facecolor = 'gold')\n",
    "ax.fill_between(x[x>t0], 0, y[x>t0], facecolor = 'g')\n",
    "ax.text(t0+0.1,0.06,'$SF(t_0) = P(T>t_0)$', fontsize = 24)\n",
    "ax.text(t0-3.5,0.06,'$CDF(t_0) = P(T\\leq t_0)$', fontsize = 24)\n",
    "ax.text(t0-1, 0.12, '%.0f%%'%(100*(1-q)), fontsize = 24)\n",
    "ax.text(t0+0.1,0.12, '%.0f%%'%(100*q), fontsize = 24)\n",
    "ax.text(t0-0.1, -0.03, '$t_0$', fontsize = 22)"
   ]
  },
  {
   "cell_type": "code",
   "execution_count": 26,
   "metadata": {
    "collapsed": false
   },
   "outputs": [
    {
     "name": "stdout",
     "output_type": "stream",
     "text": [
      "[36.132197,124.265816]\n"
     ]
    }
   ],
   "source": [
    "# Now let's compute our 90% CI\n",
    "key = 'gross_sq_feet'\n",
    "\n",
    "# One-sided CI, p = 0.9 or q = 1-0.9\n",
    "    # lower intervel, t.isf(q) or t.ppf(p)\n",
    "    # upper interval, t.ppf(q) or t.isf(p)\n",
    "# Two-sided CI, both side, then:\n",
    "q = (1-0.9)/2\n",
    "lowerBound = t.ppf(q, grossArea.df_resid) * grossArea.bse[key] + grossArea.params[key]\n",
    "upperBound = t.isf(q, grossArea.df_resid) * grossArea.bse[key] + grossArea.params[key]\n",
    "print('[%f,%f]'%(lowerBound,upperBound))"
   ]
  },
  {
   "cell_type": "code",
   "execution_count": 27,
   "metadata": {
    "collapsed": false
   },
   "outputs": [
    {
     "data": {
      "text/html": [
       "<div>\n",
       "<table border=\"1\" class=\"dataframe\">\n",
       "  <thead>\n",
       "    <tr style=\"text-align: right;\">\n",
       "      <th></th>\n",
       "      <th>0</th>\n",
       "      <th>1</th>\n",
       "    </tr>\n",
       "  </thead>\n",
       "  <tbody>\n",
       "    <tr>\n",
       "      <th>gross_sq_feet</th>\n",
       "      <td>36.132197</td>\n",
       "      <td>124.265816</td>\n",
       "    </tr>\n",
       "  </tbody>\n",
       "</table>\n",
       "</div>"
      ],
      "text/plain": [
       "                       0           1\n",
       "gross_sq_feet  36.132197  124.265816"
      ]
     },
     "execution_count": 27,
     "metadata": {},
     "output_type": "execute_result"
    }
   ],
   "source": [
    "# Compare with the result before\n",
    "grossArea.conf_int(alpha = 0.1).ix[[1]]"
   ]
  },
  {
   "cell_type": "code",
   "execution_count": 28,
   "metadata": {
    "collapsed": true
   },
   "outputs": [],
   "source": [
    "# Q5. Next we do it reversely, suppose you are given the \"average price per square foot\" p0\n",
    "    # What is the probability that a real avg. price per sq. foot is higher/lower than p0?\n",
    "    # Compute this probability if p0 = $50."
   ]
  },
  {
   "cell_type": "code",
   "execution_count": 29,
   "metadata": {
    "collapsed": false
   },
   "outputs": [
    {
     "data": {
      "text/plain": [
       "0.12856711429386841"
      ]
     },
     "execution_count": 29,
     "metadata": {},
     "output_type": "execute_result"
    }
   ],
   "source": [
    "# Lower than 50:\n",
    "t.cdf((50 - grossArea.params[key])/grossArea.bse[key], grossArea.df_resid)"
   ]
  },
  {
   "cell_type": "code",
   "execution_count": 30,
   "metadata": {
    "collapsed": false
   },
   "outputs": [
    {
     "data": {
      "text/plain": [
       "0.87143288570613153"
      ]
     },
     "execution_count": 30,
     "metadata": {},
     "output_type": "execute_result"
    }
   ],
   "source": [
    "# Higher than 50:\n",
    "# Or simply subtract previous result from 1\n",
    "t.sf((50 - grossArea.params[key])/grossArea.bse[key], grossArea.df_resid)"
   ]
  },
  {
   "cell_type": "code",
   "execution_count": null,
   "metadata": {
    "collapsed": true
   },
   "outputs": [],
   "source": []
  },
  {
   "cell_type": "markdown",
   "metadata": {},
   "source": [
    "# Example 2.\n",
    "### Multivariate regression with housing price data"
   ]
  },
  {
   "cell_type": "code",
   "execution_count": 31,
   "metadata": {
    "collapsed": true
   },
   "outputs": [],
   "source": [
    "# Q1. Use the same dataset as Example 1, same training set and validation set\n",
    "# Q2. Now regress the sale price over the following ALTOGETHER\n",
    "    # residential_units\n",
    "    # land_sq_feet\n",
    "    # gross_sq_feet\n",
    "    # year_gap\n",
    "# Q3. How does our model look like?\n",
    "    # Observe how p-values and confidence intervals changed compared to Example 1.\n",
    "# Q4. Simply remove the features with high p-value then re-run the regression, what happens?\n",
    "# Q5. What if we just randomly remove a feature regardless of its p-value? Experiment!\n",
    "    # -- What happened to the coefficients as well as the other statistics of EACH feature?\n",
    "    # -- Which model gives the highest validation R-squared?"
   ]
  },
  {
   "cell_type": "code",
   "execution_count": 32,
   "metadata": {
    "collapsed": false
   },
   "outputs": [
    {
     "name": "stdout",
     "output_type": "stream",
     "text": [
      "Validation R^2 is 0.559356\n",
      "                            OLS Regression Results                            \n",
      "==============================================================================\n",
      "Dep. Variable:             sale_price   R-squared:                       0.156\n",
      "Model:                            OLS   Adj. R-squared:                  0.104\n",
      "Method:                 Least Squares   F-statistic:                     2.997\n",
      "Date:                Sat, 01 Oct 2016   Prob (F-statistic):             0.0247\n",
      "Time:                        10:55:15   Log-Likelihood:                -948.16\n",
      "No. Observations:                  70   AIC:                             1906.\n",
      "Df Residuals:                      65   BIC:                             1918.\n",
      "Df Model:                           4                                         \n",
      "Covariance Type:            nonrobust                                         \n",
      "=====================================================================================\n",
      "                        coef    std err          t      P>|t|      [95.0% Conf. Int.]\n",
      "-------------------------------------------------------------------------------------\n",
      "Intercept          2.175e+05   1.54e+05      1.412      0.163     -9.01e+04  5.25e+05\n",
      "land_sq_feet         54.7245     37.621      1.455      0.151       -20.409   129.858\n",
      "gross_sq_feet        83.5590     40.135      2.082      0.041         3.403   163.715\n",
      "residential_units -2860.9559   3.22e+04     -0.089      0.929     -6.71e+04  6.14e+04\n",
      "year_gap           1089.0144   1103.970      0.986      0.328     -1115.765  3293.794\n",
      "==============================================================================\n",
      "Omnibus:                        8.953   Durbin-Watson:                   2.453\n",
      "Prob(Omnibus):                  0.011   Jarque-Bera (JB):                8.482\n",
      "Skew:                          -0.780   Prob(JB):                       0.0144\n",
      "Kurtosis:                       3.690   Cond. No.                     2.42e+04\n",
      "==============================================================================\n",
      "\n",
      "Warnings:\n",
      "[1] Standard Errors assume that the covariance matrix of the errors is correctly specified.\n",
      "[2] The condition number is large, 2.42e+04. This might indicate that there are\n",
      "strong multicollinearity or other numerical problems.\n"
     ]
    },
    {
     "data": {
      "image/png": "[encoded data removed]",
      "text/plain": [
       "<matplotlib.figure.Figure at 0x11ca4f6d0>"
      ]
     },
     "metadata": {},
     "output_type": "display_data"
    }
   ],
   "source": [
    "multi0 = smf.ols(formula = 'sale_price ~ land_sq_feet + gross_sq_feet\\\n",
    "            + residential_units + year_gap', data = train).fit()\n",
    "modelEval(multi0)"
   ]
  },
  {
   "cell_type": "markdown",
   "metadata": {},
   "source": [
    "## In this summary table we can see that the coefficients are implying:\n",
    "* Avg. Base price   \\$21,750\n",
    "* Avg. Price per Sq.Foot (land)  \\$54.7245\n",
    "* Ave. Price per Sq.Foot (gross) \\$83.5590\n",
    "* Avg. Additional Price per Residential Units \\$-2860.9559\n",
    "* Avg. Additional Price per Year Gap \\$1089.0144\n",
    "\n",
    "### So the older the house, the higher the price. Do you believe this?"
   ]
  },
  {
   "cell_type": "markdown",
   "metadata": {},
   "source": [
    "### Experiment 1. Drop the \"year_gap\":"
   ]
  },
  {
   "cell_type": "code",
   "execution_count": 33,
   "metadata": {
    "collapsed": false
   },
   "outputs": [
    {
     "name": "stdout",
     "output_type": "stream",
     "text": [
      "Validation R^2 is 0.600341\n",
      "                            OLS Regression Results                            \n",
      "==============================================================================\n",
      "Dep. Variable:             sale_price   R-squared:                       0.143\n",
      "Model:                            OLS   Adj. R-squared:                  0.104\n",
      "Method:                 Least Squares   F-statistic:                     3.673\n",
      "Date:                Sat, 01 Oct 2016   Prob (F-statistic):             0.0164\n",
      "Time:                        10:55:15   Log-Likelihood:                -948.68\n",
      "No. Observations:                  70   AIC:                             1905.\n",
      "Df Residuals:                      66   BIC:                             1914.\n",
      "Df Model:                           3                                         \n",
      "Covariance Type:            nonrobust                                         \n",
      "=====================================================================================\n",
      "                        coef    std err          t      P>|t|      [95.0% Conf. Int.]\n",
      "-------------------------------------------------------------------------------------\n",
      "Intercept          3.323e+05   1.01e+05      3.294      0.002      1.31e+05  5.34e+05\n",
      "land_sq_feet         50.4092     37.358      1.349      0.182       -24.178   124.996\n",
      "gross_sq_feet        68.4864     37.105      1.846      0.069        -5.597   142.570\n",
      "residential_units  2960.9574   3.16e+04      0.094      0.926     -6.02e+04  6.61e+04\n",
      "==============================================================================\n",
      "Omnibus:                        6.270   Durbin-Watson:                   2.514\n",
      "Prob(Omnibus):                  0.043   Jarque-Bera (JB):                5.531\n",
      "Skew:                          -0.658   Prob(JB):                       0.0629\n",
      "Kurtosis:                       3.404   Cond. No.                     1.58e+04\n",
      "==============================================================================\n",
      "\n",
      "Warnings:\n",
      "[1] Standard Errors assume that the covariance matrix of the errors is correctly specified.\n",
      "[2] The condition number is large, 1.58e+04. This might indicate that there are\n",
      "strong multicollinearity or other numerical problems.\n"
     ]
    },
    {
     "data": {
      "image/png": "[encoded data removed]",
      "text/plain": [
       "<matplotlib.figure.Figure at 0x11d15c150>"
      ]
     },
     "metadata": {},
     "output_type": "display_data"
    }
   ],
   "source": [
    "multi1 = smf.ols(formula = 'sale_price ~ land_sq_feet + gross_sq_feet\\\n",
    "            + residential_units', data = train).fit()\n",
    "modelEval(multi1)"
   ]
  },
  {
   "cell_type": "markdown",
   "metadata": {},
   "source": [
    "### Observations:\n",
    "* Validation $R^2$ increases\n",
    "* The coefficient of Residential Units flipped the sign"
   ]
  },
  {
   "cell_type": "markdown",
   "metadata": {},
   "source": [
    "### Experiment 2, drop the feature \"residential_units\"\n",
    "(Validation $R^2$ drops slightly but still higher than original model)"
   ]
  },
  {
   "cell_type": "code",
   "execution_count": 34,
   "metadata": {
    "collapsed": false
   },
   "outputs": [
    {
     "name": "stdout",
     "output_type": "stream",
     "text": [
      "Validation R^2 is 0.593962\n",
      "                            OLS Regression Results                            \n",
      "==============================================================================\n",
      "Dep. Variable:             sale_price   R-squared:                       0.143\n",
      "Model:                            OLS   Adj. R-squared:                  0.117\n",
      "Method:                 Least Squares   F-statistic:                     5.588\n",
      "Date:                Sat, 01 Oct 2016   Prob (F-statistic):            0.00569\n",
      "Time:                        10:55:16   Log-Likelihood:                -948.68\n",
      "No. Observations:                  70   AIC:                             1903.\n",
      "Df Residuals:                      67   BIC:                             1910.\n",
      "Df Model:                           2                                         \n",
      "Covariance Type:            nonrobust                                         \n",
      "=================================================================================\n",
      "                    coef    std err          t      P>|t|      [95.0% Conf. Int.]\n",
      "---------------------------------------------------------------------------------\n",
      "Intercept       3.33e+05   9.99e+04      3.332      0.001      1.34e+05  5.32e+05\n",
      "land_sq_feet     50.4468     37.078      1.361      0.178       -23.562   124.455\n",
      "gross_sq_feet    70.8338     27.149      2.609      0.011        16.644   125.023\n",
      "==============================================================================\n",
      "Omnibus:                        6.364   Durbin-Watson:                   2.516\n",
      "Prob(Omnibus):                  0.042   Jarque-Bera (JB):                5.630\n",
      "Skew:                          -0.664   Prob(JB):                       0.0599\n",
      "Kurtosis:                       3.410   Cond. No.                     1.58e+04\n",
      "==============================================================================\n",
      "\n",
      "Warnings:\n",
      "[1] Standard Errors assume that the covariance matrix of the errors is correctly specified.\n",
      "[2] The condition number is large, 1.58e+04. This might indicate that there are\n",
      "strong multicollinearity or other numerical problems.\n"
     ]
    },
    {
     "data": {
      "image/png": "[encoded data removed]",
      "text/plain": [
       "<matplotlib.figure.Figure at 0x11cd27dd0>"
      ]
     },
     "metadata": {},
     "output_type": "display_data"
    }
   ],
   "source": [
    "multi2 = smf.ols(formula = 'sale_price ~ land_sq_feet + gross_sq_feet', data = train).fit()\n",
    "modelEval(multi2)"
   ]
  },
  {
   "cell_type": "code",
   "execution_count": null,
   "metadata": {
    "collapsed": true
   },
   "outputs": [],
   "source": []
  },
  {
   "cell_type": "markdown",
   "metadata": {},
   "source": [
    "# Example 3\n",
    "### Feature selection based on maximizing validation $R^2$, rather than p-values"
   ]
  },
  {
   "cell_type": "markdown",
   "metadata": {
    "collapsed": true
   },
   "source": [
    "### Please ignore this cell as it was for experiment purpose only and will be deleted soon\n",
    "possSeed = [32, 42, 44, 59, 130, 216, 228, 280, 298, 427, 454, 473,\n",
    "            483, 512, 537, 629, 906, 1149, 1215, 1239, 1289, 1417,\n",
    "            1418, 1422, 1491, 1541, 1889, 1950, 1992, 2022, 2082,\n",
    "            2110, 2155, 2201, 2208, 2239, 2248, 2272, 2325, 2350,\n",
    "            2355, 2384, 2387, 2389, 2483, 2489]"
   ]
  },
  {
   "cell_type": "code",
   "execution_count": 35,
   "metadata": {
    "collapsed": true
   },
   "outputs": [],
   "source": [
    "n = 15\n",
    "random.seed(32)\n",
    "\n",
    "col = []\n",
    "for i in range(n):\n",
    "    col.append('x%d'%(i+1))\n",
    "\n",
    "X = pd.DataFrame(np.random.randn(50*n).reshape(50,n))\n",
    "Y = X.ix[:,:3].sum(axis = 1) + np.random.randn(50)\n",
    "data3 = pd.concat((Y,X), axis = 1)\n",
    "data3.columns = ['Y'] + col"
   ]
  },
  {
   "cell_type": "markdown",
   "metadata": {},
   "source": [
    "The regular $R^2$:\n",
    "$$\n",
    "R^2=1-\\frac{RSS}{\\sum\\limits_i (y_i-\\bar{y})^2}=\\frac{\\sum\\limits_i (\\hat{y}_i-\\bar{y})^2}{\\sum\\limits_i (y_i-\\bar{y})^2},\n",
    "$$\n",
    "The adjusted $R^2$:\n",
    "$$\n",
    "adj.R^2=1-\\frac{RSS}{\\sum\\limits_i (y_i-\\overline{y})^2} \\cdot \\frac{N-1}{N-P-1} \n",
    "$$\n",
    "where $N$ is the total sample size and $P$ is the number of features/selected variables"
   ]
  },
  {
   "cell_type": "code",
   "execution_count": 36,
   "metadata": {
    "collapsed": false
   },
   "outputs": [],
   "source": [
    "# The regression function based on the feature selection\n",
    "def Regress(mask):\n",
    "    '''Evalute the model with adjusted R-squared'''\n",
    "    formstr='Y~-1'\n",
    "    for i in range(len(mask)):\n",
    "        if mask[i]==1:\n",
    "            formstr += '+x%d'%(i+1)\n",
    "\n",
    "    train = data3[:20]\n",
    "    valid = data3[20:]\n",
    "    lm = smf.ols(formula = formstr, data = train).fit()\n",
    "    lmy = lm.predict(valid)\n",
    "    y_err = lmy-valid.Y\n",
    "    y_norm = valid.Y-mean(valid.Y)\n",
    "    # Adjusted R^2\n",
    "    R2 = 1 - y_err.dot(y_err) / y_norm.dot(y_norm) * (n-1) / (n-sum(mask)-1)\n",
    "    return (R2,lm)"
   ]
  },
  {
   "cell_type": "markdown",
   "metadata": {},
   "source": [
    "### Revisit the overfitting:"
   ]
  },
  {
   "cell_type": "code",
   "execution_count": 37,
   "metadata": {
    "collapsed": false
   },
   "outputs": [],
   "source": [
    "adjR2 = []\n",
    "regR2 = []\n",
    "for i in range(1, n):\n",
    "    a,b = Regress([1]*i + [0]*(n-i))\n",
    "    adjR2.append(a)\n",
    "    regR2.append(b.rsquared)"
   ]
  },
  {
   "cell_type": "code",
   "execution_count": 38,
   "metadata": {
    "collapsed": false
   },
   "outputs": [
    {
     "data": {
      "text/plain": [
       "[<matplotlib.lines.Line2D at 0x119f95950>]"
      ]
     },
     "execution_count": 38,
     "metadata": {},
     "output_type": "execute_result"
    },
    {
     "data": {
      "image/png": "[encoded data removed]",
      "text/plain": [
       "<matplotlib.figure.Figure at 0x11ca22750>"
      ]
     },
     "metadata": {},
     "output_type": "display_data"
    }
   ],
   "source": [
    "# In sample R2\n",
    "plt.plot(range(1, n), regR2, 'b-o', markersize = 8)"
   ]
  },
  {
   "cell_type": "code",
   "execution_count": 39,
   "metadata": {
    "collapsed": false
   },
   "outputs": [
    {
     "data": {
      "text/plain": [
       "[<matplotlib.lines.Line2D at 0x11a115050>]"
      ]
     },
     "execution_count": 39,
     "metadata": {},
     "output_type": "execute_result"
    },
    {
     "data": {
      "image/png": "[encoded data removed]",
      "text/plain": [
       "<matplotlib.figure.Figure at 0x11a10e8d0>"
      ]
     },
     "metadata": {},
     "output_type": "display_data"
    }
   ],
   "source": [
    "# Out of sample R2 (adjusted)\n",
    "plt.plot(range(1, n), adjR2, 'r-o', markersize = 8)"
   ]
  },
  {
   "cell_type": "code",
   "execution_count": 40,
   "metadata": {
    "collapsed": true
   },
   "outputs": [],
   "source": [
    "# Feature selection based on the p-values\n",
    "def DropP(threshold = 1):\n",
    "    '''Drop all features with p-values higher than the threshold'''\n",
    "    mask_p = (Regress([1]*n)[1]).pvalues < threshold\n",
    "    print('Validation R^2 is %f'%Regress(mask_p)[0])\n",
    "    print(Regress(mask_p)[1].summary())"
   ]
  },
  {
   "cell_type": "markdown",
   "metadata": {},
   "source": [
    "### First of all, let's try to include all features and observe their p-values\n",
    "Note that if we include them all, we have a nagative one (n-n-1) in the denominator, \n",
    "$$\n",
    "adj.R^2=1-\\frac{RSS}{\\sum\\limits_i (y_i-\\overline{y})^2} \\cdot \\frac{N-1}{N-P-1} \n",
    "$$\n",
    "which simply flips the sign of the second term of the right hand side, making the adjusted $R^2$ ridiculously high"
   ]
  },
  {
   "cell_type": "code",
   "execution_count": 41,
   "metadata": {
    "collapsed": false
   },
   "outputs": [
    {
     "name": "stdout",
     "output_type": "stream",
     "text": [
      "Validation R^2 is 7.793794\n",
      "                            OLS Regression Results                            \n",
      "==============================================================================\n",
      "Dep. Variable:                      Y   R-squared:                       0.961\n",
      "Model:                            OLS   Adj. R-squared:                  0.845\n",
      "Method:                 Least Squares   F-statistic:                     8.296\n",
      "Date:                Sat, 01 Oct 2016   Prob (F-statistic):             0.0143\n",
      "Time:                        10:55:17   Log-Likelihood:                -15.171\n",
      "No. Observations:                  20   AIC:                             60.34\n",
      "Df Residuals:                       5   BIC:                             75.28\n",
      "Df Model:                          15                                         \n",
      "Covariance Type:            nonrobust                                         \n",
      "==============================================================================\n",
      "                 coef    std err          t      P>|t|      [95.0% Conf. Int.]\n",
      "------------------------------------------------------------------------------\n",
      "x1             0.7154      0.684      1.047      0.343        -1.042     2.473\n",
      "x2             1.0486      0.657      1.595      0.172        -0.641     2.738\n",
      "x3             1.2159      0.317      3.838      0.012         0.401     2.030\n",
      "x4             1.4736      0.461      3.200      0.024         0.290     2.658\n",
      "x5             0.3263      0.433      0.754      0.485        -0.786     1.439\n",
      "x6             0.3009      1.046      0.288      0.785        -2.388     2.990\n",
      "x7            -0.1183      0.297     -0.399      0.706        -0.881     0.644\n",
      "x8            -0.8579      0.810     -1.059      0.338        -2.941     1.225\n",
      "x9            -0.2472      0.583     -0.424      0.689        -1.746     1.252\n",
      "x10           -0.4664      0.358     -1.304      0.249        -1.386     0.453\n",
      "x11           -0.0646      0.390     -0.166      0.875        -1.068     0.938\n",
      "x12            0.0825      0.331      0.250      0.813        -0.767     0.932\n",
      "x13           -0.4742      0.351     -1.350      0.235        -1.377     0.429\n",
      "x14            0.0620      0.964      0.064      0.951        -2.416     2.540\n",
      "x15           -0.2138      0.677     -0.316      0.765        -1.955     1.527\n",
      "==============================================================================\n",
      "Omnibus:                        0.396   Durbin-Watson:                   1.853\n",
      "Prob(Omnibus):                  0.820   Jarque-Bera (JB):                0.215\n",
      "Skew:                           0.233   Prob(JB):                        0.898\n",
      "Kurtosis:                       2.799   Cond. No.                         12.8\n",
      "==============================================================================\n",
      "\n",
      "Warnings:\n",
      "[1] Standard Errors assume that the covariance matrix of the errors is correctly specified.\n"
     ]
    }
   ],
   "source": [
    "DropP(1)"
   ]
  },
  {
   "cell_type": "markdown",
   "metadata": {},
   "source": [
    "### If we remove variables based on their p-value (if > 0.2), then we'll keep $x_2,x_3,x_4$, and the model's out of sample $R^2$ is 0.251312"
   ]
  },
  {
   "cell_type": "code",
   "execution_count": 42,
   "metadata": {
    "collapsed": false
   },
   "outputs": [
    {
     "name": "stdout",
     "output_type": "stream",
     "text": [
      "Validation R^2 is 0.251312\n",
      "                            OLS Regression Results                            \n",
      "==============================================================================\n",
      "Dep. Variable:                      Y   R-squared:                       0.720\n",
      "Model:                            OLS   Adj. R-squared:                  0.671\n",
      "Method:                 Least Squares   F-statistic:                     14.58\n",
      "Date:                Sat, 01 Oct 2016   Prob (F-statistic):           5.93e-05\n",
      "Time:                        10:55:17   Log-Likelihood:                -34.977\n",
      "No. Observations:                  20   AIC:                             75.95\n",
      "Df Residuals:                      17   BIC:                             78.94\n",
      "Df Model:                           3                                         \n",
      "Covariance Type:            nonrobust                                         \n",
      "==============================================================================\n",
      "                 coef    std err          t      P>|t|      [95.0% Conf. Int.]\n",
      "------------------------------------------------------------------------------\n",
      "x2             0.9169      0.395      2.321      0.033         0.083     1.751\n",
      "x3             0.9276      0.312      2.971      0.009         0.269     1.586\n",
      "x4             1.1622      0.411      2.830      0.012         0.296     2.029\n",
      "==============================================================================\n",
      "Omnibus:                        1.656   Durbin-Watson:                   1.950\n",
      "Prob(Omnibus):                  0.437   Jarque-Bera (JB):                0.423\n",
      "Skew:                           0.219   Prob(JB):                        0.809\n",
      "Kurtosis:                       3.561   Cond. No.                         2.08\n",
      "==============================================================================\n",
      "\n",
      "Warnings:\n",
      "[1] Standard Errors assume that the covariance matrix of the errors is correctly specified.\n"
     ]
    }
   ],
   "source": [
    "DropP(0.2)"
   ]
  },
  {
   "cell_type": "markdown",
   "metadata": {},
   "source": [
    "### Next we try to select feature in a fashion that maximizing validation adjusted $R^2$"
   ]
  },
  {
   "cell_type": "code",
   "execution_count": 43,
   "metadata": {
    "collapsed": false
   },
   "outputs": [
    {
     "data": {
      "text/html": [
       "\n",
       "        <style  type=\"text/css\" >\n",
       "        \n",
       "        \n",
       "            #T_118cc9f0_87e7_11e6_9994_c82a142856adrow0_col0 {\n",
       "            \n",
       "                background-color:  forestgreen;\n",
       "            \n",
       "            }\n",
       "        \n",
       "            #T_118cc9f0_87e7_11e6_9994_c82a142856adrow0_col1 {\n",
       "            \n",
       "                width:  10em;\n",
       "            \n",
       "                 height:  80%;\n",
       "            \n",
       "                background:  linear-gradient(90deg,forestgreen 35.2534927631%, transparent 0%);\n",
       "            \n",
       "            }\n",
       "        \n",
       "            #T_118cc9f0_87e7_11e6_9994_c82a142856adrow1_col0 {\n",
       "            \n",
       "                background-color:  forestgreen;\n",
       "            \n",
       "            }\n",
       "        \n",
       "            #T_118cc9f0_87e7_11e6_9994_c82a142856adrow1_col1 {\n",
       "            \n",
       "                width:  10em;\n",
       "            \n",
       "                 height:  80%;\n",
       "            \n",
       "                background:  linear-gradient(90deg,forestgreen 16.9743565377%, transparent 0%);\n",
       "            \n",
       "            }\n",
       "        \n",
       "            #T_118cc9f0_87e7_11e6_9994_c82a142856adrow2_col0 {\n",
       "            \n",
       "                background-color:  forestgreen;\n",
       "            \n",
       "            }\n",
       "        \n",
       "            #T_118cc9f0_87e7_11e6_9994_c82a142856adrow2_col1 {\n",
       "            \n",
       "                width:  10em;\n",
       "            \n",
       "                 height:  80%;\n",
       "            \n",
       "            }\n",
       "        \n",
       "            #T_118cc9f0_87e7_11e6_9994_c82a142856adrow3_col0 {\n",
       "            \n",
       "                background-color:  white;\n",
       "            \n",
       "            }\n",
       "        \n",
       "            #T_118cc9f0_87e7_11e6_9994_c82a142856adrow3_col1 {\n",
       "            \n",
       "                width:  10em;\n",
       "            \n",
       "                 height:  80%;\n",
       "            \n",
       "                background:  linear-gradient(90deg,forestgreen 1.2626470805%, transparent 0%);\n",
       "            \n",
       "            }\n",
       "        \n",
       "            #T_118cc9f0_87e7_11e6_9994_c82a142856adrow4_col0 {\n",
       "            \n",
       "                background-color:  white;\n",
       "            \n",
       "            }\n",
       "        \n",
       "            #T_118cc9f0_87e7_11e6_9994_c82a142856adrow4_col1 {\n",
       "            \n",
       "                width:  10em;\n",
       "            \n",
       "                 height:  80%;\n",
       "            \n",
       "                background:  linear-gradient(90deg,forestgreen 50.3459392114%, transparent 0%);\n",
       "            \n",
       "            }\n",
       "        \n",
       "            #T_118cc9f0_87e7_11e6_9994_c82a142856adrow5_col0 {\n",
       "            \n",
       "                background-color:  white;\n",
       "            \n",
       "            }\n",
       "        \n",
       "            #T_118cc9f0_87e7_11e6_9994_c82a142856adrow5_col1 {\n",
       "            \n",
       "                width:  10em;\n",
       "            \n",
       "                 height:  80%;\n",
       "            \n",
       "                background:  linear-gradient(90deg,forestgreen 82.3142470624%, transparent 0%);\n",
       "            \n",
       "            }\n",
       "        \n",
       "            #T_118cc9f0_87e7_11e6_9994_c82a142856adrow6_col0 {\n",
       "            \n",
       "                background-color:  white;\n",
       "            \n",
       "            }\n",
       "        \n",
       "            #T_118cc9f0_87e7_11e6_9994_c82a142856adrow6_col1 {\n",
       "            \n",
       "                width:  10em;\n",
       "            \n",
       "                 height:  80%;\n",
       "            \n",
       "                background:  linear-gradient(90deg,forestgreen 73.9309620587%, transparent 0%);\n",
       "            \n",
       "            }\n",
       "        \n",
       "            #T_118cc9f0_87e7_11e6_9994_c82a142856adrow7_col0 {\n",
       "            \n",
       "                background-color:  white;\n",
       "            \n",
       "            }\n",
       "        \n",
       "            #T_118cc9f0_87e7_11e6_9994_c82a142856adrow7_col1 {\n",
       "            \n",
       "                width:  10em;\n",
       "            \n",
       "                 height:  80%;\n",
       "            \n",
       "                background:  linear-gradient(90deg,forestgreen 34.7119700061%, transparent 0%);\n",
       "            \n",
       "            }\n",
       "        \n",
       "            #T_118cc9f0_87e7_11e6_9994_c82a142856adrow8_col0 {\n",
       "            \n",
       "                background-color:  white;\n",
       "            \n",
       "            }\n",
       "        \n",
       "            #T_118cc9f0_87e7_11e6_9994_c82a142856adrow8_col1 {\n",
       "            \n",
       "                width:  10em;\n",
       "            \n",
       "                 height:  80%;\n",
       "            \n",
       "                background:  linear-gradient(90deg,forestgreen 72.0977855839%, transparent 0%);\n",
       "            \n",
       "            }\n",
       "        \n",
       "            #T_118cc9f0_87e7_11e6_9994_c82a142856adrow9_col0 {\n",
       "            \n",
       "                background-color:  white;\n",
       "            \n",
       "            }\n",
       "        \n",
       "            #T_118cc9f0_87e7_11e6_9994_c82a142856adrow9_col1 {\n",
       "            \n",
       "                width:  10em;\n",
       "            \n",
       "                 height:  80%;\n",
       "            \n",
       "                background:  linear-gradient(90deg,forestgreen 25.2270126593%, transparent 0%);\n",
       "            \n",
       "            }\n",
       "        \n",
       "            #T_118cc9f0_87e7_11e6_9994_c82a142856adrow10_col0 {\n",
       "            \n",
       "                background-color:  white;\n",
       "            \n",
       "            }\n",
       "        \n",
       "            #T_118cc9f0_87e7_11e6_9994_c82a142856adrow10_col1 {\n",
       "            \n",
       "                width:  10em;\n",
       "            \n",
       "                 height:  80%;\n",
       "            \n",
       "                background:  linear-gradient(90deg,forestgreen 91.8869314011%, transparent 0%);\n",
       "            \n",
       "            }\n",
       "        \n",
       "            #T_118cc9f0_87e7_11e6_9994_c82a142856adrow11_col0 {\n",
       "            \n",
       "                background-color:  white;\n",
       "            \n",
       "            }\n",
       "        \n",
       "            #T_118cc9f0_87e7_11e6_9994_c82a142856adrow11_col1 {\n",
       "            \n",
       "                width:  10em;\n",
       "            \n",
       "                 height:  80%;\n",
       "            \n",
       "                background:  linear-gradient(90deg,forestgreen 85.2688939506%, transparent 0%);\n",
       "            \n",
       "            }\n",
       "        \n",
       "            #T_118cc9f0_87e7_11e6_9994_c82a142856adrow12_col0 {\n",
       "            \n",
       "                background-color:  white;\n",
       "            \n",
       "            }\n",
       "        \n",
       "            #T_118cc9f0_87e7_11e6_9994_c82a142856adrow12_col1 {\n",
       "            \n",
       "                width:  10em;\n",
       "            \n",
       "                 height:  80%;\n",
       "            \n",
       "                background:  linear-gradient(90deg,forestgreen 23.7324972438%, transparent 0%);\n",
       "            \n",
       "            }\n",
       "        \n",
       "            #T_118cc9f0_87e7_11e6_9994_c82a142856adrow13_col0 {\n",
       "            \n",
       "                background-color:  white;\n",
       "            \n",
       "            }\n",
       "        \n",
       "            #T_118cc9f0_87e7_11e6_9994_c82a142856adrow13_col1 {\n",
       "            \n",
       "                width:  10em;\n",
       "            \n",
       "                 height:  80%;\n",
       "            \n",
       "                background:  linear-gradient(90deg,forestgreen 100.0%, transparent 0%);\n",
       "            \n",
       "            }\n",
       "        \n",
       "            #T_118cc9f0_87e7_11e6_9994_c82a142856adrow14_col0 {\n",
       "            \n",
       "                background-color:  white;\n",
       "            \n",
       "            }\n",
       "        \n",
       "            #T_118cc9f0_87e7_11e6_9994_c82a142856adrow14_col1 {\n",
       "            \n",
       "                width:  10em;\n",
       "            \n",
       "                 height:  80%;\n",
       "            \n",
       "                background:  linear-gradient(90deg,forestgreen 80.166183319%, transparent 0%);\n",
       "            \n",
       "            }\n",
       "        \n",
       "        </style>\n",
       "\n",
       "        <table id=\"T_118cc9f0_87e7_11e6_9994_c82a142856ad\" None>\n",
       "        \n",
       "\n",
       "        <thead>\n",
       "            \n",
       "            <tr>\n",
       "                \n",
       "                <th class=\"blank\">\n",
       "                \n",
       "                <th class=\"col_heading level0 col0\">Keeper\n",
       "                \n",
       "                <th class=\"col_heading level0 col1\">Pvalues\n",
       "                \n",
       "            </tr>\n",
       "            \n",
       "        </thead>\n",
       "        <tbody>\n",
       "            \n",
       "            <tr>\n",
       "                \n",
       "                <th id=\"T_118cc9f0_87e7_11e6_9994_c82a142856ad\" class=\"row_heading level1 row0\">\n",
       "                    x1\n",
       "                \n",
       "                <td id=\"T_118cc9f0_87e7_11e6_9994_c82a142856adrow0_col0\" class=\"data row0 col0\">\n",
       "                    x1\n",
       "                \n",
       "                <td id=\"T_118cc9f0_87e7_11e6_9994_c82a142856adrow0_col1\" class=\"data row0 col1\">\n",
       "                    0.343199\n",
       "                \n",
       "            </tr>\n",
       "            \n",
       "            <tr>\n",
       "                \n",
       "                <th id=\"T_118cc9f0_87e7_11e6_9994_c82a142856ad\" class=\"row_heading level1 row1\">\n",
       "                    x2\n",
       "                \n",
       "                <td id=\"T_118cc9f0_87e7_11e6_9994_c82a142856adrow1_col0\" class=\"data row1 col0\">\n",
       "                    x2\n",
       "                \n",
       "                <td id=\"T_118cc9f0_87e7_11e6_9994_c82a142856adrow1_col1\" class=\"data row1 col1\">\n",
       "                    0.171548\n",
       "                \n",
       "            </tr>\n",
       "            \n",
       "            <tr>\n",
       "                \n",
       "                <th id=\"T_118cc9f0_87e7_11e6_9994_c82a142856ad\" class=\"row_heading level1 row2\">\n",
       "                    x3\n",
       "                \n",
       "                <td id=\"T_118cc9f0_87e7_11e6_9994_c82a142856adrow2_col0\" class=\"data row2 col0\">\n",
       "                    x3\n",
       "                \n",
       "                <td id=\"T_118cc9f0_87e7_11e6_9994_c82a142856adrow2_col1\" class=\"data row2 col1\">\n",
       "                    0.0121501\n",
       "                \n",
       "            </tr>\n",
       "            \n",
       "            <tr>\n",
       "                \n",
       "                <th id=\"T_118cc9f0_87e7_11e6_9994_c82a142856ad\" class=\"row_heading level1 row3\">\n",
       "                    x4\n",
       "                \n",
       "                <td id=\"T_118cc9f0_87e7_11e6_9994_c82a142856adrow3_col0\" class=\"data row3 col0\">\n",
       "                    x4\n",
       "                \n",
       "                <td id=\"T_118cc9f0_87e7_11e6_9994_c82a142856adrow3_col1\" class=\"data row3 col1\">\n",
       "                    0.024007\n",
       "                \n",
       "            </tr>\n",
       "            \n",
       "            <tr>\n",
       "                \n",
       "                <th id=\"T_118cc9f0_87e7_11e6_9994_c82a142856ad\" class=\"row_heading level1 row4\">\n",
       "                    x5\n",
       "                \n",
       "                <td id=\"T_118cc9f0_87e7_11e6_9994_c82a142856adrow4_col0\" class=\"data row4 col0\">\n",
       "                    x5\n",
       "                \n",
       "                <td id=\"T_118cc9f0_87e7_11e6_9994_c82a142856adrow4_col1\" class=\"data row4 col1\">\n",
       "                    0.484926\n",
       "                \n",
       "            </tr>\n",
       "            \n",
       "            <tr>\n",
       "                \n",
       "                <th id=\"T_118cc9f0_87e7_11e6_9994_c82a142856ad\" class=\"row_heading level1 row5\">\n",
       "                    x6\n",
       "                \n",
       "                <td id=\"T_118cc9f0_87e7_11e6_9994_c82a142856adrow5_col0\" class=\"data row5 col0\">\n",
       "                    x6\n",
       "                \n",
       "                <td id=\"T_118cc9f0_87e7_11e6_9994_c82a142856adrow5_col1\" class=\"data row5 col1\">\n",
       "                    0.785125\n",
       "                \n",
       "            </tr>\n",
       "            \n",
       "            <tr>\n",
       "                \n",
       "                <th id=\"T_118cc9f0_87e7_11e6_9994_c82a142856ad\" class=\"row_heading level1 row6\">\n",
       "                    x7\n",
       "                \n",
       "                <td id=\"T_118cc9f0_87e7_11e6_9994_c82a142856adrow6_col0\" class=\"data row6 col0\">\n",
       "                    x7\n",
       "                \n",
       "                <td id=\"T_118cc9f0_87e7_11e6_9994_c82a142856adrow6_col1\" class=\"data row6 col1\">\n",
       "                    0.706402\n",
       "                \n",
       "            </tr>\n",
       "            \n",
       "            <tr>\n",
       "                \n",
       "                <th id=\"T_118cc9f0_87e7_11e6_9994_c82a142856ad\" class=\"row_heading level1 row7\">\n",
       "                    x8\n",
       "                \n",
       "                <td id=\"T_118cc9f0_87e7_11e6_9994_c82a142856adrow7_col0\" class=\"data row7 col0\">\n",
       "                    x8\n",
       "                \n",
       "                <td id=\"T_118cc9f0_87e7_11e6_9994_c82a142856adrow7_col1\" class=\"data row7 col1\">\n",
       "                    0.338114\n",
       "                \n",
       "            </tr>\n",
       "            \n",
       "            <tr>\n",
       "                \n",
       "                <th id=\"T_118cc9f0_87e7_11e6_9994_c82a142856ad\" class=\"row_heading level1 row8\">\n",
       "                    x9\n",
       "                \n",
       "                <td id=\"T_118cc9f0_87e7_11e6_9994_c82a142856adrow8_col0\" class=\"data row8 col0\">\n",
       "                    x9\n",
       "                \n",
       "                <td id=\"T_118cc9f0_87e7_11e6_9994_c82a142856adrow8_col1\" class=\"data row8 col1\">\n",
       "                    0.689187\n",
       "                \n",
       "            </tr>\n",
       "            \n",
       "            <tr>\n",
       "                \n",
       "                <th id=\"T_118cc9f0_87e7_11e6_9994_c82a142856ad\" class=\"row_heading level1 row9\">\n",
       "                    x10\n",
       "                \n",
       "                <td id=\"T_118cc9f0_87e7_11e6_9994_c82a142856adrow9_col0\" class=\"data row9 col0\">\n",
       "                    x10\n",
       "                \n",
       "                <td id=\"T_118cc9f0_87e7_11e6_9994_c82a142856adrow9_col1\" class=\"data row9 col1\">\n",
       "                    0.249045\n",
       "                \n",
       "            </tr>\n",
       "            \n",
       "            <tr>\n",
       "                \n",
       "                <th id=\"T_118cc9f0_87e7_11e6_9994_c82a142856ad\" class=\"row_heading level1 row10\">\n",
       "                    x11\n",
       "                \n",
       "                <td id=\"T_118cc9f0_87e7_11e6_9994_c82a142856adrow10_col0\" class=\"data row10 col0\">\n",
       "                    x11\n",
       "                \n",
       "                <td id=\"T_118cc9f0_87e7_11e6_9994_c82a142856adrow10_col1\" class=\"data row10 col1\">\n",
       "                    0.875018\n",
       "                \n",
       "            </tr>\n",
       "            \n",
       "            <tr>\n",
       "                \n",
       "                <th id=\"T_118cc9f0_87e7_11e6_9994_c82a142856ad\" class=\"row_heading level1 row11\">\n",
       "                    x12\n",
       "                \n",
       "                <td id=\"T_118cc9f0_87e7_11e6_9994_c82a142856adrow11_col0\" class=\"data row11 col0\">\n",
       "                    x12\n",
       "                \n",
       "                <td id=\"T_118cc9f0_87e7_11e6_9994_c82a142856adrow11_col1\" class=\"data row11 col1\">\n",
       "                    0.812871\n",
       "                \n",
       "            </tr>\n",
       "            \n",
       "            <tr>\n",
       "                \n",
       "                <th id=\"T_118cc9f0_87e7_11e6_9994_c82a142856ad\" class=\"row_heading level1 row12\">\n",
       "                    x13\n",
       "                \n",
       "                <td id=\"T_118cc9f0_87e7_11e6_9994_c82a142856adrow12_col0\" class=\"data row12 col0\">\n",
       "                    x13\n",
       "                \n",
       "                <td id=\"T_118cc9f0_87e7_11e6_9994_c82a142856adrow12_col1\" class=\"data row12 col1\">\n",
       "                    0.235011\n",
       "                \n",
       "            </tr>\n",
       "            \n",
       "            <tr>\n",
       "                \n",
       "                <th id=\"T_118cc9f0_87e7_11e6_9994_c82a142856ad\" class=\"row_heading level1 row13\">\n",
       "                    x14\n",
       "                \n",
       "                <td id=\"T_118cc9f0_87e7_11e6_9994_c82a142856adrow13_col0\" class=\"data row13 col0\">\n",
       "                    x14\n",
       "                \n",
       "                <td id=\"T_118cc9f0_87e7_11e6_9994_c82a142856adrow13_col1\" class=\"data row13 col1\">\n",
       "                    0.951204\n",
       "                \n",
       "            </tr>\n",
       "            \n",
       "            <tr>\n",
       "                \n",
       "                <th id=\"T_118cc9f0_87e7_11e6_9994_c82a142856ad\" class=\"row_heading level1 row14\">\n",
       "                    x15\n",
       "                \n",
       "                <td id=\"T_118cc9f0_87e7_11e6_9994_c82a142856adrow14_col0\" class=\"data row14 col0\">\n",
       "                    x15\n",
       "                \n",
       "                <td id=\"T_118cc9f0_87e7_11e6_9994_c82a142856adrow14_col1\" class=\"data row14 col1\">\n",
       "                    0.764954\n",
       "                \n",
       "            </tr>\n",
       "            \n",
       "        </tbody>\n",
       "        </table>\n",
       "        "
      ],
      "text/plain": [
       "<pandas.formats.style.Styler at 0x119f6f450>"
      ]
     },
     "execution_count": 43,
     "metadata": {},
     "output_type": "execute_result"
    }
   ],
   "source": [
    "# Find the best feature selection that maximizes the out-of-sample adjusted R-squared\n",
    "def FindBestI():\n",
    "    mask0 = [0] * n  # initially exclude all regressors\n",
    "    r2_0 = 0         # for storing and compare with best R^2\n",
    "    ix = []          # for storing the finally selected features\n",
    "    while True:\n",
    "        bestI = -1   # best regressor to exclude\n",
    "        for i in range(0,n):\n",
    "            if (mask0[i] == 0):\n",
    "                mask = mask0[:] # creates a copy, not reference\n",
    "                mask[i] = 1     # attempt to select this feature and see if it increases our R^2\n",
    "                r2 = Regress(mask)[0]\n",
    "                if (r2 > r2_0):\n",
    "                    r2_0 = r2\n",
    "                    bestI = i\n",
    "        if (bestI >= 0):        # if we select this feature (otherwise it should be -1 as initially defined) \n",
    "            mask0[bestI] = 1    # flag this feature in the mask0\n",
    "            ix.append('x%d'%(bestI+1))\n",
    "        else:\n",
    "            break               # if no more feature is added, we quit the loop\n",
    "    return mask0, ix\n",
    "\n",
    "mask0, ix = FindBestI()         # store the best choice of feature selection\n",
    "(r2_best,lm_best) = Regress(mask0)  # then run the regression based on such selection\n",
    "\n",
    "#np.abs((data.corr() - np.eye(n+1))).max().max()\n",
    "b = pd.DataFrame({'Pvalues':Regress([1]*n)[1].pvalues, 'Keeper':col})\n",
    "c = 'forestgreen'\n",
    "def highlight_pval(val):\n",
    "    color = c if val in ix else 'white'\n",
    "    return 'background-color: %s'% color\n",
    "\n",
    "b.style.\\\n",
    "    applymap(highlight_pval, subset=['Keeper']).\\\n",
    "    bar(subset = ['Pvalues'], color=c)"
   ]
  },
  {
   "cell_type": "markdown",
   "metadata": {},
   "source": [
    "### The length of green bar in right column indicates the p-value, and we can see that despite having high p-value,  $x_1$ is still included in our \"best fit\", which accurately reflects our true model that $y \\sim x_1 + x_2 + x_3$"
   ]
  },
  {
   "cell_type": "code",
   "execution_count": 44,
   "metadata": {
    "collapsed": false,
    "scrolled": false
   },
   "outputs": [
    {
     "name": "stdout",
     "output_type": "stream",
     "text": [
      "Validation R^2 is 0.695993\n",
      "                            OLS Regression Results                            \n",
      "==============================================================================\n",
      "Dep. Variable:                      Y   R-squared:                       0.718\n",
      "Model:                            OLS   Adj. R-squared:                  0.669\n",
      "Method:                 Least Squares   F-statistic:                     14.45\n",
      "Date:                Sat, 01 Oct 2016   Prob (F-statistic):           6.24e-05\n",
      "Time:                        10:55:18   Log-Likelihood:                -35.039\n",
      "No. Observations:                  20   AIC:                             76.08\n",
      "Df Residuals:                      17   BIC:                             79.07\n",
      "Df Model:                           3                                         \n",
      "Covariance Type:            nonrobust                                         \n",
      "==============================================================================\n",
      "                 coef    std err          t      P>|t|      [95.0% Conf. Int.]\n",
      "------------------------------------------------------------------------------\n",
      "x1             0.8811      0.314      2.803      0.012         0.218     1.544\n",
      "x2             1.1606      0.375      3.095      0.007         0.369     1.952\n",
      "x3             0.9600      0.315      3.043      0.007         0.294     1.625\n",
      "==============================================================================\n",
      "Omnibus:                        0.575   Durbin-Watson:                   2.130\n",
      "Prob(Omnibus):                  0.750   Jarque-Bera (JB):                0.554\n",
      "Skew:                          -0.341   Prob(JB):                        0.758\n",
      "Kurtosis:                       2.554   Cond. No.                         1.83\n",
      "==============================================================================\n",
      "\n",
      "Warnings:\n",
      "[1] Standard Errors assume that the covariance matrix of the errors is correctly specified.\n"
     ]
    }
   ],
   "source": [
    "print('Validation R^2 is %f'%r2_best)\n",
    "print(lm_best.summary())"
   ]
  },
  {
   "cell_type": "code",
   "execution_count": null,
   "metadata": {
    "collapsed": true
   },
   "outputs": [],
   "source": []
  },
  {
   "cell_type": "code",
   "execution_count": null,
   "metadata": {
    "collapsed": true
   },
   "outputs": [],
   "source": []
  }
 ],
 "metadata": {
  "anaconda-cloud": {},
  "kernelspec": {
   "display_name": "Python [Root]",
   "language": "python",
   "name": "Python [Root]"
  },
  "language_info": {
   "codemirror_mode": {
    "name": "ipython",
    "version": 2
   },
   "file_extension": ".py",
   "mimetype": "text/x-python",
   "name": "python",
   "nbconvert_exporter": "python",
   "pygments_lexer": "ipython2",
   "version": "2.7.11"
  }
 },
 "nbformat": 4,
 "nbformat_minor": 0
}
