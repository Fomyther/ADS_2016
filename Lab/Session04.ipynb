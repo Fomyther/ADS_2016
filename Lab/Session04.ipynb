{
 "cells": [
  {
   "cell_type": "markdown",
   "metadata": {},
   "source": [
    "# Lab Session 3, Hypothesis Testing and Confidence Interval"
   ]
  },
  {
   "cell_type": "markdown",
   "metadata": {},
   "source": [
    "# 1. Explanations of regression statistics\n",
    "\n",
    "### R-squared\n",
    "\n",
    "In the same way as for the bi-variate regression:\n",
    "$$\n",
    "R^2=1-\\frac{RSS}{\\sum\\limits_i (y_i-\\overline{y})^2}=\\frac{\\sum\\limits_i (\\hat{y}_i-\\overline{y})^2}{\\sum\\limits_i (y_i-\\overline{y})^2},\n",
    "$$\n",
    "where $\\overline{y}=\\sum\\limits_i y_i$ is the sample mean of observed values of responce variable. This way $R^2$ is often interpreted as a fraction of responce variable's variance explained by linear model. $R^2=1$ is equivalent to $RSS=0$, i.e. the model fits the observations exactly, i.e. responce variable depends linearly on the explaining variables. On the other hand, $R^2=0$ means that the model always predicts the sample mean $\\overline{y}$, i.e. explaining variables $x$ have no effect on responce variable $y$. \n",
    "\n",
    "Least-square criteria is equivalent to maximizing $R^2$.\n",
    "\n",
    "### Confidence intervals\n",
    "As before uncertainty of the model predictions comes together with the uncertainty of the model coefficients' estimates $\\hat{w}$. The last, treated as a random vector has a variance-covariance matrix \n",
    "$$\n",
    "Var(\\hat{w})=(X^T X)^{-1}\\sigma^2,\n",
    "$$\n",
    "while for $\\sigma^2$ we can use one of the estimates (4) or (4') - usually the last unbiased one.\n",
    "\n",
    "Based on this estimate as well as the normality of $\\hat{w}$ distribution, the confidence intervals for each $\\hat{w}_j$ are constructred (i.e. ranges containing the \"true\" value of $w_j$ with a certain level of confidence $1-\\alpha$.\n",
    "\n",
    "### Hypothesis testing: P-values, t-statistics and F-statistics\n",
    "\n",
    "For each estimate $\\hat{w}_i$ and the hypothesized value $w_i^*$ (often $w_i^*=0$), the corresponding $t$-statistics is defined as\n",
    "$$t=\\frac{w_i^*-\\hat{w}_i}{ \\sqrt {Var( \\hat{w}_i)}}.$$\n",
    "Based on the value of $t$-statistics, which is known to follow Students distribution (approximately normal for large $N$), the $p$-value is defined to show our confidence that the observed deviation of the estimate $\\hat{w}_i$ from a hypothesized value $w_i^*$ is simply a matter of chance (specifically it denotes a probabiity of having the absolute value of the $t$-statistics for the true value $w_i$ modulo higher than the observed one. \n",
    "\n",
    "This way once $p$-value (confidence level for the hypothesis) is lower than a certain threshold (typically $5\\%$), the hypothesis of having the true value of $w_i$ to be $w_i^*$ is rejected.\n",
    "\n",
    "The most common example is assuming a null-hypothesis $w_i^*=0$, meaning that explaining variable $x_i$ has actually no impact on the response variable $y$. Those $p$-values for the null-hypothesis are reported by R and python for every regressor $x_i$ in order to show if the impact of the considered regressor is statistically significant. \n",
    "\n",
    "In the same way as for the bi-variate regression, low $p$-values do not prove that: 1) impact of $x_i$ on $y$ is actually linear, or that 2) the estimate we have for the coefficient $w_i$ is the true one. In turn, having high value of $p$-value by itself does not prove that $y$ is independent on $x_i$ (first of all linear effect could be there, just disguised by noise, second - the effect could be non-linear).\n",
    "\n",
    "Regressors having high $p$-values are usually excluded from the model in order to stay free from the random insignificnt effects, reducing the risk of overfitting (this is however not the only way of fighting it).\n",
    "\n",
    "However often we need to test the significance of a subgroup of regressors together (or all of the regressors) testing the entire model against the null-hypothesis that a model based on a smaller subset of $m$ regressors (or just the intercept) of the regressors actually performs not worse than the original one.  The following $F$-statistics helps with that:\n",
    "$$\n",
    "F=\\frac{(RSS_0-RSS_1)(N-n)}{RSS_1\\cdot (n-m)},\n",
    "$$\n",
    "where $RSS_1$ is the optimal (least-square) $RSS$ value for the original regression and $RSS_0$ - is the optimal $RSS$ value of the regression based on the considered subset of $m$ regressors (testing the hypothesis that only those $m$ regressors are significant). R and python will report the value of $F$ for the null-hypothesis that only the intercept is significant, as well as the $p$-value characterizing this $F$-statistics.\n",
    "\n"
   ]
  },
  {
   "cell_type": "markdown",
   "metadata": {},
   "source": [
    "# 2. Feature selection\n",
    "\n",
    "Reducing complexity of the model (number of features or their dimensionality) is usually recommended in such cases. The most straighforward way of doing so is through feature selection. \n",
    "\n",
    "Select a subset of the regressors of the given size $k$ maximizing the model fit ($R^2$).  \n",
    "Step-forward  \n",
    "Step-backward  \n",
    "\n",
    "Drawback - we're discarding information from the feature space."
   ]
  },
  {
   "cell_type": "code",
   "execution_count": 1,
   "metadata": {
    "collapsed": false,
    "scrolled": false
   },
   "outputs": [
    {
     "name": "stdout",
     "output_type": "stream",
     "text": [
      "Populating the interactive namespace from numpy and matplotlib\n"
     ]
    }
   ],
   "source": [
    "import numpy as np\n",
    "import pandas as pd\n",
    "import matplotlib.pyplot as plt\n",
    "%pylab inline\n",
    "import statsmodels.formula.api as smf"
   ]
  },
  {
   "cell_type": "code",
   "execution_count": 2,
   "metadata": {
    "collapsed": true
   },
   "outputs": [],
   "source": [
    "path = 'https://serv.cusp.nyu.edu/~cq299/ADS2016/Data/'"
   ]
  },
  {
   "cell_type": "markdown",
   "metadata": {},
   "source": [
    "# Example 1\n",
    "### Revisit univariate regression with housing price"
   ]
  },
  {
   "cell_type": "code",
   "execution_count": 18,
   "metadata": {
    "collapsed": false
   },
   "outputs": [],
   "source": [
    "data1 = pd.read_csv(path + 'Se3_Ex1.csv')"
   ]
  },
  {
   "cell_type": "code",
   "execution_count": 20,
   "metadata": {
    "collapsed": true
   },
   "outputs": [],
   "source": [
    "# Q1. Select only first 100 entries for simplicity\n",
    "# Q2. Regress the \"sale_price\" over \"gross_sq_feet\"\n",
    "# Q3. Plot the prediction versus observation\n",
    "# Q4. Interpret some statistics, such as the coefficients, the p-values etc.\n",
    "# Q5. What does this 95% confidence interval tell you? Can you change it to 90%?\n",
    "# Q6. Suppose you are given a number p, denoting the \"average price per square foot\"\n",
    "    # What is the probability that a real avg. price per sq. foot is higher or lower than p?"
   ]
  },
  {
   "cell_type": "code",
   "execution_count": 21,
   "metadata": {
    "collapsed": false
   },
   "outputs": [
    {
     "name": "stdout",
     "output_type": "stream",
     "text": [
      "Validation R^2 is 0.576572\n",
      "                            OLS Regression Results                            \n",
      "==============================================================================\n",
      "Dep. Variable:             sale_price   R-squared:                       0.119\n",
      "Model:                            OLS   Adj. R-squared:                  0.106\n",
      "Method:                 Least Squares   F-statistic:                     9.211\n",
      "Date:                Wed, 28 Sep 2016   Prob (F-statistic):            0.00341\n",
      "Time:                        11:52:45   Log-Likelihood:                -949.64\n",
      "No. Observations:                  70   AIC:                             1903.\n",
      "Df Residuals:                      68   BIC:                             1908.\n",
      "Df Model:                           1                                         \n",
      "Covariance Type:            nonrobust                                         \n",
      "=================================================================================\n",
      "                    coef    std err          t      P>|t|      [95.0% Conf. Int.]\n",
      "---------------------------------------------------------------------------------\n",
      "Intercept      4.286e+05   7.15e+04      5.997      0.000      2.86e+05  5.71e+05\n",
      "gross_sq_feet    80.1990     26.426      3.035      0.003        27.467   132.931\n",
      "==============================================================================\n",
      "Omnibus:                        5.708   Durbin-Watson:                   2.479\n",
      "Prob(Omnibus):                  0.058   Jarque-Bera (JB):                4.865\n",
      "Skew:                          -0.598   Prob(JB):                       0.0878\n",
      "Kurtosis:                       3.486   Cond. No.                     8.45e+03\n",
      "==============================================================================\n",
      "\n",
      "Warnings:\n",
      "[1] Standard Errors assume that the covariance matrix of the errors is correctly specified.\n",
      "[2] The condition number is large, 8.45e+03. This might indicate that there are\n",
      "strong multicollinearity or other numerical problems.\n"
     ]
    },
    {
     "data": {
      "image/png": "[encoded data removed]",
      "text/plain": [
       "<matplotlib.figure.Figure at 0x11d38b210>"
      ]
     },
     "metadata": {},
     "output_type": "display_data"
    }
   ],
   "source": [
    "data = data1[:100]\n",
    "train = data.iloc[:int(0.7*len(data)),]\n",
    "valid = data.iloc[int(0.7*len(data)):,]\n",
    "lm1 = smf.ols(formula = 'sale_price ~ gross_sq_feet', data = train).fit()\n",
    "lmy = lm1.predict(valid)\n",
    "plt.plot(lmy, lmy, 'b-')\n",
    "plt.plot(lmy, valid.sale_price,'or')\n",
    "R2 = 1-sum(pow(lmy-valid.sale_price,2))/sum(pow(valid.sale_price-mean(valid.sale_price),2))\n",
    "print('Validation R^2 is %f'%R2)\n",
    "print(lm1.summary())"
   ]
  },
  {
   "cell_type": "code",
   "execution_count": null,
   "metadata": {
    "collapsed": true
   },
   "outputs": [],
   "source": []
  },
  {
   "cell_type": "markdown",
   "metadata": {},
   "source": [
    "# Example 2.\n",
    "### Multivariate regression with housing price data"
   ]
  },
  {
   "cell_type": "code",
   "execution_count": 27,
   "metadata": {
    "collapsed": true
   },
   "outputs": [],
   "source": [
    "# Q1. (Same dataset) First extract the \"year\" from \"sale_date\", then subtract the \"year_built\" to obtain the \"year_gap\"\n",
    "    # -- How old is that house when it was sold? Create a column contain this information\n",
    "# Q2. Now regress the sale price over\n",
    "    # residential_units\n",
    "    # land_sq_feet\n",
    "    # gross_sq_feet\n",
    "    # year_gap\n",
    "# Q3. How does our model look like? Observe how p-values and confidence intervals changed compared to example 1.\n",
    "# Q4. Simply remove the features with high p-value then re-run the regression, what happens?\n",
    "# Q5. (Experiment this if time permits) What if we just randomly remove a feature regardless of its p-value?"
   ]
  },
  {
   "cell_type": "code",
   "execution_count": 23,
   "metadata": {
    "collapsed": false
   },
   "outputs": [],
   "source": [
    "year_sale = lambda s:int(s[:4])\n",
    "data1['year_gap'] = data1.sale_date.apply(year_sale) - data1.year_built"
   ]
  },
  {
   "cell_type": "code",
   "execution_count": 24,
   "metadata": {
    "collapsed": false
   },
   "outputs": [
    {
     "name": "stdout",
     "output_type": "stream",
     "text": [
      "Validation R^2 is 0.559356\n",
      "                            OLS Regression Results                            \n",
      "==============================================================================\n",
      "Dep. Variable:             sale_price   R-squared:                       0.156\n",
      "Model:                            OLS   Adj. R-squared:                  0.104\n",
      "Method:                 Least Squares   F-statistic:                     2.997\n",
      "Date:                Wed, 28 Sep 2016   Prob (F-statistic):             0.0247\n",
      "Time:                        11:52:56   Log-Likelihood:                -948.16\n",
      "No. Observations:                  70   AIC:                             1906.\n",
      "Df Residuals:                      65   BIC:                             1918.\n",
      "Df Model:                           4                                         \n",
      "Covariance Type:            nonrobust                                         \n",
      "=====================================================================================\n",
      "                        coef    std err          t      P>|t|      [95.0% Conf. Int.]\n",
      "-------------------------------------------------------------------------------------\n",
      "Intercept          2.175e+05   1.54e+05      1.412      0.163     -9.01e+04  5.25e+05\n",
      "land_sq_feet         54.7245     37.621      1.455      0.151       -20.409   129.858\n",
      "gross_sq_feet        83.5590     40.135      2.082      0.041         3.403   163.715\n",
      "residential_units -2860.9559   3.22e+04     -0.089      0.929     -6.71e+04  6.14e+04\n",
      "year_gap           1089.0144   1103.970      0.986      0.328     -1115.765  3293.794\n",
      "==============================================================================\n",
      "Omnibus:                        8.953   Durbin-Watson:                   2.453\n",
      "Prob(Omnibus):                  0.011   Jarque-Bera (JB):                8.482\n",
      "Skew:                          -0.780   Prob(JB):                       0.0144\n",
      "Kurtosis:                       3.690   Cond. No.                     2.42e+04\n",
      "==============================================================================\n",
      "\n",
      "Warnings:\n",
      "[1] Standard Errors assume that the covariance matrix of the errors is correctly specified.\n",
      "[2] The condition number is large, 2.42e+04. This might indicate that there are\n",
      "strong multicollinearity or other numerical problems.\n"
     ]
    },
    {
     "data": {
      "image/png": "[encoded data removed]",
      "text/plain": [
       "<matplotlib.figure.Figure at 0x10bc36c90>"
      ]
     },
     "metadata": {},
     "output_type": "display_data"
    }
   ],
   "source": [
    "data = data1[:100]\n",
    "train = data.iloc[:int(0.7*len(data)),]\n",
    "valid = data.iloc[int(0.7*len(data)):,]\n",
    "lm1 = smf.ols(formula = 'sale_price ~ land_sq_feet + gross_sq_feet + residential_units + year_gap', data = train).fit()\n",
    "lmy = lm1.predict(valid)\n",
    "plt.plot(lmy, lmy, 'b-')\n",
    "plt.plot(lmy, valid.sale_price,'or')\n",
    "R2 = 1-sum(pow(lmy-valid.sale_price,2))/sum(pow(valid.sale_price-mean(valid.sale_price),2))\n",
    "print('Validation R^2 is %f'%R2)\n",
    "print(lm1.summary())"
   ]
  },
  {
   "cell_type": "markdown",
   "metadata": {},
   "source": [
    "## In this summary table we can see that the coefficients are implying:\n",
    "* Avg. Base price   \\$21,750\n",
    "* Avg. Price per Sq.Foot (land)  \\$54.7245\n",
    "* Ave. Price per Sq.Foot (gross) \\$83.5590\n",
    "* Avg. Additional Price per Residential Units \\$-2860.9559\n",
    "* Avg. Additional Price per Year Gap \\$1089.0144\n",
    "\n",
    "### So the older the house, the higher the price. Do you believe this?"
   ]
  },
  {
   "cell_type": "code",
   "execution_count": 35,
   "metadata": {
    "collapsed": false
   },
   "outputs": [
    {
     "data": {
      "text/html": [
       "<div>\n",
       "<table border=\"1\" class=\"dataframe\">\n",
       "  <thead>\n",
       "    <tr style=\"text-align: right;\">\n",
       "      <th></th>\n",
       "      <th>zip_code</th>\n",
       "      <th>residential_units</th>\n",
       "      <th>land_sq_feet</th>\n",
       "      <th>gross_sq_feet</th>\n",
       "      <th>year_built</th>\n",
       "      <th>sale_price</th>\n",
       "      <th>sale_date</th>\n",
       "      <th>year_gap</th>\n",
       "    </tr>\n",
       "  </thead>\n",
       "  <tbody>\n",
       "    <tr>\n",
       "      <th>31</th>\n",
       "      <td>11204</td>\n",
       "      <td>2</td>\n",
       "      <td>2517</td>\n",
       "      <td>3150</td>\n",
       "      <td>2009</td>\n",
       "      <td>870000</td>\n",
       "      <td>2007-05-11</td>\n",
       "      <td>-2</td>\n",
       "    </tr>\n",
       "    <tr>\n",
       "      <th>42</th>\n",
       "      <td>11204</td>\n",
       "      <td>2</td>\n",
       "      <td>4000</td>\n",
       "      <td>3600</td>\n",
       "      <td>2006</td>\n",
       "      <td>750000</td>\n",
       "      <td>2003-12-26</td>\n",
       "      <td>-3</td>\n",
       "    </tr>\n",
       "  </tbody>\n",
       "</table>\n",
       "</div>"
      ],
      "text/plain": [
       "    zip_code  residential_units  land_sq_feet  gross_sq_feet  year_built  \\\n",
       "31     11204                  2          2517           3150        2009   \n",
       "42     11204                  2          4000           3600        2006   \n",
       "\n",
       "    sale_price   sale_date  year_gap  \n",
       "31      870000  2007-05-11        -2  \n",
       "42      750000  2003-12-26        -3  "
      ]
     },
     "execution_count": 35,
     "metadata": {},
     "output_type": "execute_result"
    }
   ],
   "source": [
    "# We may have some houses sold before complete construction, or they record the data wrong in the first place\n",
    "data.loc[data.year_gap<0,]"
   ]
  },
  {
   "cell_type": "markdown",
   "metadata": {},
   "source": [
    "### Experiment 1. Drop the \"year_gap\":"
   ]
  },
  {
   "cell_type": "code",
   "execution_count": 25,
   "metadata": {
    "collapsed": false
   },
   "outputs": [
    {
     "name": "stdout",
     "output_type": "stream",
     "text": [
      "Validation R^2 is 0.600341\n",
      "                            OLS Regression Results                            \n",
      "==============================================================================\n",
      "Dep. Variable:             sale_price   R-squared:                       0.143\n",
      "Model:                            OLS   Adj. R-squared:                  0.104\n",
      "Method:                 Least Squares   F-statistic:                     3.673\n",
      "Date:                Wed, 28 Sep 2016   Prob (F-statistic):             0.0164\n",
      "Time:                        12:05:34   Log-Likelihood:                -948.68\n",
      "No. Observations:                  70   AIC:                             1905.\n",
      "Df Residuals:                      66   BIC:                             1914.\n",
      "Df Model:                           3                                         \n",
      "Covariance Type:            nonrobust                                         \n",
      "=====================================================================================\n",
      "                        coef    std err          t      P>|t|      [95.0% Conf. Int.]\n",
      "-------------------------------------------------------------------------------------\n",
      "Intercept          3.323e+05   1.01e+05      3.294      0.002      1.31e+05  5.34e+05\n",
      "land_sq_feet         50.4092     37.358      1.349      0.182       -24.178   124.996\n",
      "gross_sq_feet        68.4864     37.105      1.846      0.069        -5.597   142.570\n",
      "residential_units  2960.9574   3.16e+04      0.094      0.926     -6.02e+04  6.61e+04\n",
      "==============================================================================\n",
      "Omnibus:                        6.270   Durbin-Watson:                   2.514\n",
      "Prob(Omnibus):                  0.043   Jarque-Bera (JB):                5.531\n",
      "Skew:                          -0.658   Prob(JB):                       0.0629\n",
      "Kurtosis:                       3.404   Cond. No.                     1.58e+04\n",
      "==============================================================================\n",
      "\n",
      "Warnings:\n",
      "[1] Standard Errors assume that the covariance matrix of the errors is correctly specified.\n",
      "[2] The condition number is large, 1.58e+04. This might indicate that there are\n",
      "strong multicollinearity or other numerical problems.\n"
     ]
    },
    {
     "data": {
      "image/png": "[encoded data removed]",
      "text/plain": [
       "<matplotlib.figure.Figure at 0x11d4adc10>"
      ]
     },
     "metadata": {},
     "output_type": "display_data"
    }
   ],
   "source": [
    "lm1 = smf.ols(formula = 'sale_price ~ land_sq_feet + gross_sq_feet + residential_units', data = train).fit()\n",
    "lmy = lm1.predict(valid)\n",
    "plt.plot(lmy, lmy, 'b-')\n",
    "plt.plot(lmy, valid.sale_price,'or')\n",
    "R2 = 1-sum(pow(lmy-valid.sale_price,2))/sum(pow(valid.sale_price-mean(valid.sale_price),2))\n",
    "print('Validation R^2 is %f'%R2)\n",
    "print(lm1.summary())"
   ]
  },
  {
   "cell_type": "markdown",
   "metadata": {},
   "source": [
    "### Observations:\n",
    "* Validation $R^2$ increases\n",
    "* The coefficient of Residential Units flipped the sign"
   ]
  },
  {
   "cell_type": "code",
   "execution_count": null,
   "metadata": {
    "collapsed": true
   },
   "outputs": [],
   "source": []
  },
  {
   "cell_type": "markdown",
   "metadata": {},
   "source": [
    "### Now we even drop the feature \"residential_units\", and validation $R^2$ drops slightly but still higher than original model"
   ]
  },
  {
   "cell_type": "code",
   "execution_count": 26,
   "metadata": {
    "collapsed": false
   },
   "outputs": [
    {
     "name": "stdout",
     "output_type": "stream",
     "text": [
      "Validation R^2 is 0.593962\n",
      "                            OLS Regression Results                            \n",
      "==============================================================================\n",
      "Dep. Variable:             sale_price   R-squared:                       0.143\n",
      "Model:                            OLS   Adj. R-squared:                  0.117\n",
      "Method:                 Least Squares   F-statistic:                     5.588\n",
      "Date:                Wed, 28 Sep 2016   Prob (F-statistic):            0.00569\n",
      "Time:                        12:07:21   Log-Likelihood:                -948.68\n",
      "No. Observations:                  70   AIC:                             1903.\n",
      "Df Residuals:                      67   BIC:                             1910.\n",
      "Df Model:                           2                                         \n",
      "Covariance Type:            nonrobust                                         \n",
      "=================================================================================\n",
      "                    coef    std err          t      P>|t|      [95.0% Conf. Int.]\n",
      "---------------------------------------------------------------------------------\n",
      "Intercept       3.33e+05   9.99e+04      3.332      0.001      1.34e+05  5.32e+05\n",
      "land_sq_feet     50.4468     37.078      1.361      0.178       -23.562   124.455\n",
      "gross_sq_feet    70.8338     27.149      2.609      0.011        16.644   125.023\n",
      "==============================================================================\n",
      "Omnibus:                        6.364   Durbin-Watson:                   2.516\n",
      "Prob(Omnibus):                  0.042   Jarque-Bera (JB):                5.630\n",
      "Skew:                          -0.664   Prob(JB):                       0.0599\n",
      "Kurtosis:                       3.410   Cond. No.                     1.58e+04\n",
      "==============================================================================\n",
      "\n",
      "Warnings:\n",
      "[1] Standard Errors assume that the covariance matrix of the errors is correctly specified.\n",
      "[2] The condition number is large, 1.58e+04. This might indicate that there are\n",
      "strong multicollinearity or other numerical problems.\n"
     ]
    },
    {
     "data": {
      "image/png": "[encoded data removed]",
      "text/plain": [
       "<matplotlib.figure.Figure at 0x11d3a1c90>"
      ]
     },
     "metadata": {},
     "output_type": "display_data"
    }
   ],
   "source": [
    "lm1 = smf.ols(formula = 'sale_price ~ land_sq_feet + gross_sq_feet', data = train).fit()\n",
    "lmy = lm1.predict(valid)\n",
    "plt.plot(lmy, lmy, 'b-')\n",
    "plt.plot(lmy, valid.sale_price,'or')\n",
    "R2 = 1-sum(pow(lmy-valid.sale_price,2))/sum(pow(valid.sale_price-mean(valid.sale_price),2))\n",
    "print('Validation R^2 is %f'%R2)\n",
    "print(lm1.summary())"
   ]
  },
  {
   "cell_type": "code",
   "execution_count": null,
   "metadata": {
    "collapsed": true
   },
   "outputs": [],
   "source": []
  },
  {
   "cell_type": "markdown",
   "metadata": {},
   "source": [
    "### Example 3. Feature selection based on maximizing validation $R^2$, rather than p-values"
   ]
  },
  {
   "cell_type": "code",
   "execution_count": 12,
   "metadata": {
    "collapsed": false
   },
   "outputs": [
    {
     "data": {
      "text/html": [
       "\n",
       "        <style  type=\"text/css\" >\n",
       "        \n",
       "        \n",
       "            #T_2500ce8a_8591_11e6_8ee5_c82a142856adrow0_col0 {\n",
       "            \n",
       "                background-color:  greenyellow;\n",
       "            \n",
       "            }\n",
       "        \n",
       "            #T_2500ce8a_8591_11e6_8ee5_c82a142856adrow0_col1 {\n",
       "            \n",
       "                width:  10em;\n",
       "            \n",
       "                 height:  80%;\n",
       "            \n",
       "                background:  linear-gradient(90deg,greenyellow 22.8673258558%, transparent 0%);\n",
       "            \n",
       "            }\n",
       "        \n",
       "            #T_2500ce8a_8591_11e6_8ee5_c82a142856adrow1_col0 {\n",
       "            \n",
       "                background-color:  greenyellow;\n",
       "            \n",
       "            }\n",
       "        \n",
       "            #T_2500ce8a_8591_11e6_8ee5_c82a142856adrow1_col1 {\n",
       "            \n",
       "                width:  10em;\n",
       "            \n",
       "                 height:  80%;\n",
       "            \n",
       "            }\n",
       "        \n",
       "            #T_2500ce8a_8591_11e6_8ee5_c82a142856adrow2_col0 {\n",
       "            \n",
       "                background-color:  greenyellow;\n",
       "            \n",
       "            }\n",
       "        \n",
       "            #T_2500ce8a_8591_11e6_8ee5_c82a142856adrow2_col1 {\n",
       "            \n",
       "                width:  10em;\n",
       "            \n",
       "                 height:  80%;\n",
       "            \n",
       "                background:  linear-gradient(90deg,greenyellow 3.05317594201%, transparent 0%);\n",
       "            \n",
       "            }\n",
       "        \n",
       "            #T_2500ce8a_8591_11e6_8ee5_c82a142856adrow3_col0 {\n",
       "            \n",
       "                background-color:  greenyellow;\n",
       "            \n",
       "            }\n",
       "        \n",
       "            #T_2500ce8a_8591_11e6_8ee5_c82a142856adrow3_col1 {\n",
       "            \n",
       "                width:  10em;\n",
       "            \n",
       "                 height:  80%;\n",
       "            \n",
       "                background:  linear-gradient(90deg,greenyellow 56.9389699884%, transparent 0%);\n",
       "            \n",
       "            }\n",
       "        \n",
       "            #T_2500ce8a_8591_11e6_8ee5_c82a142856adrow4_col0 {\n",
       "            \n",
       "                background-color:  white;\n",
       "            \n",
       "            }\n",
       "        \n",
       "            #T_2500ce8a_8591_11e6_8ee5_c82a142856adrow4_col1 {\n",
       "            \n",
       "                width:  10em;\n",
       "            \n",
       "                 height:  80%;\n",
       "            \n",
       "                background:  linear-gradient(90deg,greenyellow 88.9457117763%, transparent 0%);\n",
       "            \n",
       "            }\n",
       "        \n",
       "            #T_2500ce8a_8591_11e6_8ee5_c82a142856adrow5_col0 {\n",
       "            \n",
       "                background-color:  white;\n",
       "            \n",
       "            }\n",
       "        \n",
       "            #T_2500ce8a_8591_11e6_8ee5_c82a142856adrow5_col1 {\n",
       "            \n",
       "                width:  10em;\n",
       "            \n",
       "                 height:  80%;\n",
       "            \n",
       "                background:  linear-gradient(90deg,greenyellow 2.84503968124%, transparent 0%);\n",
       "            \n",
       "            }\n",
       "        \n",
       "            #T_2500ce8a_8591_11e6_8ee5_c82a142856adrow6_col0 {\n",
       "            \n",
       "                background-color:  white;\n",
       "            \n",
       "            }\n",
       "        \n",
       "            #T_2500ce8a_8591_11e6_8ee5_c82a142856adrow6_col1 {\n",
       "            \n",
       "                width:  10em;\n",
       "            \n",
       "                 height:  80%;\n",
       "            \n",
       "                background:  linear-gradient(90deg,greenyellow 100.0%, transparent 0%);\n",
       "            \n",
       "            }\n",
       "        \n",
       "            #T_2500ce8a_8591_11e6_8ee5_c82a142856adrow7_col0 {\n",
       "            \n",
       "                background-color:  white;\n",
       "            \n",
       "            }\n",
       "        \n",
       "            #T_2500ce8a_8591_11e6_8ee5_c82a142856adrow7_col1 {\n",
       "            \n",
       "                width:  10em;\n",
       "            \n",
       "                 height:  80%;\n",
       "            \n",
       "                background:  linear-gradient(90deg,greenyellow 99.8134127958%, transparent 0%);\n",
       "            \n",
       "            }\n",
       "        \n",
       "            #T_2500ce8a_8591_11e6_8ee5_c82a142856adrow8_col0 {\n",
       "            \n",
       "                background-color:  white;\n",
       "            \n",
       "            }\n",
       "        \n",
       "            #T_2500ce8a_8591_11e6_8ee5_c82a142856adrow8_col1 {\n",
       "            \n",
       "                width:  10em;\n",
       "            \n",
       "                 height:  80%;\n",
       "            \n",
       "                background:  linear-gradient(90deg,greenyellow 3.47686001917%, transparent 0%);\n",
       "            \n",
       "            }\n",
       "        \n",
       "            #T_2500ce8a_8591_11e6_8ee5_c82a142856adrow9_col0 {\n",
       "            \n",
       "                background-color:  white;\n",
       "            \n",
       "            }\n",
       "        \n",
       "            #T_2500ce8a_8591_11e6_8ee5_c82a142856adrow9_col1 {\n",
       "            \n",
       "                width:  10em;\n",
       "            \n",
       "                 height:  80%;\n",
       "            \n",
       "                background:  linear-gradient(90deg,greenyellow 4.96598530658%, transparent 0%);\n",
       "            \n",
       "            }\n",
       "        \n",
       "            #T_2500ce8a_8591_11e6_8ee5_c82a142856adrow10_col0 {\n",
       "            \n",
       "                background-color:  white;\n",
       "            \n",
       "            }\n",
       "        \n",
       "            #T_2500ce8a_8591_11e6_8ee5_c82a142856adrow10_col1 {\n",
       "            \n",
       "                width:  10em;\n",
       "            \n",
       "                 height:  80%;\n",
       "            \n",
       "                background:  linear-gradient(90deg,greenyellow 35.861604092%, transparent 0%);\n",
       "            \n",
       "            }\n",
       "        \n",
       "            #T_2500ce8a_8591_11e6_8ee5_c82a142856adrow11_col0 {\n",
       "            \n",
       "                background-color:  white;\n",
       "            \n",
       "            }\n",
       "        \n",
       "            #T_2500ce8a_8591_11e6_8ee5_c82a142856adrow11_col1 {\n",
       "            \n",
       "                width:  10em;\n",
       "            \n",
       "                 height:  80%;\n",
       "            \n",
       "                background:  linear-gradient(90deg,greenyellow 3.72629366374%, transparent 0%);\n",
       "            \n",
       "            }\n",
       "        \n",
       "            #T_2500ce8a_8591_11e6_8ee5_c82a142856adrow12_col0 {\n",
       "            \n",
       "                background-color:  white;\n",
       "            \n",
       "            }\n",
       "        \n",
       "            #T_2500ce8a_8591_11e6_8ee5_c82a142856adrow12_col1 {\n",
       "            \n",
       "                width:  10em;\n",
       "            \n",
       "                 height:  80%;\n",
       "            \n",
       "                background:  linear-gradient(90deg,greenyellow 16.614220259%, transparent 0%);\n",
       "            \n",
       "            }\n",
       "        \n",
       "            #T_2500ce8a_8591_11e6_8ee5_c82a142856adrow13_col0 {\n",
       "            \n",
       "                background-color:  greenyellow;\n",
       "            \n",
       "            }\n",
       "        \n",
       "            #T_2500ce8a_8591_11e6_8ee5_c82a142856adrow13_col1 {\n",
       "            \n",
       "                width:  10em;\n",
       "            \n",
       "                 height:  80%;\n",
       "            \n",
       "                background:  linear-gradient(90deg,greenyellow 94.0139744974%, transparent 0%);\n",
       "            \n",
       "            }\n",
       "        \n",
       "            #T_2500ce8a_8591_11e6_8ee5_c82a142856adrow14_col0 {\n",
       "            \n",
       "                background-color:  greenyellow;\n",
       "            \n",
       "            }\n",
       "        \n",
       "            #T_2500ce8a_8591_11e6_8ee5_c82a142856adrow14_col1 {\n",
       "            \n",
       "                width:  10em;\n",
       "            \n",
       "                 height:  80%;\n",
       "            \n",
       "                background:  linear-gradient(90deg,greenyellow 6.42527529938%, transparent 0%);\n",
       "            \n",
       "            }\n",
       "        \n",
       "        </style>\n",
       "\n",
       "        <table id=\"T_2500ce8a_8591_11e6_8ee5_c82a142856ad\" None>\n",
       "        \n",
       "\n",
       "        <thead>\n",
       "            \n",
       "            <tr>\n",
       "                \n",
       "                <th class=\"blank\">\n",
       "                \n",
       "                <th class=\"col_heading level0 col0\">Keeper\n",
       "                \n",
       "                <th class=\"col_heading level0 col1\">Pvalues\n",
       "                \n",
       "            </tr>\n",
       "            \n",
       "        </thead>\n",
       "        <tbody>\n",
       "            \n",
       "            <tr>\n",
       "                \n",
       "                <th id=\"T_2500ce8a_8591_11e6_8ee5_c82a142856ad\" class=\"row_heading level1 row0\">\n",
       "                    x1\n",
       "                \n",
       "                <td id=\"T_2500ce8a_8591_11e6_8ee5_c82a142856adrow0_col0\" class=\"data row0 col0\">\n",
       "                    x1\n",
       "                \n",
       "                <td id=\"T_2500ce8a_8591_11e6_8ee5_c82a142856adrow0_col1\" class=\"data row0 col1\">\n",
       "                    0.212442\n",
       "                \n",
       "            </tr>\n",
       "            \n",
       "            <tr>\n",
       "                \n",
       "                <th id=\"T_2500ce8a_8591_11e6_8ee5_c82a142856ad\" class=\"row_heading level1 row1\">\n",
       "                    x2\n",
       "                \n",
       "                <td id=\"T_2500ce8a_8591_11e6_8ee5_c82a142856adrow1_col0\" class=\"data row1 col0\">\n",
       "                    x2\n",
       "                \n",
       "                <td id=\"T_2500ce8a_8591_11e6_8ee5_c82a142856adrow1_col1\" class=\"data row1 col1\">\n",
       "                    0.0134046\n",
       "                \n",
       "            </tr>\n",
       "            \n",
       "            <tr>\n",
       "                \n",
       "                <th id=\"T_2500ce8a_8591_11e6_8ee5_c82a142856ad\" class=\"row_heading level1 row2\">\n",
       "                    x3\n",
       "                \n",
       "                <td id=\"T_2500ce8a_8591_11e6_8ee5_c82a142856adrow2_col0\" class=\"data row2 col0\">\n",
       "                    x3\n",
       "                \n",
       "                <td id=\"T_2500ce8a_8591_11e6_8ee5_c82a142856adrow2_col1\" class=\"data row2 col1\">\n",
       "                    0.0399794\n",
       "                \n",
       "            </tr>\n",
       "            \n",
       "            <tr>\n",
       "                \n",
       "                <th id=\"T_2500ce8a_8591_11e6_8ee5_c82a142856ad\" class=\"row_heading level1 row3\">\n",
       "                    x4\n",
       "                \n",
       "                <td id=\"T_2500ce8a_8591_11e6_8ee5_c82a142856adrow3_col0\" class=\"data row3 col0\">\n",
       "                    x4\n",
       "                \n",
       "                <td id=\"T_2500ce8a_8591_11e6_8ee5_c82a142856adrow3_col1\" class=\"data row3 col1\">\n",
       "                    0.509001\n",
       "                \n",
       "            </tr>\n",
       "            \n",
       "            <tr>\n",
       "                \n",
       "                <th id=\"T_2500ce8a_8591_11e6_8ee5_c82a142856ad\" class=\"row_heading level1 row4\">\n",
       "                    x5\n",
       "                \n",
       "                <td id=\"T_2500ce8a_8591_11e6_8ee5_c82a142856adrow4_col0\" class=\"data row4 col0\">\n",
       "                    x5\n",
       "                \n",
       "                <td id=\"T_2500ce8a_8591_11e6_8ee5_c82a142856adrow4_col1\" class=\"data row4 col1\">\n",
       "                    0.787588\n",
       "                \n",
       "            </tr>\n",
       "            \n",
       "            <tr>\n",
       "                \n",
       "                <th id=\"T_2500ce8a_8591_11e6_8ee5_c82a142856ad\" class=\"row_heading level1 row5\">\n",
       "                    x6\n",
       "                \n",
       "                <td id=\"T_2500ce8a_8591_11e6_8ee5_c82a142856adrow5_col0\" class=\"data row5 col0\">\n",
       "                    x6\n",
       "                \n",
       "                <td id=\"T_2500ce8a_8591_11e6_8ee5_c82a142856adrow5_col1\" class=\"data row5 col1\">\n",
       "                    0.0381678\n",
       "                \n",
       "            </tr>\n",
       "            \n",
       "            <tr>\n",
       "                \n",
       "                <th id=\"T_2500ce8a_8591_11e6_8ee5_c82a142856ad\" class=\"row_heading level1 row6\">\n",
       "                    x7\n",
       "                \n",
       "                <td id=\"T_2500ce8a_8591_11e6_8ee5_c82a142856adrow6_col0\" class=\"data row6 col0\">\n",
       "                    x7\n",
       "                \n",
       "                <td id=\"T_2500ce8a_8591_11e6_8ee5_c82a142856adrow6_col1\" class=\"data row6 col1\">\n",
       "                    0.883804\n",
       "                \n",
       "            </tr>\n",
       "            \n",
       "            <tr>\n",
       "                \n",
       "                <th id=\"T_2500ce8a_8591_11e6_8ee5_c82a142856ad\" class=\"row_heading level1 row7\">\n",
       "                    x8\n",
       "                \n",
       "                <td id=\"T_2500ce8a_8591_11e6_8ee5_c82a142856adrow7_col0\" class=\"data row7 col0\">\n",
       "                    x8\n",
       "                \n",
       "                <td id=\"T_2500ce8a_8591_11e6_8ee5_c82a142856adrow7_col1\" class=\"data row7 col1\">\n",
       "                    0.88218\n",
       "                \n",
       "            </tr>\n",
       "            \n",
       "            <tr>\n",
       "                \n",
       "                <th id=\"T_2500ce8a_8591_11e6_8ee5_c82a142856ad\" class=\"row_heading level1 row8\">\n",
       "                    x9\n",
       "                \n",
       "                <td id=\"T_2500ce8a_8591_11e6_8ee5_c82a142856adrow8_col0\" class=\"data row8 col0\">\n",
       "                    x9\n",
       "                \n",
       "                <td id=\"T_2500ce8a_8591_11e6_8ee5_c82a142856adrow8_col1\" class=\"data row8 col1\">\n",
       "                    0.0436672\n",
       "                \n",
       "            </tr>\n",
       "            \n",
       "            <tr>\n",
       "                \n",
       "                <th id=\"T_2500ce8a_8591_11e6_8ee5_c82a142856ad\" class=\"row_heading level1 row9\">\n",
       "                    x10\n",
       "                \n",
       "                <td id=\"T_2500ce8a_8591_11e6_8ee5_c82a142856adrow9_col0\" class=\"data row9 col0\">\n",
       "                    x10\n",
       "                \n",
       "                <td id=\"T_2500ce8a_8591_11e6_8ee5_c82a142856adrow9_col1\" class=\"data row9 col1\">\n",
       "                    0.0566285\n",
       "                \n",
       "            </tr>\n",
       "            \n",
       "            <tr>\n",
       "                \n",
       "                <th id=\"T_2500ce8a_8591_11e6_8ee5_c82a142856ad\" class=\"row_heading level1 row10\">\n",
       "                    x11\n",
       "                \n",
       "                <td id=\"T_2500ce8a_8591_11e6_8ee5_c82a142856adrow10_col0\" class=\"data row10 col0\">\n",
       "                    x11\n",
       "                \n",
       "                <td id=\"T_2500ce8a_8591_11e6_8ee5_c82a142856adrow10_col1\" class=\"data row10 col1\">\n",
       "                    0.325544\n",
       "                \n",
       "            </tr>\n",
       "            \n",
       "            <tr>\n",
       "                \n",
       "                <th id=\"T_2500ce8a_8591_11e6_8ee5_c82a142856ad\" class=\"row_heading level1 row11\">\n",
       "                    x12\n",
       "                \n",
       "                <td id=\"T_2500ce8a_8591_11e6_8ee5_c82a142856adrow11_col0\" class=\"data row11 col0\">\n",
       "                    x12\n",
       "                \n",
       "                <td id=\"T_2500ce8a_8591_11e6_8ee5_c82a142856adrow11_col1\" class=\"data row11 col1\">\n",
       "                    0.0458382\n",
       "                \n",
       "            </tr>\n",
       "            \n",
       "            <tr>\n",
       "                \n",
       "                <th id=\"T_2500ce8a_8591_11e6_8ee5_c82a142856ad\" class=\"row_heading level1 row12\">\n",
       "                    x13\n",
       "                \n",
       "                <td id=\"T_2500ce8a_8591_11e6_8ee5_c82a142856adrow12_col0\" class=\"data row12 col0\">\n",
       "                    x13\n",
       "                \n",
       "                <td id=\"T_2500ce8a_8591_11e6_8ee5_c82a142856adrow12_col1\" class=\"data row12 col1\">\n",
       "                    0.158015\n",
       "                \n",
       "            </tr>\n",
       "            \n",
       "            <tr>\n",
       "                \n",
       "                <th id=\"T_2500ce8a_8591_11e6_8ee5_c82a142856ad\" class=\"row_heading level1 row13\">\n",
       "                    x14\n",
       "                \n",
       "                <td id=\"T_2500ce8a_8591_11e6_8ee5_c82a142856adrow13_col0\" class=\"data row13 col0\">\n",
       "                    x14\n",
       "                \n",
       "                <td id=\"T_2500ce8a_8591_11e6_8ee5_c82a142856adrow13_col1\" class=\"data row13 col1\">\n",
       "                    0.831702\n",
       "                \n",
       "            </tr>\n",
       "            \n",
       "            <tr>\n",
       "                \n",
       "                <th id=\"T_2500ce8a_8591_11e6_8ee5_c82a142856ad\" class=\"row_heading level1 row14\">\n",
       "                    x15\n",
       "                \n",
       "                <td id=\"T_2500ce8a_8591_11e6_8ee5_c82a142856adrow14_col0\" class=\"data row14 col0\">\n",
       "                    x15\n",
       "                \n",
       "                <td id=\"T_2500ce8a_8591_11e6_8ee5_c82a142856adrow14_col1\" class=\"data row14 col1\">\n",
       "                    0.0693301\n",
       "                \n",
       "            </tr>\n",
       "            \n",
       "        </tbody>\n",
       "        </table>\n",
       "        "
      ],
      "text/plain": [
       "<pandas.formats.style.Styler at 0x11d2aa150>"
      ]
     },
     "execution_count": 12,
     "metadata": {},
     "output_type": "execute_result"
    }
   ],
   "source": [
    "n = 15\n",
    "random.seed(2015)\n",
    "\n",
    "col = []\n",
    "for i in range(n):\n",
    "    col.append('x%d'%(i+1))\n",
    "\n",
    "X = pd.DataFrame(np.random.randn(50*n).reshape(50,n))\n",
    "Y = X.ix[:,:3].sum(axis = 1) + np.random.normal(0,1.1,50)\n",
    "data2 = pd.concat((Y,X), axis = 1)\n",
    "data2.columns = ['Y'] + col\n",
    "train = data2[:20]\n",
    "valid = data2[20:]\n",
    "# formstr = 'Y ~ -1+'+' + '.join(col)\n",
    "# lm1 = smf.ols(formula=formstr, data = train).fit()\n",
    "# lmy1 = lm1.predict(valid)\n",
    "# R2v = 1 - ((lmy1-valid.Y)**2).sum() / ((valid.Y-valid.Y.mean())**2).sum()\n",
    "# print('Validation R2 for 20 regressors is {0}'.format(R2v))\n",
    "\n",
    "def regress(mask):\n",
    "    formstr='Y~-1'\n",
    "    for i in range(0,len(mask)):\n",
    "        if mask[i]==1:\n",
    "            formstr += '+x%d'%(i+1)\n",
    "    lm2 = smf.ols(formula=formstr, data = train).fit()\n",
    "    lmy2 = lm2.predict(valid)\n",
    "    R2 = 1-sum(pow(lmy2-valid.Y,2))/sum(pow(valid.Y-mean(valid.Y),2))#*(n-1)/(n-sum(mask)-1)\n",
    "    return (R2,lm2)\n",
    "\n",
    "def DropP(threshold = 1):\n",
    "    mask_p = b.Pvalues < threshold\n",
    "    print('Validation R^2 is %f'%regress(mask_p)[0])\n",
    "    print(regress(mask_p)[1].summary())\n",
    "\n",
    "def FindBestI():\n",
    "    mask0 = [0] * n  #initially exclude all regressors\n",
    "    r2_0 = 0\n",
    "    ix = []\n",
    "    while True:\n",
    "        bestI = -1 #best regressor to exclude\n",
    "        for i in range(0,n):\n",
    "            if (mask0[i] == 0):\n",
    "                mask = mask0[:]\n",
    "                mask[i] = 1\n",
    "                r2 = regress(mask)[0]\n",
    "                #print((i,r2,r20))\n",
    "                if (r2 > r2_0):\n",
    "                    r2_0 = r2\n",
    "                    bestI = i\n",
    "        if (bestI >= 0):\n",
    "            mask0[bestI] = 1\n",
    "            ix.append('x%d'%(bestI+1))\n",
    "            #print((bestI,r2_0))\n",
    "            #print(regress(mask0)[-1])\n",
    "        else:\n",
    "            break\n",
    "    return mask0, ix\n",
    "\n",
    "mask0, ix = FindBestI()\n",
    "(r2_best,lm_best) = regress(mask0)\n",
    "(r2_1,lm_1) = regress([1]*n)\n",
    "\n",
    "#print(lm.summary())\n",
    "#ix\n",
    "#np.abs((data.corr() - np.eye(n+1))).max().max()\n",
    "b = pd.DataFrame({'Pvalues':lm_1.pvalues, 'Keeper':col})\n",
    "c = 'greenyellow'\n",
    "def highlight_pval(val):\n",
    "    color = c if val in ix else 'white'\n",
    "    return 'background-color: %s'% color\n",
    "# 'color: %s' % color\n",
    "b.style.\\\n",
    "    applymap(highlight_pval, subset=['Keeper']).\\\n",
    "    bar(subset = ['Pvalues'], color=c)"
   ]
  },
  {
   "cell_type": "markdown",
   "metadata": {},
   "source": [
    "### So this means we should select $x_1, x_2, x_3, x_4, x_{14}, x_{15}$ if we want to maximize validation $R^2$, which is about 0.776"
   ]
  },
  {
   "cell_type": "code",
   "execution_count": 13,
   "metadata": {
    "collapsed": false
   },
   "outputs": [
    {
     "name": "stdout",
     "output_type": "stream",
     "text": [
      "Validation R^2 is 0.776078\n",
      "                            OLS Regression Results                            \n",
      "==============================================================================\n",
      "Dep. Variable:                      Y   R-squared:                       0.675\n",
      "Model:                            OLS   Adj. R-squared:                  0.535\n",
      "Method:                 Least Squares   F-statistic:                     4.841\n",
      "Date:                Wed, 28 Sep 2016   Prob (F-statistic):            0.00711\n",
      "Time:                        11:35:11   Log-Likelihood:                -35.343\n",
      "No. Observations:                  20   AIC:                             82.69\n",
      "Df Residuals:                      14   BIC:                             88.66\n",
      "Df Model:                           6                                         \n",
      "Covariance Type:            nonrobust                                         \n",
      "==============================================================================\n",
      "                 coef    std err          t      P>|t|      [95.0% Conf. Int.]\n",
      "------------------------------------------------------------------------------\n",
      "x1             1.1879      0.509      2.336      0.035         0.097     2.279\n",
      "x2             0.9847      0.327      3.012      0.009         0.283     1.686\n",
      "x3             0.9475      0.483      1.962      0.070        -0.089     1.984\n",
      "x4             0.7814      0.466      1.678      0.116        -0.217     1.780\n",
      "x14           -0.0359      0.473     -0.076      0.941        -1.050     0.978\n",
      "x15            0.1365      0.684      0.199      0.845        -1.332     1.605\n",
      "==============================================================================\n",
      "Omnibus:                        2.532   Durbin-Watson:                   2.380\n",
      "Prob(Omnibus):                  0.282   Jarque-Bera (JB):                1.970\n",
      "Skew:                          -0.635   Prob(JB):                        0.373\n",
      "Kurtosis:                       2.134   Cond. No.                         2.90\n",
      "==============================================================================\n",
      "\n",
      "Warnings:\n",
      "[1] Standard Errors assume that the covariance matrix of the errors is correctly specified.\n"
     ]
    }
   ],
   "source": [
    "print('Validation R^2 is %f'%r2_best)\n",
    "print(lm_best.summary())"
   ]
  },
  {
   "cell_type": "markdown",
   "metadata": {},
   "source": [
    "### For comparison, if we only select the first four:"
   ]
  },
  {
   "cell_type": "code",
   "execution_count": 14,
   "metadata": {
    "collapsed": false
   },
   "outputs": [
    {
     "name": "stdout",
     "output_type": "stream",
     "text": [
      "Validation R^2 is 0.768779\n",
      "                            OLS Regression Results                            \n",
      "==============================================================================\n",
      "Dep. Variable:                      Y   R-squared:                       0.673\n",
      "Model:                            OLS   Adj. R-squared:                  0.592\n",
      "Method:                 Least Squares   F-statistic:                     8.243\n",
      "Date:                Wed, 28 Sep 2016   Prob (F-statistic):           0.000829\n",
      "Time:                        11:35:11   Log-Likelihood:                -35.387\n",
      "No. Observations:                  20   AIC:                             78.77\n",
      "Df Residuals:                      16   BIC:                             82.76\n",
      "Df Model:                           4                                         \n",
      "Covariance Type:            nonrobust                                         \n",
      "==============================================================================\n",
      "                 coef    std err          t      P>|t|      [95.0% Conf. Int.]\n",
      "------------------------------------------------------------------------------\n",
      "x1             1.1942      0.473      2.524      0.023         0.191     2.197\n",
      "x2             0.9848      0.306      3.222      0.005         0.337     1.633\n",
      "x3             0.9477      0.449      2.112      0.051        -0.004     1.899\n",
      "x4             0.7576      0.421      1.799      0.091        -0.135     1.650\n",
      "==============================================================================\n",
      "Omnibus:                        2.462   Durbin-Watson:                   2.434\n",
      "Prob(Omnibus):                  0.292   Jarque-Bera (JB):                1.960\n",
      "Skew:                          -0.646   Prob(JB):                        0.375\n",
      "Kurtosis:                       2.173   Cond. No.                         2.44\n",
      "==============================================================================\n",
      "\n",
      "Warnings:\n",
      "[1] Standard Errors assume that the covariance matrix of the errors is correctly specified.\n"
     ]
    }
   ],
   "source": [
    "(r2_2,lm_2) = regress([1]*4+[0]*(n-4))\n",
    "print('Validation R^2 is %f'%r2_2)\n",
    "print(lm_2.summary())"
   ]
  },
  {
   "cell_type": "markdown",
   "metadata": {},
   "source": [
    "### If we remove variables based on their p-value (if > 0.2), then we'll keep $x_2,x_3,x_6,x_9,x_{10},x_{12},x_{13}, x_{15}$, and the model's out of sample $R^2$ is ridiculously dropping to -1.73"
   ]
  },
  {
   "cell_type": "code",
   "execution_count": 15,
   "metadata": {
    "collapsed": false
   },
   "outputs": [
    {
     "name": "stdout",
     "output_type": "stream",
     "text": [
      "Validation R^2 is -1.730000\n",
      "                            OLS Regression Results                            \n",
      "==============================================================================\n",
      "Dep. Variable:                      Y   R-squared:                       0.871\n",
      "Model:                            OLS   Adj. R-squared:                  0.786\n",
      "Method:                 Least Squares   F-statistic:                     10.16\n",
      "Date:                Wed, 28 Sep 2016   Prob (F-statistic):           0.000268\n",
      "Time:                        11:35:12   Log-Likelihood:                -26.064\n",
      "No. Observations:                  20   AIC:                             68.13\n",
      "Df Residuals:                      12   BIC:                             76.09\n",
      "Df Model:                           8                                         \n",
      "Covariance Type:            nonrobust                                         \n",
      "==============================================================================\n",
      "                 coef    std err          t      P>|t|      [95.0% Conf. Int.]\n",
      "------------------------------------------------------------------------------\n",
      "x2             1.1917      0.262      4.553      0.001         0.621     1.762\n",
      "x3             1.0750      0.366      2.939      0.012         0.278     1.872\n",
      "x6             0.6906      0.264      2.612      0.023         0.115     1.267\n",
      "x9            -2.2160      0.425     -5.214      0.000        -3.142    -1.290\n",
      "x10            0.8756      0.375      2.334      0.038         0.058     1.693\n",
      "x12           -0.4692      0.226     -2.080      0.060        -0.961     0.022\n",
      "x13           -0.7376      0.302     -2.444      0.031        -1.395    -0.080\n",
      "x15            1.3661      0.486      2.812      0.016         0.308     2.425\n",
      "==============================================================================\n",
      "Omnibus:                        1.905   Durbin-Watson:                   0.922\n",
      "Prob(Omnibus):                  0.386   Jarque-Bera (JB):                1.333\n",
      "Skew:                           0.404   Prob(JB):                        0.514\n",
      "Kurtosis:                       2.027   Cond. No.                         3.48\n",
      "==============================================================================\n",
      "\n",
      "Warnings:\n",
      "[1] Standard Errors assume that the covariance matrix of the errors is correctly specified.\n"
     ]
    }
   ],
   "source": [
    "DropP(0.2)"
   ]
  },
  {
   "cell_type": "markdown",
   "metadata": {},
   "source": [
    "### At last, what about the \"true\" model that y is the sum of $x_1, x_2, x_3$?\n",
    "### (The validation $R^2$ drops significantly--although $x_4$ has high p-value, we can't remove it without jeopardizing our predication accuracy)"
   ]
  },
  {
   "cell_type": "code",
   "execution_count": 16,
   "metadata": {
    "collapsed": false
   },
   "outputs": [
    {
     "name": "stdout",
     "output_type": "stream",
     "text": [
      "Validation R^2 is 0.495947\n",
      "                            OLS Regression Results                            \n",
      "==============================================================================\n",
      "Dep. Variable:                      Y   R-squared:                       0.607\n",
      "Model:                            OLS   Adj. R-squared:                  0.538\n",
      "Method:                 Least Squares   F-statistic:                     8.759\n",
      "Date:                Wed, 28 Sep 2016   Prob (F-statistic):           0.000982\n",
      "Time:                        11:35:12   Log-Likelihood:                -37.230\n",
      "No. Observations:                  20   AIC:                             80.46\n",
      "Df Residuals:                      17   BIC:                             83.45\n",
      "Df Model:                           3                                         \n",
      "Covariance Type:            nonrobust                                         \n",
      "==============================================================================\n",
      "                 coef    std err          t      P>|t|      [95.0% Conf. Int.]\n",
      "------------------------------------------------------------------------------\n",
      "x1             0.6648      0.394      1.687      0.110        -0.167     1.496\n",
      "x2             0.8960      0.321      2.792      0.013         0.219     1.573\n",
      "x3             1.2402      0.445      2.788      0.013         0.302     2.179\n",
      "==============================================================================\n",
      "Omnibus:                        1.591   Durbin-Watson:                   2.276\n",
      "Prob(Omnibus):                  0.451   Jarque-Bera (JB):                1.321\n",
      "Skew:                          -0.478   Prob(JB):                        0.517\n",
      "Kurtosis:                       2.182   Cond. No.                         1.60\n",
      "==============================================================================\n",
      "\n",
      "Warnings:\n",
      "[1] Standard Errors assume that the covariance matrix of the errors is correctly specified.\n"
     ]
    }
   ],
   "source": [
    "(r2_3,lm_3) = regress([1]*3+[0]*(n-3))\n",
    "print('Validation R^2 is %f'%r2_3)\n",
    "print(lm_3.summary())"
   ]
  },
  {
   "cell_type": "markdown",
   "metadata": {},
   "source": [
    "### Only for reference: all variables included"
   ]
  },
  {
   "cell_type": "code",
   "execution_count": 17,
   "metadata": {
    "collapsed": false
   },
   "outputs": [
    {
     "name": "stdout",
     "output_type": "stream",
     "text": [
      "Validation R^2 is -2.070932\n",
      "                            OLS Regression Results                            \n",
      "==============================================================================\n",
      "Dep. Variable:                      Y   R-squared:                       0.946\n",
      "Model:                            OLS   Adj. R-squared:                  0.783\n",
      "Method:                 Least Squares   F-statistic:                     5.809\n",
      "Date:                Wed, 28 Sep 2016   Prob (F-statistic):             0.0310\n",
      "Time:                        11:35:12   Log-Likelihood:                -17.435\n",
      "No. Observations:                  20   AIC:                             64.87\n",
      "Df Residuals:                       5   BIC:                             79.81\n",
      "Df Model:                          15                                         \n",
      "Covariance Type:            nonrobust                                         \n",
      "==============================================================================\n",
      "                 coef    std err          t      P>|t|      [95.0% Conf. Int.]\n",
      "------------------------------------------------------------------------------\n",
      "x1             0.8006      0.560      1.429      0.212        -0.640     2.241\n",
      "x2             1.1670      0.312      3.742      0.013         0.365     1.969\n",
      "x3             1.2554      0.455      2.757      0.040         0.085     2.426\n",
      "x4             0.3932      0.553      0.711      0.509        -1.029     1.815\n",
      "x5            -0.1473      0.518     -0.284      0.788        -1.480     1.185\n",
      "x6             0.7876      0.282      2.796      0.038         0.064     1.512\n",
      "x7             0.0697      0.453      0.154      0.884        -1.096     1.235\n",
      "x8             0.0665      0.427      0.156      0.882        -1.030     1.163\n",
      "x9            -2.0627      0.769     -2.683      0.044        -4.039    -0.086\n",
      "x10            1.3802      0.559      2.469      0.057        -0.057     2.817\n",
      "x11            0.4987      0.458      1.090      0.326        -0.678     1.675\n",
      "x12           -0.7083      0.268     -2.642      0.046        -1.397    -0.019\n",
      "x13           -0.6975      0.420     -1.659      0.158        -1.778     0.383\n",
      "x14            0.1150      0.514      0.224      0.832        -1.205     1.435\n",
      "x15            1.6251      0.705      2.305      0.069        -0.187     3.437\n",
      "==============================================================================\n",
      "Omnibus:                        4.859   Durbin-Watson:                   1.869\n",
      "Prob(Omnibus):                  0.088   Jarque-Bera (JB):                2.735\n",
      "Skew:                          -0.829   Prob(JB):                        0.255\n",
      "Kurtosis:                       3.729   Cond. No.                         7.52\n",
      "==============================================================================\n",
      "\n",
      "Warnings:\n",
      "[1] Standard Errors assume that the covariance matrix of the errors is correctly specified.\n"
     ]
    }
   ],
   "source": [
    "DropP(1)"
   ]
  },
  {
   "cell_type": "code",
   "execution_count": null,
   "metadata": {
    "collapsed": true
   },
   "outputs": [],
   "source": []
  }
 ],
 "metadata": {
  "anaconda-cloud": {},
  "kernelspec": {
   "display_name": "Python [Root]",
   "language": "python",
   "name": "Python [Root]"
  },
  "language_info": {
   "codemirror_mode": {
    "name": "ipython",
    "version": 2
   },
   "file_extension": ".py",
   "mimetype": "text/x-python",
   "name": "python",
   "nbconvert_exporter": "python",
   "pygments_lexer": "ipython2",
   "version": "2.7.11"
  }
 },
 "nbformat": 4,
 "nbformat_minor": 0
}
